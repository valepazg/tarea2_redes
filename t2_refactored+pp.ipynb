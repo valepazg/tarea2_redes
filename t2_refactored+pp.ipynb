{
  "cells": [
    {
      "cell_type": "markdown",
      "metadata": {
        "id": "0rLfIEI2ZI5c"
      },
      "source": [
        "## Instalar Librerías e Importar el Dataset"
      ]
    },
    {
      "cell_type": "code",
      "execution_count": null,
      "metadata": {
        "colab": {
          "base_uri": "https://localhost:8080/"
        },
        "collapsed": true,
        "id": "wD980A30LRmC",
        "outputId": "9da4fdc5-e352-4723-ab5a-28cbde977f0b"
      },
      "outputs": [
        {
          "output_type": "stream",
          "name": "stdout",
          "text": [
            "Requirement already satisfied: ucimlrepo in /usr/local/lib/python3.10/dist-packages (0.0.7)\n",
            "Requirement already satisfied: aif360 in /usr/local/lib/python3.10/dist-packages (0.6.1)\n",
            "Requirement already satisfied: tensorflow in /usr/local/lib/python3.10/dist-packages (2.17.1)\n",
            "Requirement already satisfied: pandas>=1.0.0 in /usr/local/lib/python3.10/dist-packages (from ucimlrepo) (2.2.2)\n",
            "Requirement already satisfied: certifi>=2020.12.5 in /usr/local/lib/python3.10/dist-packages (from ucimlrepo) (2024.8.30)\n",
            "Requirement already satisfied: numpy>=1.16 in /usr/local/lib/python3.10/dist-packages (from aif360) (1.26.4)\n",
            "Requirement already satisfied: scipy>=1.2.0 in /usr/local/lib/python3.10/dist-packages (from aif360) (1.13.1)\n",
            "Requirement already satisfied: scikit-learn>=1.0 in /usr/local/lib/python3.10/dist-packages (from aif360) (1.5.2)\n",
            "Requirement already satisfied: matplotlib in /usr/local/lib/python3.10/dist-packages (from aif360) (3.8.0)\n",
            "Requirement already satisfied: fairlearn~=0.7 in /usr/local/lib/python3.10/dist-packages (from aif360[Reductions]) (0.11.0)\n",
            "Requirement already satisfied: skorch in /usr/local/lib/python3.10/dist-packages (from aif360[inFairness]) (1.0.0)\n",
            "Requirement already satisfied: inFairness>=0.2.2 in /usr/local/lib/python3.10/dist-packages (from aif360[inFairness]) (0.2.3)\n",
            "Requirement already satisfied: absl-py>=1.0.0 in /usr/local/lib/python3.10/dist-packages (from tensorflow) (1.4.0)\n",
            "Requirement already satisfied: astunparse>=1.6.0 in /usr/local/lib/python3.10/dist-packages (from tensorflow) (1.6.3)\n",
            "Requirement already satisfied: flatbuffers>=24.3.25 in /usr/local/lib/python3.10/dist-packages (from tensorflow) (24.3.25)\n",
            "Requirement already satisfied: gast!=0.5.0,!=0.5.1,!=0.5.2,>=0.2.1 in /usr/local/lib/python3.10/dist-packages (from tensorflow) (0.6.0)\n",
            "Requirement already satisfied: google-pasta>=0.1.1 in /usr/local/lib/python3.10/dist-packages (from tensorflow) (0.2.0)\n",
            "Requirement already satisfied: h5py>=3.10.0 in /usr/local/lib/python3.10/dist-packages (from tensorflow) (3.12.1)\n",
            "Requirement already satisfied: libclang>=13.0.0 in /usr/local/lib/python3.10/dist-packages (from tensorflow) (18.1.1)\n",
            "Requirement already satisfied: ml-dtypes<0.5.0,>=0.3.1 in /usr/local/lib/python3.10/dist-packages (from tensorflow) (0.4.1)\n",
            "Requirement already satisfied: opt-einsum>=2.3.2 in /usr/local/lib/python3.10/dist-packages (from tensorflow) (3.4.0)\n",
            "Requirement already satisfied: packaging in /usr/local/lib/python3.10/dist-packages (from tensorflow) (24.2)\n",
            "Requirement already satisfied: protobuf!=4.21.0,!=4.21.1,!=4.21.2,!=4.21.3,!=4.21.4,!=4.21.5,<5.0.0dev,>=3.20.3 in /usr/local/lib/python3.10/dist-packages (from tensorflow) (4.25.5)\n",
            "Requirement already satisfied: requests<3,>=2.21.0 in /usr/local/lib/python3.10/dist-packages (from tensorflow) (2.32.3)\n",
            "Requirement already satisfied: setuptools in /usr/local/lib/python3.10/dist-packages (from tensorflow) (75.1.0)\n",
            "Requirement already satisfied: six>=1.12.0 in /usr/local/lib/python3.10/dist-packages (from tensorflow) (1.16.0)\n",
            "Requirement already satisfied: termcolor>=1.1.0 in /usr/local/lib/python3.10/dist-packages (from tensorflow) (2.5.0)\n",
            "Requirement already satisfied: typing-extensions>=3.6.6 in /usr/local/lib/python3.10/dist-packages (from tensorflow) (4.12.2)\n",
            "Requirement already satisfied: wrapt>=1.11.0 in /usr/local/lib/python3.10/dist-packages (from tensorflow) (1.16.0)\n",
            "Requirement already satisfied: grpcio<2.0,>=1.24.3 in /usr/local/lib/python3.10/dist-packages (from tensorflow) (1.68.0)\n",
            "Requirement already satisfied: tensorboard<2.18,>=2.17 in /usr/local/lib/python3.10/dist-packages (from tensorflow) (2.17.1)\n",
            "Requirement already satisfied: keras>=3.2.0 in /usr/local/lib/python3.10/dist-packages (from tensorflow) (3.5.0)\n",
            "Requirement already satisfied: tensorflow-io-gcs-filesystem>=0.23.1 in /usr/local/lib/python3.10/dist-packages (from tensorflow) (0.37.1)\n",
            "Requirement already satisfied: wheel<1.0,>=0.23.0 in /usr/local/lib/python3.10/dist-packages (from astunparse>=1.6.0->tensorflow) (0.45.0)\n",
            "Requirement already satisfied: POT>=0.8.0 in /usr/local/lib/python3.10/dist-packages (from inFairness>=0.2.2->aif360[inFairness]) (0.9.5)\n",
            "Requirement already satisfied: torch>=1.13.0 in /usr/local/lib/python3.10/dist-packages (from inFairness>=0.2.2->aif360[inFairness]) (2.5.1+cu121)\n",
            "Requirement already satisfied: rich in /usr/local/lib/python3.10/dist-packages (from keras>=3.2.0->tensorflow) (13.9.4)\n",
            "Requirement already satisfied: namex in /usr/local/lib/python3.10/dist-packages (from keras>=3.2.0->tensorflow) (0.0.8)\n",
            "Requirement already satisfied: optree in /usr/local/lib/python3.10/dist-packages (from keras>=3.2.0->tensorflow) (0.13.1)\n",
            "Requirement already satisfied: python-dateutil>=2.8.2 in /usr/local/lib/python3.10/dist-packages (from pandas>=1.0.0->ucimlrepo) (2.8.2)\n",
            "Requirement already satisfied: pytz>=2020.1 in /usr/local/lib/python3.10/dist-packages (from pandas>=1.0.0->ucimlrepo) (2024.2)\n",
            "Requirement already satisfied: tzdata>=2022.7 in /usr/local/lib/python3.10/dist-packages (from pandas>=1.0.0->ucimlrepo) (2024.2)\n",
            "Requirement already satisfied: charset-normalizer<4,>=2 in /usr/local/lib/python3.10/dist-packages (from requests<3,>=2.21.0->tensorflow) (3.4.0)\n",
            "Requirement already satisfied: idna<4,>=2.5 in /usr/local/lib/python3.10/dist-packages (from requests<3,>=2.21.0->tensorflow) (3.10)\n",
            "Requirement already satisfied: urllib3<3,>=1.21.1 in /usr/local/lib/python3.10/dist-packages (from requests<3,>=2.21.0->tensorflow) (2.2.3)\n",
            "Requirement already satisfied: joblib>=1.2.0 in /usr/local/lib/python3.10/dist-packages (from scikit-learn>=1.0->aif360) (1.4.2)\n",
            "Requirement already satisfied: threadpoolctl>=3.1.0 in /usr/local/lib/python3.10/dist-packages (from scikit-learn>=1.0->aif360) (3.5.0)\n",
            "Requirement already satisfied: markdown>=2.6.8 in /usr/local/lib/python3.10/dist-packages (from tensorboard<2.18,>=2.17->tensorflow) (3.7)\n",
            "Requirement already satisfied: tensorboard-data-server<0.8.0,>=0.7.0 in /usr/local/lib/python3.10/dist-packages (from tensorboard<2.18,>=2.17->tensorflow) (0.7.2)\n",
            "Requirement already satisfied: werkzeug>=1.0.1 in /usr/local/lib/python3.10/dist-packages (from tensorboard<2.18,>=2.17->tensorflow) (3.1.3)\n",
            "Requirement already satisfied: contourpy>=1.0.1 in /usr/local/lib/python3.10/dist-packages (from matplotlib->aif360) (1.3.1)\n",
            "Requirement already satisfied: cycler>=0.10 in /usr/local/lib/python3.10/dist-packages (from matplotlib->aif360) (0.12.1)\n",
            "Requirement already satisfied: fonttools>=4.22.0 in /usr/local/lib/python3.10/dist-packages (from matplotlib->aif360) (4.55.0)\n",
            "Requirement already satisfied: kiwisolver>=1.0.1 in /usr/local/lib/python3.10/dist-packages (from matplotlib->aif360) (1.4.7)\n",
            "Requirement already satisfied: pillow>=6.2.0 in /usr/local/lib/python3.10/dist-packages (from matplotlib->aif360) (11.0.0)\n",
            "Requirement already satisfied: pyparsing>=2.3.1 in /usr/local/lib/python3.10/dist-packages (from matplotlib->aif360) (3.2.0)\n",
            "Requirement already satisfied: tabulate>=0.7.7 in /usr/local/lib/python3.10/dist-packages (from skorch->aif360[inFairness]) (0.9.0)\n",
            "Requirement already satisfied: tqdm>=4.14.0 in /usr/local/lib/python3.10/dist-packages (from skorch->aif360[inFairness]) (4.66.6)\n",
            "Requirement already satisfied: filelock in /usr/local/lib/python3.10/dist-packages (from torch>=1.13.0->inFairness>=0.2.2->aif360[inFairness]) (3.16.1)\n",
            "Requirement already satisfied: networkx in /usr/local/lib/python3.10/dist-packages (from torch>=1.13.0->inFairness>=0.2.2->aif360[inFairness]) (3.4.2)\n",
            "Requirement already satisfied: jinja2 in /usr/local/lib/python3.10/dist-packages (from torch>=1.13.0->inFairness>=0.2.2->aif360[inFairness]) (3.1.4)\n",
            "Requirement already satisfied: fsspec in /usr/local/lib/python3.10/dist-packages (from torch>=1.13.0->inFairness>=0.2.2->aif360[inFairness]) (2024.10.0)\n",
            "Requirement already satisfied: sympy==1.13.1 in /usr/local/lib/python3.10/dist-packages (from torch>=1.13.0->inFairness>=0.2.2->aif360[inFairness]) (1.13.1)\n",
            "Requirement already satisfied: mpmath<1.4,>=1.1.0 in /usr/local/lib/python3.10/dist-packages (from sympy==1.13.1->torch>=1.13.0->inFairness>=0.2.2->aif360[inFairness]) (1.3.0)\n",
            "Requirement already satisfied: MarkupSafe>=2.1.1 in /usr/local/lib/python3.10/dist-packages (from werkzeug>=1.0.1->tensorboard<2.18,>=2.17->tensorflow) (3.0.2)\n",
            "Requirement already satisfied: markdown-it-py>=2.2.0 in /usr/local/lib/python3.10/dist-packages (from rich->keras>=3.2.0->tensorflow) (3.0.0)\n",
            "Requirement already satisfied: pygments<3.0.0,>=2.13.0 in /usr/local/lib/python3.10/dist-packages (from rich->keras>=3.2.0->tensorflow) (2.18.0)\n",
            "Requirement already satisfied: mdurl~=0.1 in /usr/local/lib/python3.10/dist-packages (from markdown-it-py>=2.2.0->rich->keras>=3.2.0->tensorflow) (0.1.2)\n"
          ]
        }
      ],
      "source": [
        "%pip install ucimlrepo aif360 'aif360[Reductions]' 'aif360[inFairness]' tensorflow"
      ]
    },
    {
      "cell_type": "code",
      "execution_count": null,
      "metadata": {
        "colab": {
          "base_uri": "https://localhost:8080/"
        },
        "collapsed": true,
        "id": "IMyZSOOsZa1X",
        "outputId": "5381a94b-4c42-4138-fc4a-ee4e095dc688"
      },
      "outputs": [
        {
          "output_type": "stream",
          "name": "stderr",
          "text": [
            "/usr/local/lib/python3.10/dist-packages/inFairness/utils/ndcg.py:37: FutureWarning: We've integrated functorch into PyTorch. As the final step of the integration, `functorch.vmap` is deprecated as of PyTorch 2.0 and will be deleted in a future version of PyTorch >= 2.3. Please use `torch.vmap` instead; see the PyTorch 2.0 release notes and/or the `torch.func` migration guide for more details https://pytorch.org/docs/main/func.migrating.html\n",
            "  vect_normalized_discounted_cumulative_gain = vmap(\n",
            "/usr/local/lib/python3.10/dist-packages/inFairness/utils/ndcg.py:48: FutureWarning: We've integrated functorch into PyTorch. As the final step of the integration, `functorch.vmap` is deprecated as of PyTorch 2.0 and will be deleted in a future version of PyTorch >= 2.3. Please use `torch.vmap` instead; see the PyTorch 2.0 release notes and/or the `torch.func` migration guide for more details https://pytorch.org/docs/main/func.migrating.html\n",
            "  monte_carlo_vect_ndcg = vmap(vect_normalized_discounted_cumulative_gain, in_dims=(0,))\n"
          ]
        }
      ],
      "source": [
        "from ucimlrepo import fetch_ucirepo\n",
        "from aif360.datasets import BinaryLabelDataset\n",
        "from aif360.algorithms.preprocessing import Reweighing\n",
        "import numpy as np\n",
        "import pandas as pd\n",
        "from sklearn.model_selection import train_test_split\n",
        "from sklearn.preprocessing import MinMaxScaler, OneHotEncoder\n",
        "from sklearn.linear_model import LogisticRegression\n",
        "from sklearn.ensemble import RandomForestClassifier\n",
        "from sklearn.neighbors import KNeighborsClassifier\n",
        "from sklearn.metrics import accuracy_score\n",
        "from sklearn.metrics import confusion_matrix, classification_report\n",
        "from sklearn.preprocessing import LabelEncoder"
      ]
    },
    {
      "cell_type": "code",
      "execution_count": null,
      "metadata": {
        "colab": {
          "base_uri": "https://localhost:8080/"
        },
        "collapsed": true,
        "id": "4cOKrsx6Lk3m",
        "outputId": "2186fcc0-1739-4181-c391-245a109687d7"
      },
      "outputs": [
        {
          "output_type": "stream",
          "name": "stdout",
          "text": [
            "{'uci_id': 2, 'name': 'Adult', 'repository_url': 'https://archive.ics.uci.edu/dataset/2/adult', 'data_url': 'https://archive.ics.uci.edu/static/public/2/data.csv', 'abstract': 'Predict whether annual income of an individual exceeds $50K/yr based on census data. Also known as \"Census Income\" dataset. ', 'area': 'Social Science', 'tasks': ['Classification'], 'characteristics': ['Multivariate'], 'num_instances': 48842, 'num_features': 14, 'feature_types': ['Categorical', 'Integer'], 'demographics': ['Age', 'Income', 'Education Level', 'Other', 'Race', 'Sex'], 'target_col': ['income'], 'index_col': None, 'has_missing_values': 'yes', 'missing_values_symbol': 'NaN', 'year_of_dataset_creation': 1996, 'last_updated': 'Tue Sep 24 2024', 'dataset_doi': '10.24432/C5XW20', 'creators': ['Barry Becker', 'Ronny Kohavi'], 'intro_paper': None, 'additional_info': {'summary': \"Extraction was done by Barry Becker from the 1994 Census database.  A set of reasonably clean records was extracted using the following conditions: ((AAGE>16) && (AGI>100) && (AFNLWGT>1)&& (HRSWK>0))\\n\\nPrediction task is to determine whether a person's income is over $50,000 a year.\\n\", 'purpose': None, 'funded_by': None, 'instances_represent': None, 'recommended_data_splits': None, 'sensitive_data': None, 'preprocessing_description': None, 'variable_info': 'Listing of attributes:\\r\\n\\r\\n>50K, <=50K.\\r\\n\\r\\nage: continuous.\\r\\nworkclass: Private, Self-emp-not-inc, Self-emp-inc, Federal-gov, Local-gov, State-gov, Without-pay, Never-worked.\\r\\nfnlwgt: continuous.\\r\\neducation: Bachelors, Some-college, 11th, HS-grad, Prof-school, Assoc-acdm, Assoc-voc, 9th, 7th-8th, 12th, Masters, 1st-4th, 10th, Doctorate, 5th-6th, Preschool.\\r\\neducation-num: continuous.\\r\\nmarital-status: Married-civ-spouse, Divorced, Never-married, Separated, Widowed, Married-spouse-absent, Married-AF-spouse.\\r\\noccupation: Tech-support, Craft-repair, Other-service, Sales, Exec-managerial, Prof-specialty, Handlers-cleaners, Machine-op-inspct, Adm-clerical, Farming-fishing, Transport-moving, Priv-house-serv, Protective-serv, Armed-Forces.\\r\\nrelationship: Wife, Own-child, Husband, Not-in-family, Other-relative, Unmarried.\\r\\nrace: White, Asian-Pac-Islander, Amer-Indian-Eskimo, Other, Black.\\r\\nsex: Female, Male.\\r\\ncapital-gain: continuous.\\r\\ncapital-loss: continuous.\\r\\nhours-per-week: continuous.\\r\\nnative-country: United-States, Cambodia, England, Puerto-Rico, Canada, Germany, Outlying-US(Guam-USVI-etc), India, Japan, Greece, South, China, Cuba, Iran, Honduras, Philippines, Italy, Poland, Jamaica, Vietnam, Mexico, Portugal, Ireland, France, Dominican-Republic, Laos, Ecuador, Taiwan, Haiti, Columbia, Hungary, Guatemala, Nicaragua, Scotland, Thailand, Yugoslavia, El-Salvador, Trinadad&Tobago, Peru, Hong, Holand-Netherlands.', 'citation': None}}\n",
            "              name     role         type      demographic  \\\n",
            "0              age  Feature      Integer              Age   \n",
            "1        workclass  Feature  Categorical           Income   \n",
            "2           fnlwgt  Feature      Integer             None   \n",
            "3        education  Feature  Categorical  Education Level   \n",
            "4    education-num  Feature      Integer  Education Level   \n",
            "5   marital-status  Feature  Categorical            Other   \n",
            "6       occupation  Feature  Categorical            Other   \n",
            "7     relationship  Feature  Categorical            Other   \n",
            "8             race  Feature  Categorical             Race   \n",
            "9              sex  Feature       Binary              Sex   \n",
            "10    capital-gain  Feature      Integer             None   \n",
            "11    capital-loss  Feature      Integer             None   \n",
            "12  hours-per-week  Feature      Integer             None   \n",
            "13  native-country  Feature  Categorical            Other   \n",
            "14          income   Target       Binary           Income   \n",
            "\n",
            "                                          description units missing_values  \n",
            "0                                                 N/A  None             no  \n",
            "1   Private, Self-emp-not-inc, Self-emp-inc, Feder...  None            yes  \n",
            "2                                                None  None             no  \n",
            "3    Bachelors, Some-college, 11th, HS-grad, Prof-...  None             no  \n",
            "4                                                None  None             no  \n",
            "5   Married-civ-spouse, Divorced, Never-married, S...  None             no  \n",
            "6   Tech-support, Craft-repair, Other-service, Sal...  None            yes  \n",
            "7   Wife, Own-child, Husband, Not-in-family, Other...  None             no  \n",
            "8   White, Asian-Pac-Islander, Amer-Indian-Eskimo,...  None             no  \n",
            "9                                       Female, Male.  None             no  \n",
            "10                                               None  None             no  \n",
            "11                                               None  None             no  \n",
            "12                                               None  None             no  \n",
            "13  United-States, Cambodia, England, Puerto-Rico,...  None            yes  \n",
            "14                                       >50K, <=50K.  None             no  \n"
          ]
        }
      ],
      "source": [
        "# fetch dataset\n",
        "adult = fetch_ucirepo(id=2)\n",
        "\n",
        "# data (as pandas dataframes)\n",
        "X = adult.data.features\n",
        "y = adult.data.targets\n",
        "\n",
        "# metadata\n",
        "print(adult.metadata)\n",
        "\n",
        "# variable information\n",
        "print(adult.variables)\n"
      ]
    },
    {
      "cell_type": "markdown",
      "metadata": {
        "id": "ucfynq5YaWd-"
      },
      "source": [
        "## Preparar el Dataset"
      ]
    },
    {
      "cell_type": "code",
      "execution_count": null,
      "metadata": {
        "colab": {
          "base_uri": "https://localhost:8080/",
          "height": 310
        },
        "id": "_3ppeC1oMN2Z",
        "outputId": "c1e7b367-487e-4c85-d303-42ed7424c17e"
      },
      "outputs": [
        {
          "output_type": "execute_result",
          "data": {
            "text/plain": [
              "   age         workclass  fnlwgt  education  education-num  \\\n",
              "0   39         State-gov   77516  Bachelors             13   \n",
              "1   50  Self-emp-not-inc   83311  Bachelors             13   \n",
              "2   38           Private  215646    HS-grad              9   \n",
              "3   53           Private  234721       11th              7   \n",
              "4   28           Private  338409  Bachelors             13   \n",
              "\n",
              "       marital-status         occupation   relationship   race     sex  \\\n",
              "0       Never-married       Adm-clerical  Not-in-family  White    Male   \n",
              "1  Married-civ-spouse    Exec-managerial        Husband  White    Male   \n",
              "2            Divorced  Handlers-cleaners  Not-in-family  White    Male   \n",
              "3  Married-civ-spouse  Handlers-cleaners        Husband  Black    Male   \n",
              "4  Married-civ-spouse     Prof-specialty           Wife  Black  Female   \n",
              "\n",
              "   capital-gain  capital-loss  hours-per-week native-country income  \n",
              "0          2174             0              40  United-States  <=50K  \n",
              "1             0             0              13  United-States  <=50K  \n",
              "2             0             0              40  United-States  <=50K  \n",
              "3             0             0              40  United-States  <=50K  \n",
              "4             0             0              40           Cuba  <=50K  "
            ],
            "text/html": [
              "\n",
              "  <div id=\"df-04b9ec0d-be4b-461f-bdf6-be02daa79a2c\" class=\"colab-df-container\">\n",
              "    <div>\n",
              "<style scoped>\n",
              "    .dataframe tbody tr th:only-of-type {\n",
              "        vertical-align: middle;\n",
              "    }\n",
              "\n",
              "    .dataframe tbody tr th {\n",
              "        vertical-align: top;\n",
              "    }\n",
              "\n",
              "    .dataframe thead th {\n",
              "        text-align: right;\n",
              "    }\n",
              "</style>\n",
              "<table border=\"1\" class=\"dataframe\">\n",
              "  <thead>\n",
              "    <tr style=\"text-align: right;\">\n",
              "      <th></th>\n",
              "      <th>age</th>\n",
              "      <th>workclass</th>\n",
              "      <th>fnlwgt</th>\n",
              "      <th>education</th>\n",
              "      <th>education-num</th>\n",
              "      <th>marital-status</th>\n",
              "      <th>occupation</th>\n",
              "      <th>relationship</th>\n",
              "      <th>race</th>\n",
              "      <th>sex</th>\n",
              "      <th>capital-gain</th>\n",
              "      <th>capital-loss</th>\n",
              "      <th>hours-per-week</th>\n",
              "      <th>native-country</th>\n",
              "      <th>income</th>\n",
              "    </tr>\n",
              "  </thead>\n",
              "  <tbody>\n",
              "    <tr>\n",
              "      <th>0</th>\n",
              "      <td>39</td>\n",
              "      <td>State-gov</td>\n",
              "      <td>77516</td>\n",
              "      <td>Bachelors</td>\n",
              "      <td>13</td>\n",
              "      <td>Never-married</td>\n",
              "      <td>Adm-clerical</td>\n",
              "      <td>Not-in-family</td>\n",
              "      <td>White</td>\n",
              "      <td>Male</td>\n",
              "      <td>2174</td>\n",
              "      <td>0</td>\n",
              "      <td>40</td>\n",
              "      <td>United-States</td>\n",
              "      <td>&lt;=50K</td>\n",
              "    </tr>\n",
              "    <tr>\n",
              "      <th>1</th>\n",
              "      <td>50</td>\n",
              "      <td>Self-emp-not-inc</td>\n",
              "      <td>83311</td>\n",
              "      <td>Bachelors</td>\n",
              "      <td>13</td>\n",
              "      <td>Married-civ-spouse</td>\n",
              "      <td>Exec-managerial</td>\n",
              "      <td>Husband</td>\n",
              "      <td>White</td>\n",
              "      <td>Male</td>\n",
              "      <td>0</td>\n",
              "      <td>0</td>\n",
              "      <td>13</td>\n",
              "      <td>United-States</td>\n",
              "      <td>&lt;=50K</td>\n",
              "    </tr>\n",
              "    <tr>\n",
              "      <th>2</th>\n",
              "      <td>38</td>\n",
              "      <td>Private</td>\n",
              "      <td>215646</td>\n",
              "      <td>HS-grad</td>\n",
              "      <td>9</td>\n",
              "      <td>Divorced</td>\n",
              "      <td>Handlers-cleaners</td>\n",
              "      <td>Not-in-family</td>\n",
              "      <td>White</td>\n",
              "      <td>Male</td>\n",
              "      <td>0</td>\n",
              "      <td>0</td>\n",
              "      <td>40</td>\n",
              "      <td>United-States</td>\n",
              "      <td>&lt;=50K</td>\n",
              "    </tr>\n",
              "    <tr>\n",
              "      <th>3</th>\n",
              "      <td>53</td>\n",
              "      <td>Private</td>\n",
              "      <td>234721</td>\n",
              "      <td>11th</td>\n",
              "      <td>7</td>\n",
              "      <td>Married-civ-spouse</td>\n",
              "      <td>Handlers-cleaners</td>\n",
              "      <td>Husband</td>\n",
              "      <td>Black</td>\n",
              "      <td>Male</td>\n",
              "      <td>0</td>\n",
              "      <td>0</td>\n",
              "      <td>40</td>\n",
              "      <td>United-States</td>\n",
              "      <td>&lt;=50K</td>\n",
              "    </tr>\n",
              "    <tr>\n",
              "      <th>4</th>\n",
              "      <td>28</td>\n",
              "      <td>Private</td>\n",
              "      <td>338409</td>\n",
              "      <td>Bachelors</td>\n",
              "      <td>13</td>\n",
              "      <td>Married-civ-spouse</td>\n",
              "      <td>Prof-specialty</td>\n",
              "      <td>Wife</td>\n",
              "      <td>Black</td>\n",
              "      <td>Female</td>\n",
              "      <td>0</td>\n",
              "      <td>0</td>\n",
              "      <td>40</td>\n",
              "      <td>Cuba</td>\n",
              "      <td>&lt;=50K</td>\n",
              "    </tr>\n",
              "  </tbody>\n",
              "</table>\n",
              "</div>\n",
              "    <div class=\"colab-df-buttons\">\n",
              "\n",
              "  <div class=\"colab-df-container\">\n",
              "    <button class=\"colab-df-convert\" onclick=\"convertToInteractive('df-04b9ec0d-be4b-461f-bdf6-be02daa79a2c')\"\n",
              "            title=\"Convert this dataframe to an interactive table.\"\n",
              "            style=\"display:none;\">\n",
              "\n",
              "  <svg xmlns=\"http://www.w3.org/2000/svg\" height=\"24px\" viewBox=\"0 -960 960 960\">\n",
              "    <path d=\"M120-120v-720h720v720H120Zm60-500h600v-160H180v160Zm220 220h160v-160H400v160Zm0 220h160v-160H400v160ZM180-400h160v-160H180v160Zm440 0h160v-160H620v160ZM180-180h160v-160H180v160Zm440 0h160v-160H620v160Z\"/>\n",
              "  </svg>\n",
              "    </button>\n",
              "\n",
              "  <style>\n",
              "    .colab-df-container {\n",
              "      display:flex;\n",
              "      gap: 12px;\n",
              "    }\n",
              "\n",
              "    .colab-df-convert {\n",
              "      background-color: #E8F0FE;\n",
              "      border: none;\n",
              "      border-radius: 50%;\n",
              "      cursor: pointer;\n",
              "      display: none;\n",
              "      fill: #1967D2;\n",
              "      height: 32px;\n",
              "      padding: 0 0 0 0;\n",
              "      width: 32px;\n",
              "    }\n",
              "\n",
              "    .colab-df-convert:hover {\n",
              "      background-color: #E2EBFA;\n",
              "      box-shadow: 0px 1px 2px rgba(60, 64, 67, 0.3), 0px 1px 3px 1px rgba(60, 64, 67, 0.15);\n",
              "      fill: #174EA6;\n",
              "    }\n",
              "\n",
              "    .colab-df-buttons div {\n",
              "      margin-bottom: 4px;\n",
              "    }\n",
              "\n",
              "    [theme=dark] .colab-df-convert {\n",
              "      background-color: #3B4455;\n",
              "      fill: #D2E3FC;\n",
              "    }\n",
              "\n",
              "    [theme=dark] .colab-df-convert:hover {\n",
              "      background-color: #434B5C;\n",
              "      box-shadow: 0px 1px 3px 1px rgba(0, 0, 0, 0.15);\n",
              "      filter: drop-shadow(0px 1px 2px rgba(0, 0, 0, 0.3));\n",
              "      fill: #FFFFFF;\n",
              "    }\n",
              "  </style>\n",
              "\n",
              "    <script>\n",
              "      const buttonEl =\n",
              "        document.querySelector('#df-04b9ec0d-be4b-461f-bdf6-be02daa79a2c button.colab-df-convert');\n",
              "      buttonEl.style.display =\n",
              "        google.colab.kernel.accessAllowed ? 'block' : 'none';\n",
              "\n",
              "      async function convertToInteractive(key) {\n",
              "        const element = document.querySelector('#df-04b9ec0d-be4b-461f-bdf6-be02daa79a2c');\n",
              "        const dataTable =\n",
              "          await google.colab.kernel.invokeFunction('convertToInteractive',\n",
              "                                                    [key], {});\n",
              "        if (!dataTable) return;\n",
              "\n",
              "        const docLinkHtml = 'Like what you see? Visit the ' +\n",
              "          '<a target=\"_blank\" href=https://colab.research.google.com/notebooks/data_table.ipynb>data table notebook</a>'\n",
              "          + ' to learn more about interactive tables.';\n",
              "        element.innerHTML = '';\n",
              "        dataTable['output_type'] = 'display_data';\n",
              "        await google.colab.output.renderOutput(dataTable, element);\n",
              "        const docLink = document.createElement('div');\n",
              "        docLink.innerHTML = docLinkHtml;\n",
              "        element.appendChild(docLink);\n",
              "      }\n",
              "    </script>\n",
              "  </div>\n",
              "\n",
              "\n",
              "<div id=\"df-c91927c1-e525-49dd-a50c-d0bb9645b263\">\n",
              "  <button class=\"colab-df-quickchart\" onclick=\"quickchart('df-c91927c1-e525-49dd-a50c-d0bb9645b263')\"\n",
              "            title=\"Suggest charts\"\n",
              "            style=\"display:none;\">\n",
              "\n",
              "<svg xmlns=\"http://www.w3.org/2000/svg\" height=\"24px\"viewBox=\"0 0 24 24\"\n",
              "     width=\"24px\">\n",
              "    <g>\n",
              "        <path d=\"M19 3H5c-1.1 0-2 .9-2 2v14c0 1.1.9 2 2 2h14c1.1 0 2-.9 2-2V5c0-1.1-.9-2-2-2zM9 17H7v-7h2v7zm4 0h-2V7h2v10zm4 0h-2v-4h2v4z\"/>\n",
              "    </g>\n",
              "</svg>\n",
              "  </button>\n",
              "\n",
              "<style>\n",
              "  .colab-df-quickchart {\n",
              "      --bg-color: #E8F0FE;\n",
              "      --fill-color: #1967D2;\n",
              "      --hover-bg-color: #E2EBFA;\n",
              "      --hover-fill-color: #174EA6;\n",
              "      --disabled-fill-color: #AAA;\n",
              "      --disabled-bg-color: #DDD;\n",
              "  }\n",
              "\n",
              "  [theme=dark] .colab-df-quickchart {\n",
              "      --bg-color: #3B4455;\n",
              "      --fill-color: #D2E3FC;\n",
              "      --hover-bg-color: #434B5C;\n",
              "      --hover-fill-color: #FFFFFF;\n",
              "      --disabled-bg-color: #3B4455;\n",
              "      --disabled-fill-color: #666;\n",
              "  }\n",
              "\n",
              "  .colab-df-quickchart {\n",
              "    background-color: var(--bg-color);\n",
              "    border: none;\n",
              "    border-radius: 50%;\n",
              "    cursor: pointer;\n",
              "    display: none;\n",
              "    fill: var(--fill-color);\n",
              "    height: 32px;\n",
              "    padding: 0;\n",
              "    width: 32px;\n",
              "  }\n",
              "\n",
              "  .colab-df-quickchart:hover {\n",
              "    background-color: var(--hover-bg-color);\n",
              "    box-shadow: 0 1px 2px rgba(60, 64, 67, 0.3), 0 1px 3px 1px rgba(60, 64, 67, 0.15);\n",
              "    fill: var(--button-hover-fill-color);\n",
              "  }\n",
              "\n",
              "  .colab-df-quickchart-complete:disabled,\n",
              "  .colab-df-quickchart-complete:disabled:hover {\n",
              "    background-color: var(--disabled-bg-color);\n",
              "    fill: var(--disabled-fill-color);\n",
              "    box-shadow: none;\n",
              "  }\n",
              "\n",
              "  .colab-df-spinner {\n",
              "    border: 2px solid var(--fill-color);\n",
              "    border-color: transparent;\n",
              "    border-bottom-color: var(--fill-color);\n",
              "    animation:\n",
              "      spin 1s steps(1) infinite;\n",
              "  }\n",
              "\n",
              "  @keyframes spin {\n",
              "    0% {\n",
              "      border-color: transparent;\n",
              "      border-bottom-color: var(--fill-color);\n",
              "      border-left-color: var(--fill-color);\n",
              "    }\n",
              "    20% {\n",
              "      border-color: transparent;\n",
              "      border-left-color: var(--fill-color);\n",
              "      border-top-color: var(--fill-color);\n",
              "    }\n",
              "    30% {\n",
              "      border-color: transparent;\n",
              "      border-left-color: var(--fill-color);\n",
              "      border-top-color: var(--fill-color);\n",
              "      border-right-color: var(--fill-color);\n",
              "    }\n",
              "    40% {\n",
              "      border-color: transparent;\n",
              "      border-right-color: var(--fill-color);\n",
              "      border-top-color: var(--fill-color);\n",
              "    }\n",
              "    60% {\n",
              "      border-color: transparent;\n",
              "      border-right-color: var(--fill-color);\n",
              "    }\n",
              "    80% {\n",
              "      border-color: transparent;\n",
              "      border-right-color: var(--fill-color);\n",
              "      border-bottom-color: var(--fill-color);\n",
              "    }\n",
              "    90% {\n",
              "      border-color: transparent;\n",
              "      border-bottom-color: var(--fill-color);\n",
              "    }\n",
              "  }\n",
              "</style>\n",
              "\n",
              "  <script>\n",
              "    async function quickchart(key) {\n",
              "      const quickchartButtonEl =\n",
              "        document.querySelector('#' + key + ' button');\n",
              "      quickchartButtonEl.disabled = true;  // To prevent multiple clicks.\n",
              "      quickchartButtonEl.classList.add('colab-df-spinner');\n",
              "      try {\n",
              "        const charts = await google.colab.kernel.invokeFunction(\n",
              "            'suggestCharts', [key], {});\n",
              "      } catch (error) {\n",
              "        console.error('Error during call to suggestCharts:', error);\n",
              "      }\n",
              "      quickchartButtonEl.classList.remove('colab-df-spinner');\n",
              "      quickchartButtonEl.classList.add('colab-df-quickchart-complete');\n",
              "    }\n",
              "    (() => {\n",
              "      let quickchartButtonEl =\n",
              "        document.querySelector('#df-c91927c1-e525-49dd-a50c-d0bb9645b263 button');\n",
              "      quickchartButtonEl.style.display =\n",
              "        google.colab.kernel.accessAllowed ? 'block' : 'none';\n",
              "    })();\n",
              "  </script>\n",
              "</div>\n",
              "\n",
              "    </div>\n",
              "  </div>\n"
            ],
            "application/vnd.google.colaboratory.intrinsic+json": {
              "type": "dataframe",
              "variable_name": "df",
              "summary": "{\n  \"name\": \"df\",\n  \"rows\": 47621,\n  \"fields\": [\n    {\n      \"column\": \"age\",\n      \"properties\": {\n        \"dtype\": \"number\",\n        \"std\": 13,\n        \"min\": 17,\n        \"max\": 90,\n        \"num_unique_values\": 74,\n        \"samples\": [\n          28,\n          73,\n          35\n        ],\n        \"semantic_type\": \"\",\n        \"description\": \"\"\n      }\n    },\n    {\n      \"column\": \"workclass\",\n      \"properties\": {\n        \"dtype\": \"category\",\n        \"num_unique_values\": 9,\n        \"samples\": [\n          \"Without-pay\",\n          \"Self-emp-not-inc\",\n          \"?\"\n        ],\n        \"semantic_type\": \"\",\n        \"description\": \"\"\n      }\n    },\n    {\n      \"column\": \"fnlwgt\",\n      \"properties\": {\n        \"dtype\": \"number\",\n        \"std\": 105569,\n        \"min\": 12285,\n        \"max\": 1490400,\n        \"num_unique_values\": 27946,\n        \"samples\": [\n          216269,\n          204172,\n          380922\n        ],\n        \"semantic_type\": \"\",\n        \"description\": \"\"\n      }\n    },\n    {\n      \"column\": \"education\",\n      \"properties\": {\n        \"dtype\": \"category\",\n        \"num_unique_values\": 16,\n        \"samples\": [\n          \"Bachelors\",\n          \"HS-grad\",\n          \"Some-college\"\n        ],\n        \"semantic_type\": \"\",\n        \"description\": \"\"\n      }\n    },\n    {\n      \"column\": \"education-num\",\n      \"properties\": {\n        \"dtype\": \"number\",\n        \"std\": 2,\n        \"min\": 1,\n        \"max\": 16,\n        \"num_unique_values\": 16,\n        \"samples\": [\n          13,\n          9,\n          10\n        ],\n        \"semantic_type\": \"\",\n        \"description\": \"\"\n      }\n    },\n    {\n      \"column\": \"marital-status\",\n      \"properties\": {\n        \"dtype\": \"category\",\n        \"num_unique_values\": 7,\n        \"samples\": [\n          \"Never-married\",\n          \"Married-civ-spouse\",\n          \"Married-AF-spouse\"\n        ],\n        \"semantic_type\": \"\",\n        \"description\": \"\"\n      }\n    },\n    {\n      \"column\": \"occupation\",\n      \"properties\": {\n        \"dtype\": \"category\",\n        \"num_unique_values\": 15,\n        \"samples\": [\n          \"Machine-op-inspct\",\n          \"?\",\n          \"Adm-clerical\"\n        ],\n        \"semantic_type\": \"\",\n        \"description\": \"\"\n      }\n    },\n    {\n      \"column\": \"relationship\",\n      \"properties\": {\n        \"dtype\": \"category\",\n        \"num_unique_values\": 6,\n        \"samples\": [\n          \"Not-in-family\",\n          \"Husband\",\n          \"Other-relative\"\n        ],\n        \"semantic_type\": \"\",\n        \"description\": \"\"\n      }\n    },\n    {\n      \"column\": \"race\",\n      \"properties\": {\n        \"dtype\": \"category\",\n        \"num_unique_values\": 5,\n        \"samples\": [\n          \"Black\",\n          \"Other\",\n          \"Asian-Pac-Islander\"\n        ],\n        \"semantic_type\": \"\",\n        \"description\": \"\"\n      }\n    },\n    {\n      \"column\": \"sex\",\n      \"properties\": {\n        \"dtype\": \"category\",\n        \"num_unique_values\": 2,\n        \"samples\": [\n          \"Female\",\n          \"Male\"\n        ],\n        \"semantic_type\": \"\",\n        \"description\": \"\"\n      }\n    },\n    {\n      \"column\": \"capital-gain\",\n      \"properties\": {\n        \"dtype\": \"number\",\n        \"std\": 7487,\n        \"min\": 0,\n        \"max\": 99999,\n        \"num_unique_values\": 122,\n        \"samples\": [\n          2176,\n          10520\n        ],\n        \"semantic_type\": \"\",\n        \"description\": \"\"\n      }\n    },\n    {\n      \"column\": \"capital-loss\",\n      \"properties\": {\n        \"dtype\": \"number\",\n        \"std\": 404,\n        \"min\": 0,\n        \"max\": 4356,\n        \"num_unique_values\": 98,\n        \"samples\": [\n          1974,\n          419\n        ],\n        \"semantic_type\": \"\",\n        \"description\": \"\"\n      }\n    },\n    {\n      \"column\": \"hours-per-week\",\n      \"properties\": {\n        \"dtype\": \"number\",\n        \"std\": 12,\n        \"min\": 1,\n        \"max\": 99,\n        \"num_unique_values\": 96,\n        \"samples\": [\n          97,\n          88\n        ],\n        \"semantic_type\": \"\",\n        \"description\": \"\"\n      }\n    },\n    {\n      \"column\": \"native-country\",\n      \"properties\": {\n        \"dtype\": \"category\",\n        \"num_unique_values\": 42,\n        \"samples\": [\n          \"El-Salvador\",\n          \"Philippines\"\n        ],\n        \"semantic_type\": \"\",\n        \"description\": \"\"\n      }\n    },\n    {\n      \"column\": \"income\",\n      \"properties\": {\n        \"dtype\": \"category\",\n        \"num_unique_values\": 2,\n        \"samples\": [\n          \">50K\",\n          \"<=50K\"\n        ],\n        \"semantic_type\": \"\",\n        \"description\": \"\"\n      }\n    }\n  ]\n}"
            }
          },
          "metadata": {},
          "execution_count": 4
        }
      ],
      "source": [
        "def clean_labels(label: str):\n",
        "    return label.replace(\".\", \"\").replace(\" \", \"_\")\n",
        "\n",
        "X_df = pd.DataFrame(X)\n",
        "y_df = pd.DataFrame(y)\n",
        "\n",
        "y_df = y_df.map(clean_labels)\n",
        "\n",
        "df = pd.concat([X_df, y_df], axis=1)\n",
        "df.dropna(inplace=True)\n",
        "df.head()"
      ]
    },
    {
      "cell_type": "code",
      "execution_count": null,
      "metadata": {
        "colab": {
          "base_uri": "https://localhost:8080/"
        },
        "id": "hcdiBpuM-qVU",
        "outputId": "47a13074-ac9c-4a1e-b480-e6e8f711e147"
      },
      "outputs": [
        {
          "output_type": "execute_result",
          "data": {
            "text/plain": [
              "(47621, 15)"
            ]
          },
          "metadata": {},
          "execution_count": 5
        }
      ],
      "source": [
        "df.shape"
      ]
    },
    {
      "cell_type": "code",
      "execution_count": null,
      "metadata": {
        "id": "ssZ8SjneQN8X"
      },
      "outputs": [],
      "source": [
        "X_df_clean = df.drop(columns=['income'])\n",
        "y_df_clean = df['income']"
      ]
    },
    {
      "cell_type": "code",
      "execution_count": null,
      "metadata": {
        "id": "QS-zM6tTMqP2"
      },
      "outputs": [],
      "source": [
        "X_train, X_test, y_train, y_test = train_test_split(X_df_clean, y_df_clean, test_size=0.3, stratify=y_df_clean, random_state=42)"
      ]
    },
    {
      "cell_type": "code",
      "execution_count": null,
      "metadata": {
        "id": "rCoJ1qFb-qVV"
      },
      "outputs": [],
      "source": [
        "X_train = pd.DataFrame(X_train, columns=X_df_clean.columns)\n",
        "X_test = pd.DataFrame(X_test, columns=X_df_clean.columns)\n",
        "\n",
        "y_train = pd.DataFrame(y_train, columns=['income'])\n",
        "y_test = pd.DataFrame(y_test, columns=['income'])"
      ]
    },
    {
      "cell_type": "code",
      "execution_count": null,
      "metadata": {
        "id": "ufkxN0W1-qVV"
      },
      "outputs": [],
      "source": [
        "# Sex map\n",
        "mapping_sex = {\"Female\": 0, \"Male\": 1}\n",
        "# Income map\n",
        "mapping_income = {\"<=50K\": 0, \">50K\": 1}\n",
        "\n",
        "def map_col(\n",
        "    df: pd.DataFrame,\n",
        "    col: str,\n",
        "    mapping: dict,\n",
        ") -> pd.DataFrame:\n",
        "    df[col] = df[col].map(mapping)\n",
        "    return df"
      ]
    },
    {
      "cell_type": "code",
      "execution_count": null,
      "metadata": {
        "id": "MH650BmW-qVW"
      },
      "outputs": [],
      "source": [
        "# Preprocessing train data\n",
        "X_train['age'] = X_train['age'].apply(lambda x: 1 if x < 60 else 0)\n",
        "X_train = map_col(X_train, \"sex\", mapping_sex)\n",
        "\n",
        "y_train = map_col(y_train, \"income\", mapping_income)\n",
        "\n",
        "# Preprocessing test data\n",
        "X_test['age'] = X_test['age'].apply(lambda x: 1 if x < 60 else 0)\n",
        "X_test = map_col(X_test, \"sex\", mapping_sex)\n",
        "\n",
        "y_test = map_col(y_test, \"income\", mapping_income)"
      ]
    },
    {
      "cell_type": "code",
      "execution_count": null,
      "metadata": {
        "colab": {
          "base_uri": "https://localhost:8080/",
          "height": 310
        },
        "id": "WCFPT7Lt-qVW",
        "outputId": "7d34533e-dd89-49df-ca47-27fd369fbb26"
      },
      "outputs": [
        {
          "output_type": "execute_result",
          "data": {
            "text/plain": [
              "       age         workclass  fnlwgt     education  education-num  \\\n",
              "26818    1           Private  202033     Bachelors             13   \n",
              "28252    1           Private  340599          11th              7   \n",
              "9258     1         State-gov  177035          11th              7   \n",
              "41064    1  Self-emp-not-inc   30012  Some-college             10   \n",
              "30461    1           Private  185216  Some-college             10   \n",
              "\n",
              "           marital-status      occupation relationship   race  sex  \\\n",
              "26818  Married-civ-spouse  Prof-specialty      Husband  White    1   \n",
              "28252           Separated   Other-service    Unmarried  Black    0   \n",
              "9258             Divorced   Other-service    Unmarried  White    0   \n",
              "41064  Married-civ-spouse           Sales      Husband  White    1   \n",
              "30461       Never-married    Adm-clerical    Own-child  White    1   \n",
              "\n",
              "       capital-gain  capital-loss  hours-per-week native-country  \n",
              "26818             0             0              40  United-States  \n",
              "28252             0             0              40  United-States  \n",
              "9258              0             0              40  United-States  \n",
              "41064             0             0              50  United-States  \n",
              "30461             0             0              40  United-States  "
            ],
            "text/html": [
              "\n",
              "  <div id=\"df-fe28c980-3c26-416d-8d5b-9871176ba60a\" class=\"colab-df-container\">\n",
              "    <div>\n",
              "<style scoped>\n",
              "    .dataframe tbody tr th:only-of-type {\n",
              "        vertical-align: middle;\n",
              "    }\n",
              "\n",
              "    .dataframe tbody tr th {\n",
              "        vertical-align: top;\n",
              "    }\n",
              "\n",
              "    .dataframe thead th {\n",
              "        text-align: right;\n",
              "    }\n",
              "</style>\n",
              "<table border=\"1\" class=\"dataframe\">\n",
              "  <thead>\n",
              "    <tr style=\"text-align: right;\">\n",
              "      <th></th>\n",
              "      <th>age</th>\n",
              "      <th>workclass</th>\n",
              "      <th>fnlwgt</th>\n",
              "      <th>education</th>\n",
              "      <th>education-num</th>\n",
              "      <th>marital-status</th>\n",
              "      <th>occupation</th>\n",
              "      <th>relationship</th>\n",
              "      <th>race</th>\n",
              "      <th>sex</th>\n",
              "      <th>capital-gain</th>\n",
              "      <th>capital-loss</th>\n",
              "      <th>hours-per-week</th>\n",
              "      <th>native-country</th>\n",
              "    </tr>\n",
              "  </thead>\n",
              "  <tbody>\n",
              "    <tr>\n",
              "      <th>26818</th>\n",
              "      <td>1</td>\n",
              "      <td>Private</td>\n",
              "      <td>202033</td>\n",
              "      <td>Bachelors</td>\n",
              "      <td>13</td>\n",
              "      <td>Married-civ-spouse</td>\n",
              "      <td>Prof-specialty</td>\n",
              "      <td>Husband</td>\n",
              "      <td>White</td>\n",
              "      <td>1</td>\n",
              "      <td>0</td>\n",
              "      <td>0</td>\n",
              "      <td>40</td>\n",
              "      <td>United-States</td>\n",
              "    </tr>\n",
              "    <tr>\n",
              "      <th>28252</th>\n",
              "      <td>1</td>\n",
              "      <td>Private</td>\n",
              "      <td>340599</td>\n",
              "      <td>11th</td>\n",
              "      <td>7</td>\n",
              "      <td>Separated</td>\n",
              "      <td>Other-service</td>\n",
              "      <td>Unmarried</td>\n",
              "      <td>Black</td>\n",
              "      <td>0</td>\n",
              "      <td>0</td>\n",
              "      <td>0</td>\n",
              "      <td>40</td>\n",
              "      <td>United-States</td>\n",
              "    </tr>\n",
              "    <tr>\n",
              "      <th>9258</th>\n",
              "      <td>1</td>\n",
              "      <td>State-gov</td>\n",
              "      <td>177035</td>\n",
              "      <td>11th</td>\n",
              "      <td>7</td>\n",
              "      <td>Divorced</td>\n",
              "      <td>Other-service</td>\n",
              "      <td>Unmarried</td>\n",
              "      <td>White</td>\n",
              "      <td>0</td>\n",
              "      <td>0</td>\n",
              "      <td>0</td>\n",
              "      <td>40</td>\n",
              "      <td>United-States</td>\n",
              "    </tr>\n",
              "    <tr>\n",
              "      <th>41064</th>\n",
              "      <td>1</td>\n",
              "      <td>Self-emp-not-inc</td>\n",
              "      <td>30012</td>\n",
              "      <td>Some-college</td>\n",
              "      <td>10</td>\n",
              "      <td>Married-civ-spouse</td>\n",
              "      <td>Sales</td>\n",
              "      <td>Husband</td>\n",
              "      <td>White</td>\n",
              "      <td>1</td>\n",
              "      <td>0</td>\n",
              "      <td>0</td>\n",
              "      <td>50</td>\n",
              "      <td>United-States</td>\n",
              "    </tr>\n",
              "    <tr>\n",
              "      <th>30461</th>\n",
              "      <td>1</td>\n",
              "      <td>Private</td>\n",
              "      <td>185216</td>\n",
              "      <td>Some-college</td>\n",
              "      <td>10</td>\n",
              "      <td>Never-married</td>\n",
              "      <td>Adm-clerical</td>\n",
              "      <td>Own-child</td>\n",
              "      <td>White</td>\n",
              "      <td>1</td>\n",
              "      <td>0</td>\n",
              "      <td>0</td>\n",
              "      <td>40</td>\n",
              "      <td>United-States</td>\n",
              "    </tr>\n",
              "  </tbody>\n",
              "</table>\n",
              "</div>\n",
              "    <div class=\"colab-df-buttons\">\n",
              "\n",
              "  <div class=\"colab-df-container\">\n",
              "    <button class=\"colab-df-convert\" onclick=\"convertToInteractive('df-fe28c980-3c26-416d-8d5b-9871176ba60a')\"\n",
              "            title=\"Convert this dataframe to an interactive table.\"\n",
              "            style=\"display:none;\">\n",
              "\n",
              "  <svg xmlns=\"http://www.w3.org/2000/svg\" height=\"24px\" viewBox=\"0 -960 960 960\">\n",
              "    <path d=\"M120-120v-720h720v720H120Zm60-500h600v-160H180v160Zm220 220h160v-160H400v160Zm0 220h160v-160H400v160ZM180-400h160v-160H180v160Zm440 0h160v-160H620v160ZM180-180h160v-160H180v160Zm440 0h160v-160H620v160Z\"/>\n",
              "  </svg>\n",
              "    </button>\n",
              "\n",
              "  <style>\n",
              "    .colab-df-container {\n",
              "      display:flex;\n",
              "      gap: 12px;\n",
              "    }\n",
              "\n",
              "    .colab-df-convert {\n",
              "      background-color: #E8F0FE;\n",
              "      border: none;\n",
              "      border-radius: 50%;\n",
              "      cursor: pointer;\n",
              "      display: none;\n",
              "      fill: #1967D2;\n",
              "      height: 32px;\n",
              "      padding: 0 0 0 0;\n",
              "      width: 32px;\n",
              "    }\n",
              "\n",
              "    .colab-df-convert:hover {\n",
              "      background-color: #E2EBFA;\n",
              "      box-shadow: 0px 1px 2px rgba(60, 64, 67, 0.3), 0px 1px 3px 1px rgba(60, 64, 67, 0.15);\n",
              "      fill: #174EA6;\n",
              "    }\n",
              "\n",
              "    .colab-df-buttons div {\n",
              "      margin-bottom: 4px;\n",
              "    }\n",
              "\n",
              "    [theme=dark] .colab-df-convert {\n",
              "      background-color: #3B4455;\n",
              "      fill: #D2E3FC;\n",
              "    }\n",
              "\n",
              "    [theme=dark] .colab-df-convert:hover {\n",
              "      background-color: #434B5C;\n",
              "      box-shadow: 0px 1px 3px 1px rgba(0, 0, 0, 0.15);\n",
              "      filter: drop-shadow(0px 1px 2px rgba(0, 0, 0, 0.3));\n",
              "      fill: #FFFFFF;\n",
              "    }\n",
              "  </style>\n",
              "\n",
              "    <script>\n",
              "      const buttonEl =\n",
              "        document.querySelector('#df-fe28c980-3c26-416d-8d5b-9871176ba60a button.colab-df-convert');\n",
              "      buttonEl.style.display =\n",
              "        google.colab.kernel.accessAllowed ? 'block' : 'none';\n",
              "\n",
              "      async function convertToInteractive(key) {\n",
              "        const element = document.querySelector('#df-fe28c980-3c26-416d-8d5b-9871176ba60a');\n",
              "        const dataTable =\n",
              "          await google.colab.kernel.invokeFunction('convertToInteractive',\n",
              "                                                    [key], {});\n",
              "        if (!dataTable) return;\n",
              "\n",
              "        const docLinkHtml = 'Like what you see? Visit the ' +\n",
              "          '<a target=\"_blank\" href=https://colab.research.google.com/notebooks/data_table.ipynb>data table notebook</a>'\n",
              "          + ' to learn more about interactive tables.';\n",
              "        element.innerHTML = '';\n",
              "        dataTable['output_type'] = 'display_data';\n",
              "        await google.colab.output.renderOutput(dataTable, element);\n",
              "        const docLink = document.createElement('div');\n",
              "        docLink.innerHTML = docLinkHtml;\n",
              "        element.appendChild(docLink);\n",
              "      }\n",
              "    </script>\n",
              "  </div>\n",
              "\n",
              "\n",
              "<div id=\"df-a1d0597d-b9b8-4897-b6e0-cae481149563\">\n",
              "  <button class=\"colab-df-quickchart\" onclick=\"quickchart('df-a1d0597d-b9b8-4897-b6e0-cae481149563')\"\n",
              "            title=\"Suggest charts\"\n",
              "            style=\"display:none;\">\n",
              "\n",
              "<svg xmlns=\"http://www.w3.org/2000/svg\" height=\"24px\"viewBox=\"0 0 24 24\"\n",
              "     width=\"24px\">\n",
              "    <g>\n",
              "        <path d=\"M19 3H5c-1.1 0-2 .9-2 2v14c0 1.1.9 2 2 2h14c1.1 0 2-.9 2-2V5c0-1.1-.9-2-2-2zM9 17H7v-7h2v7zm4 0h-2V7h2v10zm4 0h-2v-4h2v4z\"/>\n",
              "    </g>\n",
              "</svg>\n",
              "  </button>\n",
              "\n",
              "<style>\n",
              "  .colab-df-quickchart {\n",
              "      --bg-color: #E8F0FE;\n",
              "      --fill-color: #1967D2;\n",
              "      --hover-bg-color: #E2EBFA;\n",
              "      --hover-fill-color: #174EA6;\n",
              "      --disabled-fill-color: #AAA;\n",
              "      --disabled-bg-color: #DDD;\n",
              "  }\n",
              "\n",
              "  [theme=dark] .colab-df-quickchart {\n",
              "      --bg-color: #3B4455;\n",
              "      --fill-color: #D2E3FC;\n",
              "      --hover-bg-color: #434B5C;\n",
              "      --hover-fill-color: #FFFFFF;\n",
              "      --disabled-bg-color: #3B4455;\n",
              "      --disabled-fill-color: #666;\n",
              "  }\n",
              "\n",
              "  .colab-df-quickchart {\n",
              "    background-color: var(--bg-color);\n",
              "    border: none;\n",
              "    border-radius: 50%;\n",
              "    cursor: pointer;\n",
              "    display: none;\n",
              "    fill: var(--fill-color);\n",
              "    height: 32px;\n",
              "    padding: 0;\n",
              "    width: 32px;\n",
              "  }\n",
              "\n",
              "  .colab-df-quickchart:hover {\n",
              "    background-color: var(--hover-bg-color);\n",
              "    box-shadow: 0 1px 2px rgba(60, 64, 67, 0.3), 0 1px 3px 1px rgba(60, 64, 67, 0.15);\n",
              "    fill: var(--button-hover-fill-color);\n",
              "  }\n",
              "\n",
              "  .colab-df-quickchart-complete:disabled,\n",
              "  .colab-df-quickchart-complete:disabled:hover {\n",
              "    background-color: var(--disabled-bg-color);\n",
              "    fill: var(--disabled-fill-color);\n",
              "    box-shadow: none;\n",
              "  }\n",
              "\n",
              "  .colab-df-spinner {\n",
              "    border: 2px solid var(--fill-color);\n",
              "    border-color: transparent;\n",
              "    border-bottom-color: var(--fill-color);\n",
              "    animation:\n",
              "      spin 1s steps(1) infinite;\n",
              "  }\n",
              "\n",
              "  @keyframes spin {\n",
              "    0% {\n",
              "      border-color: transparent;\n",
              "      border-bottom-color: var(--fill-color);\n",
              "      border-left-color: var(--fill-color);\n",
              "    }\n",
              "    20% {\n",
              "      border-color: transparent;\n",
              "      border-left-color: var(--fill-color);\n",
              "      border-top-color: var(--fill-color);\n",
              "    }\n",
              "    30% {\n",
              "      border-color: transparent;\n",
              "      border-left-color: var(--fill-color);\n",
              "      border-top-color: var(--fill-color);\n",
              "      border-right-color: var(--fill-color);\n",
              "    }\n",
              "    40% {\n",
              "      border-color: transparent;\n",
              "      border-right-color: var(--fill-color);\n",
              "      border-top-color: var(--fill-color);\n",
              "    }\n",
              "    60% {\n",
              "      border-color: transparent;\n",
              "      border-right-color: var(--fill-color);\n",
              "    }\n",
              "    80% {\n",
              "      border-color: transparent;\n",
              "      border-right-color: var(--fill-color);\n",
              "      border-bottom-color: var(--fill-color);\n",
              "    }\n",
              "    90% {\n",
              "      border-color: transparent;\n",
              "      border-bottom-color: var(--fill-color);\n",
              "    }\n",
              "  }\n",
              "</style>\n",
              "\n",
              "  <script>\n",
              "    async function quickchart(key) {\n",
              "      const quickchartButtonEl =\n",
              "        document.querySelector('#' + key + ' button');\n",
              "      quickchartButtonEl.disabled = true;  // To prevent multiple clicks.\n",
              "      quickchartButtonEl.classList.add('colab-df-spinner');\n",
              "      try {\n",
              "        const charts = await google.colab.kernel.invokeFunction(\n",
              "            'suggestCharts', [key], {});\n",
              "      } catch (error) {\n",
              "        console.error('Error during call to suggestCharts:', error);\n",
              "      }\n",
              "      quickchartButtonEl.classList.remove('colab-df-spinner');\n",
              "      quickchartButtonEl.classList.add('colab-df-quickchart-complete');\n",
              "    }\n",
              "    (() => {\n",
              "      let quickchartButtonEl =\n",
              "        document.querySelector('#df-a1d0597d-b9b8-4897-b6e0-cae481149563 button');\n",
              "      quickchartButtonEl.style.display =\n",
              "        google.colab.kernel.accessAllowed ? 'block' : 'none';\n",
              "    })();\n",
              "  </script>\n",
              "</div>\n",
              "\n",
              "    </div>\n",
              "  </div>\n"
            ],
            "application/vnd.google.colaboratory.intrinsic+json": {
              "type": "dataframe",
              "variable_name": "X_train",
              "summary": "{\n  \"name\": \"X_train\",\n  \"rows\": 33334,\n  \"fields\": [\n    {\n      \"column\": \"age\",\n      \"properties\": {\n        \"dtype\": \"number\",\n        \"std\": 0,\n        \"min\": 0,\n        \"max\": 1,\n        \"num_unique_values\": 2,\n        \"samples\": [\n          0,\n          1\n        ],\n        \"semantic_type\": \"\",\n        \"description\": \"\"\n      }\n    },\n    {\n      \"column\": \"workclass\",\n      \"properties\": {\n        \"dtype\": \"category\",\n        \"num_unique_values\": 9,\n        \"samples\": [\n          \"Without-pay\",\n          \"State-gov\"\n        ],\n        \"semantic_type\": \"\",\n        \"description\": \"\"\n      }\n    },\n    {\n      \"column\": \"fnlwgt\",\n      \"properties\": {\n        \"dtype\": \"number\",\n        \"std\": 105869,\n        \"min\": 13492,\n        \"max\": 1490400,\n        \"num_unique_values\": 21991,\n        \"samples\": [\n          256522,\n          264390\n        ],\n        \"semantic_type\": \"\",\n        \"description\": \"\"\n      }\n    },\n    {\n      \"column\": \"education\",\n      \"properties\": {\n        \"dtype\": \"category\",\n        \"num_unique_values\": 16,\n        \"samples\": [\n          \"Bachelors\",\n          \"11th\"\n        ],\n        \"semantic_type\": \"\",\n        \"description\": \"\"\n      }\n    },\n    {\n      \"column\": \"education-num\",\n      \"properties\": {\n        \"dtype\": \"number\",\n        \"std\": 2,\n        \"min\": 1,\n        \"max\": 16,\n        \"num_unique_values\": 16,\n        \"samples\": [\n          13,\n          7\n        ],\n        \"semantic_type\": \"\",\n        \"description\": \"\"\n      }\n    },\n    {\n      \"column\": \"marital-status\",\n      \"properties\": {\n        \"dtype\": \"category\",\n        \"num_unique_values\": 7,\n        \"samples\": [\n          \"Married-civ-spouse\",\n          \"Separated\"\n        ],\n        \"semantic_type\": \"\",\n        \"description\": \"\"\n      }\n    },\n    {\n      \"column\": \"occupation\",\n      \"properties\": {\n        \"dtype\": \"category\",\n        \"num_unique_values\": 15,\n        \"samples\": [\n          \"Protective-serv\",\n          \"Transport-moving\"\n        ],\n        \"semantic_type\": \"\",\n        \"description\": \"\"\n      }\n    },\n    {\n      \"column\": \"relationship\",\n      \"properties\": {\n        \"dtype\": \"category\",\n        \"num_unique_values\": 6,\n        \"samples\": [\n          \"Husband\",\n          \"Unmarried\"\n        ],\n        \"semantic_type\": \"\",\n        \"description\": \"\"\n      }\n    },\n    {\n      \"column\": \"race\",\n      \"properties\": {\n        \"dtype\": \"category\",\n        \"num_unique_values\": 5,\n        \"samples\": [\n          \"Black\",\n          \"Other\"\n        ],\n        \"semantic_type\": \"\",\n        \"description\": \"\"\n      }\n    },\n    {\n      \"column\": \"sex\",\n      \"properties\": {\n        \"dtype\": \"number\",\n        \"std\": 0,\n        \"min\": 0,\n        \"max\": 1,\n        \"num_unique_values\": 2,\n        \"samples\": [\n          0,\n          1\n        ],\n        \"semantic_type\": \"\",\n        \"description\": \"\"\n      }\n    },\n    {\n      \"column\": \"capital-gain\",\n      \"properties\": {\n        \"dtype\": \"number\",\n        \"std\": 7337,\n        \"min\": 0,\n        \"max\": 99999,\n        \"num_unique_values\": 120,\n        \"samples\": [\n          1151,\n          4101\n        ],\n        \"semantic_type\": \"\",\n        \"description\": \"\"\n      }\n    },\n    {\n      \"column\": \"capital-loss\",\n      \"properties\": {\n        \"dtype\": \"number\",\n        \"std\": 403,\n        \"min\": 0,\n        \"max\": 4356,\n        \"num_unique_values\": 91,\n        \"samples\": [\n          2057,\n          2258\n        ],\n        \"semantic_type\": \"\",\n        \"description\": \"\"\n      }\n    },\n    {\n      \"column\": \"hours-per-week\",\n      \"properties\": {\n        \"dtype\": \"number\",\n        \"std\": 12,\n        \"min\": 1,\n        \"max\": 99,\n        \"num_unique_values\": 94,\n        \"samples\": [\n          53,\n          12\n        ],\n        \"semantic_type\": \"\",\n        \"description\": \"\"\n      }\n    },\n    {\n      \"column\": \"native-country\",\n      \"properties\": {\n        \"dtype\": \"category\",\n        \"num_unique_values\": 42,\n        \"samples\": [\n          \"Portugal\",\n          \"Taiwan\"\n        ],\n        \"semantic_type\": \"\",\n        \"description\": \"\"\n      }\n    }\n  ]\n}"
            }
          },
          "metadata": {},
          "execution_count": 11
        }
      ],
      "source": [
        "X_train.head()"
      ]
    },
    {
      "cell_type": "code",
      "execution_count": null,
      "metadata": {
        "colab": {
          "base_uri": "https://localhost:8080/",
          "height": 206
        },
        "id": "z9pPG1Ka-qVW",
        "outputId": "dcf12d42-0132-474d-8c7d-fd6662cad7df"
      },
      "outputs": [
        {
          "output_type": "execute_result",
          "data": {
            "text/plain": [
              "       income\n",
              "26818       0\n",
              "28252       0\n",
              "9258        0\n",
              "41064       1\n",
              "30461       0"
            ],
            "text/html": [
              "\n",
              "  <div id=\"df-e8bc2502-6c24-42cb-b736-6006fc1e438c\" class=\"colab-df-container\">\n",
              "    <div>\n",
              "<style scoped>\n",
              "    .dataframe tbody tr th:only-of-type {\n",
              "        vertical-align: middle;\n",
              "    }\n",
              "\n",
              "    .dataframe tbody tr th {\n",
              "        vertical-align: top;\n",
              "    }\n",
              "\n",
              "    .dataframe thead th {\n",
              "        text-align: right;\n",
              "    }\n",
              "</style>\n",
              "<table border=\"1\" class=\"dataframe\">\n",
              "  <thead>\n",
              "    <tr style=\"text-align: right;\">\n",
              "      <th></th>\n",
              "      <th>income</th>\n",
              "    </tr>\n",
              "  </thead>\n",
              "  <tbody>\n",
              "    <tr>\n",
              "      <th>26818</th>\n",
              "      <td>0</td>\n",
              "    </tr>\n",
              "    <tr>\n",
              "      <th>28252</th>\n",
              "      <td>0</td>\n",
              "    </tr>\n",
              "    <tr>\n",
              "      <th>9258</th>\n",
              "      <td>0</td>\n",
              "    </tr>\n",
              "    <tr>\n",
              "      <th>41064</th>\n",
              "      <td>1</td>\n",
              "    </tr>\n",
              "    <tr>\n",
              "      <th>30461</th>\n",
              "      <td>0</td>\n",
              "    </tr>\n",
              "  </tbody>\n",
              "</table>\n",
              "</div>\n",
              "    <div class=\"colab-df-buttons\">\n",
              "\n",
              "  <div class=\"colab-df-container\">\n",
              "    <button class=\"colab-df-convert\" onclick=\"convertToInteractive('df-e8bc2502-6c24-42cb-b736-6006fc1e438c')\"\n",
              "            title=\"Convert this dataframe to an interactive table.\"\n",
              "            style=\"display:none;\">\n",
              "\n",
              "  <svg xmlns=\"http://www.w3.org/2000/svg\" height=\"24px\" viewBox=\"0 -960 960 960\">\n",
              "    <path d=\"M120-120v-720h720v720H120Zm60-500h600v-160H180v160Zm220 220h160v-160H400v160Zm0 220h160v-160H400v160ZM180-400h160v-160H180v160Zm440 0h160v-160H620v160ZM180-180h160v-160H180v160Zm440 0h160v-160H620v160Z\"/>\n",
              "  </svg>\n",
              "    </button>\n",
              "\n",
              "  <style>\n",
              "    .colab-df-container {\n",
              "      display:flex;\n",
              "      gap: 12px;\n",
              "    }\n",
              "\n",
              "    .colab-df-convert {\n",
              "      background-color: #E8F0FE;\n",
              "      border: none;\n",
              "      border-radius: 50%;\n",
              "      cursor: pointer;\n",
              "      display: none;\n",
              "      fill: #1967D2;\n",
              "      height: 32px;\n",
              "      padding: 0 0 0 0;\n",
              "      width: 32px;\n",
              "    }\n",
              "\n",
              "    .colab-df-convert:hover {\n",
              "      background-color: #E2EBFA;\n",
              "      box-shadow: 0px 1px 2px rgba(60, 64, 67, 0.3), 0px 1px 3px 1px rgba(60, 64, 67, 0.15);\n",
              "      fill: #174EA6;\n",
              "    }\n",
              "\n",
              "    .colab-df-buttons div {\n",
              "      margin-bottom: 4px;\n",
              "    }\n",
              "\n",
              "    [theme=dark] .colab-df-convert {\n",
              "      background-color: #3B4455;\n",
              "      fill: #D2E3FC;\n",
              "    }\n",
              "\n",
              "    [theme=dark] .colab-df-convert:hover {\n",
              "      background-color: #434B5C;\n",
              "      box-shadow: 0px 1px 3px 1px rgba(0, 0, 0, 0.15);\n",
              "      filter: drop-shadow(0px 1px 2px rgba(0, 0, 0, 0.3));\n",
              "      fill: #FFFFFF;\n",
              "    }\n",
              "  </style>\n",
              "\n",
              "    <script>\n",
              "      const buttonEl =\n",
              "        document.querySelector('#df-e8bc2502-6c24-42cb-b736-6006fc1e438c button.colab-df-convert');\n",
              "      buttonEl.style.display =\n",
              "        google.colab.kernel.accessAllowed ? 'block' : 'none';\n",
              "\n",
              "      async function convertToInteractive(key) {\n",
              "        const element = document.querySelector('#df-e8bc2502-6c24-42cb-b736-6006fc1e438c');\n",
              "        const dataTable =\n",
              "          await google.colab.kernel.invokeFunction('convertToInteractive',\n",
              "                                                    [key], {});\n",
              "        if (!dataTable) return;\n",
              "\n",
              "        const docLinkHtml = 'Like what you see? Visit the ' +\n",
              "          '<a target=\"_blank\" href=https://colab.research.google.com/notebooks/data_table.ipynb>data table notebook</a>'\n",
              "          + ' to learn more about interactive tables.';\n",
              "        element.innerHTML = '';\n",
              "        dataTable['output_type'] = 'display_data';\n",
              "        await google.colab.output.renderOutput(dataTable, element);\n",
              "        const docLink = document.createElement('div');\n",
              "        docLink.innerHTML = docLinkHtml;\n",
              "        element.appendChild(docLink);\n",
              "      }\n",
              "    </script>\n",
              "  </div>\n",
              "\n",
              "\n",
              "<div id=\"df-648c7a32-4375-4eba-bdb4-0247723cbd50\">\n",
              "  <button class=\"colab-df-quickchart\" onclick=\"quickchart('df-648c7a32-4375-4eba-bdb4-0247723cbd50')\"\n",
              "            title=\"Suggest charts\"\n",
              "            style=\"display:none;\">\n",
              "\n",
              "<svg xmlns=\"http://www.w3.org/2000/svg\" height=\"24px\"viewBox=\"0 0 24 24\"\n",
              "     width=\"24px\">\n",
              "    <g>\n",
              "        <path d=\"M19 3H5c-1.1 0-2 .9-2 2v14c0 1.1.9 2 2 2h14c1.1 0 2-.9 2-2V5c0-1.1-.9-2-2-2zM9 17H7v-7h2v7zm4 0h-2V7h2v10zm4 0h-2v-4h2v4z\"/>\n",
              "    </g>\n",
              "</svg>\n",
              "  </button>\n",
              "\n",
              "<style>\n",
              "  .colab-df-quickchart {\n",
              "      --bg-color: #E8F0FE;\n",
              "      --fill-color: #1967D2;\n",
              "      --hover-bg-color: #E2EBFA;\n",
              "      --hover-fill-color: #174EA6;\n",
              "      --disabled-fill-color: #AAA;\n",
              "      --disabled-bg-color: #DDD;\n",
              "  }\n",
              "\n",
              "  [theme=dark] .colab-df-quickchart {\n",
              "      --bg-color: #3B4455;\n",
              "      --fill-color: #D2E3FC;\n",
              "      --hover-bg-color: #434B5C;\n",
              "      --hover-fill-color: #FFFFFF;\n",
              "      --disabled-bg-color: #3B4455;\n",
              "      --disabled-fill-color: #666;\n",
              "  }\n",
              "\n",
              "  .colab-df-quickchart {\n",
              "    background-color: var(--bg-color);\n",
              "    border: none;\n",
              "    border-radius: 50%;\n",
              "    cursor: pointer;\n",
              "    display: none;\n",
              "    fill: var(--fill-color);\n",
              "    height: 32px;\n",
              "    padding: 0;\n",
              "    width: 32px;\n",
              "  }\n",
              "\n",
              "  .colab-df-quickchart:hover {\n",
              "    background-color: var(--hover-bg-color);\n",
              "    box-shadow: 0 1px 2px rgba(60, 64, 67, 0.3), 0 1px 3px 1px rgba(60, 64, 67, 0.15);\n",
              "    fill: var(--button-hover-fill-color);\n",
              "  }\n",
              "\n",
              "  .colab-df-quickchart-complete:disabled,\n",
              "  .colab-df-quickchart-complete:disabled:hover {\n",
              "    background-color: var(--disabled-bg-color);\n",
              "    fill: var(--disabled-fill-color);\n",
              "    box-shadow: none;\n",
              "  }\n",
              "\n",
              "  .colab-df-spinner {\n",
              "    border: 2px solid var(--fill-color);\n",
              "    border-color: transparent;\n",
              "    border-bottom-color: var(--fill-color);\n",
              "    animation:\n",
              "      spin 1s steps(1) infinite;\n",
              "  }\n",
              "\n",
              "  @keyframes spin {\n",
              "    0% {\n",
              "      border-color: transparent;\n",
              "      border-bottom-color: var(--fill-color);\n",
              "      border-left-color: var(--fill-color);\n",
              "    }\n",
              "    20% {\n",
              "      border-color: transparent;\n",
              "      border-left-color: var(--fill-color);\n",
              "      border-top-color: var(--fill-color);\n",
              "    }\n",
              "    30% {\n",
              "      border-color: transparent;\n",
              "      border-left-color: var(--fill-color);\n",
              "      border-top-color: var(--fill-color);\n",
              "      border-right-color: var(--fill-color);\n",
              "    }\n",
              "    40% {\n",
              "      border-color: transparent;\n",
              "      border-right-color: var(--fill-color);\n",
              "      border-top-color: var(--fill-color);\n",
              "    }\n",
              "    60% {\n",
              "      border-color: transparent;\n",
              "      border-right-color: var(--fill-color);\n",
              "    }\n",
              "    80% {\n",
              "      border-color: transparent;\n",
              "      border-right-color: var(--fill-color);\n",
              "      border-bottom-color: var(--fill-color);\n",
              "    }\n",
              "    90% {\n",
              "      border-color: transparent;\n",
              "      border-bottom-color: var(--fill-color);\n",
              "    }\n",
              "  }\n",
              "</style>\n",
              "\n",
              "  <script>\n",
              "    async function quickchart(key) {\n",
              "      const quickchartButtonEl =\n",
              "        document.querySelector('#' + key + ' button');\n",
              "      quickchartButtonEl.disabled = true;  // To prevent multiple clicks.\n",
              "      quickchartButtonEl.classList.add('colab-df-spinner');\n",
              "      try {\n",
              "        const charts = await google.colab.kernel.invokeFunction(\n",
              "            'suggestCharts', [key], {});\n",
              "      } catch (error) {\n",
              "        console.error('Error during call to suggestCharts:', error);\n",
              "      }\n",
              "      quickchartButtonEl.classList.remove('colab-df-spinner');\n",
              "      quickchartButtonEl.classList.add('colab-df-quickchart-complete');\n",
              "    }\n",
              "    (() => {\n",
              "      let quickchartButtonEl =\n",
              "        document.querySelector('#df-648c7a32-4375-4eba-bdb4-0247723cbd50 button');\n",
              "      quickchartButtonEl.style.display =\n",
              "        google.colab.kernel.accessAllowed ? 'block' : 'none';\n",
              "    })();\n",
              "  </script>\n",
              "</div>\n",
              "\n",
              "    </div>\n",
              "  </div>\n"
            ],
            "application/vnd.google.colaboratory.intrinsic+json": {
              "type": "dataframe",
              "variable_name": "y_train",
              "summary": "{\n  \"name\": \"y_train\",\n  \"rows\": 33334,\n  \"fields\": [\n    {\n      \"column\": \"income\",\n      \"properties\": {\n        \"dtype\": \"number\",\n        \"std\": 0,\n        \"min\": 0,\n        \"max\": 1,\n        \"num_unique_values\": 2,\n        \"samples\": [\n          1,\n          0\n        ],\n        \"semantic_type\": \"\",\n        \"description\": \"\"\n      }\n    }\n  ]\n}"
            }
          },
          "metadata": {},
          "execution_count": 12
        }
      ],
      "source": [
        "y_train.head()"
      ]
    },
    {
      "cell_type": "code",
      "execution_count": null,
      "metadata": {
        "colab": {
          "base_uri": "https://localhost:8080/"
        },
        "id": "5HB0Sfbz-qVW",
        "outputId": "6bba7c9b-8cbd-43d3-c154-09840b8fcd37"
      },
      "outputs": [
        {
          "output_type": "execute_result",
          "data": {
            "text/plain": [
              "((33334, 107), (14287, 107))"
            ]
          },
          "metadata": {},
          "execution_count": 13
        }
      ],
      "source": [
        "numeric_cols = X_train.select_dtypes(include=['int64', 'float64']).columns\n",
        "categorical_cols = X_train.select_dtypes(include=['object']).columns\n",
        "\n",
        "standard_scaler = MinMaxScaler()\n",
        "one_hot_encoder = OneHotEncoder(handle_unknown='ignore')\n",
        "\n",
        "# Aplicamos directamente a los datos\n",
        "X_numeric_train_scaled = standard_scaler.fit_transform(X_train[numeric_cols])\n",
        "X_numeric_test_scaled = standard_scaler.transform(X_test[numeric_cols])\n",
        "\n",
        "# Aplicamos one hot encoding\n",
        "X_categorical_train = one_hot_encoder.fit_transform(X_train[categorical_cols])\n",
        "X_categorical_test = one_hot_encoder.transform(X_test[categorical_cols])\n",
        "\n",
        "X_train_processed = np.concatenate([X_numeric_train_scaled, X_categorical_train.toarray()], axis=1)\n",
        "X_test_processed = np.concatenate([X_numeric_test_scaled, X_categorical_test.toarray()], axis=1)\n",
        "X_train_processed.shape, X_test_processed.shape"
      ]
    },
    {
      "cell_type": "code",
      "execution_count": null,
      "metadata": {
        "id": "M-0f8qJu-qVW"
      },
      "outputs": [],
      "source": [
        "X_train_df = pd.DataFrame(X_train_processed, columns=numeric_cols.tolist() + one_hot_encoder.get_feature_names_out(categorical_cols).tolist())\n",
        "X_test_df = pd.DataFrame(X_test_processed, columns=numeric_cols.tolist() + one_hot_encoder.get_feature_names_out(categorical_cols).tolist())\n",
        "\n",
        "y_train = y_train.values.ravel()\n",
        "y_test = y_test.values.ravel()"
      ]
    },
    {
      "cell_type": "code",
      "execution_count": null,
      "metadata": {
        "colab": {
          "base_uri": "https://localhost:8080/",
          "height": 290
        },
        "id": "Ipy500Fp-qVW",
        "outputId": "07f15f90-6169-470f-c8dc-61b1229a2671"
      },
      "outputs": [
        {
          "output_type": "execute_result",
          "data": {
            "text/plain": [
              "   age    fnlwgt  education-num  sex  capital-gain  capital-loss  \\\n",
              "0  1.0  0.127659            0.8  1.0           0.0           0.0   \n",
              "1  1.0  0.221481            0.4  0.0           0.0           0.0   \n",
              "2  1.0  0.110733            0.4  0.0           0.0           0.0   \n",
              "3  1.0  0.011186            0.6  1.0           0.0           0.0   \n",
              "4  1.0  0.116273            0.6  1.0           0.0           0.0   \n",
              "\n",
              "   hours-per-week  workclass_?  workclass_Federal-gov  workclass_Local-gov  \\\n",
              "0        0.397959          0.0                    0.0                  0.0   \n",
              "1        0.397959          0.0                    0.0                  0.0   \n",
              "2        0.397959          0.0                    0.0                  0.0   \n",
              "3        0.500000          0.0                    0.0                  0.0   \n",
              "4        0.397959          0.0                    0.0                  0.0   \n",
              "\n",
              "   ...  native-country_Portugal  native-country_Puerto-Rico  \\\n",
              "0  ...                      0.0                         0.0   \n",
              "1  ...                      0.0                         0.0   \n",
              "2  ...                      0.0                         0.0   \n",
              "3  ...                      0.0                         0.0   \n",
              "4  ...                      0.0                         0.0   \n",
              "\n",
              "   native-country_Scotland  native-country_South  native-country_Taiwan  \\\n",
              "0                      0.0                   0.0                    0.0   \n",
              "1                      0.0                   0.0                    0.0   \n",
              "2                      0.0                   0.0                    0.0   \n",
              "3                      0.0                   0.0                    0.0   \n",
              "4                      0.0                   0.0                    0.0   \n",
              "\n",
              "   native-country_Thailand  native-country_Trinadad&Tobago  \\\n",
              "0                      0.0                             0.0   \n",
              "1                      0.0                             0.0   \n",
              "2                      0.0                             0.0   \n",
              "3                      0.0                             0.0   \n",
              "4                      0.0                             0.0   \n",
              "\n",
              "   native-country_United-States  native-country_Vietnam  \\\n",
              "0                           1.0                     0.0   \n",
              "1                           1.0                     0.0   \n",
              "2                           1.0                     0.0   \n",
              "3                           1.0                     0.0   \n",
              "4                           1.0                     0.0   \n",
              "\n",
              "   native-country_Yugoslavia  \n",
              "0                        0.0  \n",
              "1                        0.0  \n",
              "2                        0.0  \n",
              "3                        0.0  \n",
              "4                        0.0  \n",
              "\n",
              "[5 rows x 107 columns]"
            ],
            "text/html": [
              "\n",
              "  <div id=\"df-d365c239-e780-43b9-bf8a-1c0107559285\" class=\"colab-df-container\">\n",
              "    <div>\n",
              "<style scoped>\n",
              "    .dataframe tbody tr th:only-of-type {\n",
              "        vertical-align: middle;\n",
              "    }\n",
              "\n",
              "    .dataframe tbody tr th {\n",
              "        vertical-align: top;\n",
              "    }\n",
              "\n",
              "    .dataframe thead th {\n",
              "        text-align: right;\n",
              "    }\n",
              "</style>\n",
              "<table border=\"1\" class=\"dataframe\">\n",
              "  <thead>\n",
              "    <tr style=\"text-align: right;\">\n",
              "      <th></th>\n",
              "      <th>age</th>\n",
              "      <th>fnlwgt</th>\n",
              "      <th>education-num</th>\n",
              "      <th>sex</th>\n",
              "      <th>capital-gain</th>\n",
              "      <th>capital-loss</th>\n",
              "      <th>hours-per-week</th>\n",
              "      <th>workclass_?</th>\n",
              "      <th>workclass_Federal-gov</th>\n",
              "      <th>workclass_Local-gov</th>\n",
              "      <th>...</th>\n",
              "      <th>native-country_Portugal</th>\n",
              "      <th>native-country_Puerto-Rico</th>\n",
              "      <th>native-country_Scotland</th>\n",
              "      <th>native-country_South</th>\n",
              "      <th>native-country_Taiwan</th>\n",
              "      <th>native-country_Thailand</th>\n",
              "      <th>native-country_Trinadad&amp;Tobago</th>\n",
              "      <th>native-country_United-States</th>\n",
              "      <th>native-country_Vietnam</th>\n",
              "      <th>native-country_Yugoslavia</th>\n",
              "    </tr>\n",
              "  </thead>\n",
              "  <tbody>\n",
              "    <tr>\n",
              "      <th>0</th>\n",
              "      <td>1.0</td>\n",
              "      <td>0.127659</td>\n",
              "      <td>0.8</td>\n",
              "      <td>1.0</td>\n",
              "      <td>0.0</td>\n",
              "      <td>0.0</td>\n",
              "      <td>0.397959</td>\n",
              "      <td>0.0</td>\n",
              "      <td>0.0</td>\n",
              "      <td>0.0</td>\n",
              "      <td>...</td>\n",
              "      <td>0.0</td>\n",
              "      <td>0.0</td>\n",
              "      <td>0.0</td>\n",
              "      <td>0.0</td>\n",
              "      <td>0.0</td>\n",
              "      <td>0.0</td>\n",
              "      <td>0.0</td>\n",
              "      <td>1.0</td>\n",
              "      <td>0.0</td>\n",
              "      <td>0.0</td>\n",
              "    </tr>\n",
              "    <tr>\n",
              "      <th>1</th>\n",
              "      <td>1.0</td>\n",
              "      <td>0.221481</td>\n",
              "      <td>0.4</td>\n",
              "      <td>0.0</td>\n",
              "      <td>0.0</td>\n",
              "      <td>0.0</td>\n",
              "      <td>0.397959</td>\n",
              "      <td>0.0</td>\n",
              "      <td>0.0</td>\n",
              "      <td>0.0</td>\n",
              "      <td>...</td>\n",
              "      <td>0.0</td>\n",
              "      <td>0.0</td>\n",
              "      <td>0.0</td>\n",
              "      <td>0.0</td>\n",
              "      <td>0.0</td>\n",
              "      <td>0.0</td>\n",
              "      <td>0.0</td>\n",
              "      <td>1.0</td>\n",
              "      <td>0.0</td>\n",
              "      <td>0.0</td>\n",
              "    </tr>\n",
              "    <tr>\n",
              "      <th>2</th>\n",
              "      <td>1.0</td>\n",
              "      <td>0.110733</td>\n",
              "      <td>0.4</td>\n",
              "      <td>0.0</td>\n",
              "      <td>0.0</td>\n",
              "      <td>0.0</td>\n",
              "      <td>0.397959</td>\n",
              "      <td>0.0</td>\n",
              "      <td>0.0</td>\n",
              "      <td>0.0</td>\n",
              "      <td>...</td>\n",
              "      <td>0.0</td>\n",
              "      <td>0.0</td>\n",
              "      <td>0.0</td>\n",
              "      <td>0.0</td>\n",
              "      <td>0.0</td>\n",
              "      <td>0.0</td>\n",
              "      <td>0.0</td>\n",
              "      <td>1.0</td>\n",
              "      <td>0.0</td>\n",
              "      <td>0.0</td>\n",
              "    </tr>\n",
              "    <tr>\n",
              "      <th>3</th>\n",
              "      <td>1.0</td>\n",
              "      <td>0.011186</td>\n",
              "      <td>0.6</td>\n",
              "      <td>1.0</td>\n",
              "      <td>0.0</td>\n",
              "      <td>0.0</td>\n",
              "      <td>0.500000</td>\n",
              "      <td>0.0</td>\n",
              "      <td>0.0</td>\n",
              "      <td>0.0</td>\n",
              "      <td>...</td>\n",
              "      <td>0.0</td>\n",
              "      <td>0.0</td>\n",
              "      <td>0.0</td>\n",
              "      <td>0.0</td>\n",
              "      <td>0.0</td>\n",
              "      <td>0.0</td>\n",
              "      <td>0.0</td>\n",
              "      <td>1.0</td>\n",
              "      <td>0.0</td>\n",
              "      <td>0.0</td>\n",
              "    </tr>\n",
              "    <tr>\n",
              "      <th>4</th>\n",
              "      <td>1.0</td>\n",
              "      <td>0.116273</td>\n",
              "      <td>0.6</td>\n",
              "      <td>1.0</td>\n",
              "      <td>0.0</td>\n",
              "      <td>0.0</td>\n",
              "      <td>0.397959</td>\n",
              "      <td>0.0</td>\n",
              "      <td>0.0</td>\n",
              "      <td>0.0</td>\n",
              "      <td>...</td>\n",
              "      <td>0.0</td>\n",
              "      <td>0.0</td>\n",
              "      <td>0.0</td>\n",
              "      <td>0.0</td>\n",
              "      <td>0.0</td>\n",
              "      <td>0.0</td>\n",
              "      <td>0.0</td>\n",
              "      <td>1.0</td>\n",
              "      <td>0.0</td>\n",
              "      <td>0.0</td>\n",
              "    </tr>\n",
              "  </tbody>\n",
              "</table>\n",
              "<p>5 rows × 107 columns</p>\n",
              "</div>\n",
              "    <div class=\"colab-df-buttons\">\n",
              "\n",
              "  <div class=\"colab-df-container\">\n",
              "    <button class=\"colab-df-convert\" onclick=\"convertToInteractive('df-d365c239-e780-43b9-bf8a-1c0107559285')\"\n",
              "            title=\"Convert this dataframe to an interactive table.\"\n",
              "            style=\"display:none;\">\n",
              "\n",
              "  <svg xmlns=\"http://www.w3.org/2000/svg\" height=\"24px\" viewBox=\"0 -960 960 960\">\n",
              "    <path d=\"M120-120v-720h720v720H120Zm60-500h600v-160H180v160Zm220 220h160v-160H400v160Zm0 220h160v-160H400v160ZM180-400h160v-160H180v160Zm440 0h160v-160H620v160ZM180-180h160v-160H180v160Zm440 0h160v-160H620v160Z\"/>\n",
              "  </svg>\n",
              "    </button>\n",
              "\n",
              "  <style>\n",
              "    .colab-df-container {\n",
              "      display:flex;\n",
              "      gap: 12px;\n",
              "    }\n",
              "\n",
              "    .colab-df-convert {\n",
              "      background-color: #E8F0FE;\n",
              "      border: none;\n",
              "      border-radius: 50%;\n",
              "      cursor: pointer;\n",
              "      display: none;\n",
              "      fill: #1967D2;\n",
              "      height: 32px;\n",
              "      padding: 0 0 0 0;\n",
              "      width: 32px;\n",
              "    }\n",
              "\n",
              "    .colab-df-convert:hover {\n",
              "      background-color: #E2EBFA;\n",
              "      box-shadow: 0px 1px 2px rgba(60, 64, 67, 0.3), 0px 1px 3px 1px rgba(60, 64, 67, 0.15);\n",
              "      fill: #174EA6;\n",
              "    }\n",
              "\n",
              "    .colab-df-buttons div {\n",
              "      margin-bottom: 4px;\n",
              "    }\n",
              "\n",
              "    [theme=dark] .colab-df-convert {\n",
              "      background-color: #3B4455;\n",
              "      fill: #D2E3FC;\n",
              "    }\n",
              "\n",
              "    [theme=dark] .colab-df-convert:hover {\n",
              "      background-color: #434B5C;\n",
              "      box-shadow: 0px 1px 3px 1px rgba(0, 0, 0, 0.15);\n",
              "      filter: drop-shadow(0px 1px 2px rgba(0, 0, 0, 0.3));\n",
              "      fill: #FFFFFF;\n",
              "    }\n",
              "  </style>\n",
              "\n",
              "    <script>\n",
              "      const buttonEl =\n",
              "        document.querySelector('#df-d365c239-e780-43b9-bf8a-1c0107559285 button.colab-df-convert');\n",
              "      buttonEl.style.display =\n",
              "        google.colab.kernel.accessAllowed ? 'block' : 'none';\n",
              "\n",
              "      async function convertToInteractive(key) {\n",
              "        const element = document.querySelector('#df-d365c239-e780-43b9-bf8a-1c0107559285');\n",
              "        const dataTable =\n",
              "          await google.colab.kernel.invokeFunction('convertToInteractive',\n",
              "                                                    [key], {});\n",
              "        if (!dataTable) return;\n",
              "\n",
              "        const docLinkHtml = 'Like what you see? Visit the ' +\n",
              "          '<a target=\"_blank\" href=https://colab.research.google.com/notebooks/data_table.ipynb>data table notebook</a>'\n",
              "          + ' to learn more about interactive tables.';\n",
              "        element.innerHTML = '';\n",
              "        dataTable['output_type'] = 'display_data';\n",
              "        await google.colab.output.renderOutput(dataTable, element);\n",
              "        const docLink = document.createElement('div');\n",
              "        docLink.innerHTML = docLinkHtml;\n",
              "        element.appendChild(docLink);\n",
              "      }\n",
              "    </script>\n",
              "  </div>\n",
              "\n",
              "\n",
              "<div id=\"df-82796e96-0ef7-4ecb-aa4e-03255a01b702\">\n",
              "  <button class=\"colab-df-quickchart\" onclick=\"quickchart('df-82796e96-0ef7-4ecb-aa4e-03255a01b702')\"\n",
              "            title=\"Suggest charts\"\n",
              "            style=\"display:none;\">\n",
              "\n",
              "<svg xmlns=\"http://www.w3.org/2000/svg\" height=\"24px\"viewBox=\"0 0 24 24\"\n",
              "     width=\"24px\">\n",
              "    <g>\n",
              "        <path d=\"M19 3H5c-1.1 0-2 .9-2 2v14c0 1.1.9 2 2 2h14c1.1 0 2-.9 2-2V5c0-1.1-.9-2-2-2zM9 17H7v-7h2v7zm4 0h-2V7h2v10zm4 0h-2v-4h2v4z\"/>\n",
              "    </g>\n",
              "</svg>\n",
              "  </button>\n",
              "\n",
              "<style>\n",
              "  .colab-df-quickchart {\n",
              "      --bg-color: #E8F0FE;\n",
              "      --fill-color: #1967D2;\n",
              "      --hover-bg-color: #E2EBFA;\n",
              "      --hover-fill-color: #174EA6;\n",
              "      --disabled-fill-color: #AAA;\n",
              "      --disabled-bg-color: #DDD;\n",
              "  }\n",
              "\n",
              "  [theme=dark] .colab-df-quickchart {\n",
              "      --bg-color: #3B4455;\n",
              "      --fill-color: #D2E3FC;\n",
              "      --hover-bg-color: #434B5C;\n",
              "      --hover-fill-color: #FFFFFF;\n",
              "      --disabled-bg-color: #3B4455;\n",
              "      --disabled-fill-color: #666;\n",
              "  }\n",
              "\n",
              "  .colab-df-quickchart {\n",
              "    background-color: var(--bg-color);\n",
              "    border: none;\n",
              "    border-radius: 50%;\n",
              "    cursor: pointer;\n",
              "    display: none;\n",
              "    fill: var(--fill-color);\n",
              "    height: 32px;\n",
              "    padding: 0;\n",
              "    width: 32px;\n",
              "  }\n",
              "\n",
              "  .colab-df-quickchart:hover {\n",
              "    background-color: var(--hover-bg-color);\n",
              "    box-shadow: 0 1px 2px rgba(60, 64, 67, 0.3), 0 1px 3px 1px rgba(60, 64, 67, 0.15);\n",
              "    fill: var(--button-hover-fill-color);\n",
              "  }\n",
              "\n",
              "  .colab-df-quickchart-complete:disabled,\n",
              "  .colab-df-quickchart-complete:disabled:hover {\n",
              "    background-color: var(--disabled-bg-color);\n",
              "    fill: var(--disabled-fill-color);\n",
              "    box-shadow: none;\n",
              "  }\n",
              "\n",
              "  .colab-df-spinner {\n",
              "    border: 2px solid var(--fill-color);\n",
              "    border-color: transparent;\n",
              "    border-bottom-color: var(--fill-color);\n",
              "    animation:\n",
              "      spin 1s steps(1) infinite;\n",
              "  }\n",
              "\n",
              "  @keyframes spin {\n",
              "    0% {\n",
              "      border-color: transparent;\n",
              "      border-bottom-color: var(--fill-color);\n",
              "      border-left-color: var(--fill-color);\n",
              "    }\n",
              "    20% {\n",
              "      border-color: transparent;\n",
              "      border-left-color: var(--fill-color);\n",
              "      border-top-color: var(--fill-color);\n",
              "    }\n",
              "    30% {\n",
              "      border-color: transparent;\n",
              "      border-left-color: var(--fill-color);\n",
              "      border-top-color: var(--fill-color);\n",
              "      border-right-color: var(--fill-color);\n",
              "    }\n",
              "    40% {\n",
              "      border-color: transparent;\n",
              "      border-right-color: var(--fill-color);\n",
              "      border-top-color: var(--fill-color);\n",
              "    }\n",
              "    60% {\n",
              "      border-color: transparent;\n",
              "      border-right-color: var(--fill-color);\n",
              "    }\n",
              "    80% {\n",
              "      border-color: transparent;\n",
              "      border-right-color: var(--fill-color);\n",
              "      border-bottom-color: var(--fill-color);\n",
              "    }\n",
              "    90% {\n",
              "      border-color: transparent;\n",
              "      border-bottom-color: var(--fill-color);\n",
              "    }\n",
              "  }\n",
              "</style>\n",
              "\n",
              "  <script>\n",
              "    async function quickchart(key) {\n",
              "      const quickchartButtonEl =\n",
              "        document.querySelector('#' + key + ' button');\n",
              "      quickchartButtonEl.disabled = true;  // To prevent multiple clicks.\n",
              "      quickchartButtonEl.classList.add('colab-df-spinner');\n",
              "      try {\n",
              "        const charts = await google.colab.kernel.invokeFunction(\n",
              "            'suggestCharts', [key], {});\n",
              "      } catch (error) {\n",
              "        console.error('Error during call to suggestCharts:', error);\n",
              "      }\n",
              "      quickchartButtonEl.classList.remove('colab-df-spinner');\n",
              "      quickchartButtonEl.classList.add('colab-df-quickchart-complete');\n",
              "    }\n",
              "    (() => {\n",
              "      let quickchartButtonEl =\n",
              "        document.querySelector('#df-82796e96-0ef7-4ecb-aa4e-03255a01b702 button');\n",
              "      quickchartButtonEl.style.display =\n",
              "        google.colab.kernel.accessAllowed ? 'block' : 'none';\n",
              "    })();\n",
              "  </script>\n",
              "</div>\n",
              "\n",
              "    </div>\n",
              "  </div>\n"
            ],
            "application/vnd.google.colaboratory.intrinsic+json": {
              "type": "dataframe",
              "variable_name": "X_train_df"
            }
          },
          "metadata": {},
          "execution_count": 15
        }
      ],
      "source": [
        "X_train_df.head()"
      ]
    },
    {
      "cell_type": "markdown",
      "metadata": {
        "id": "UFD_er0Qay6x"
      },
      "source": [
        "# Entrenamiento de Modelos\n",
        "### Logistic Regression Model"
      ]
    },
    {
      "cell_type": "code",
      "execution_count": null,
      "metadata": {
        "colab": {
          "base_uri": "https://localhost:8080/"
        },
        "id": "GfCR6vvnR_0f",
        "outputId": "8b846a62-654d-464f-e1ae-6fe938f9d940"
      },
      "outputs": [
        {
          "output_type": "stream",
          "name": "stdout",
          "text": [
            "Accuracy for Logistic Regression Model: 0.85\n"
          ]
        }
      ],
      "source": [
        "logistic_regression = LogisticRegression(max_iter=1000)\n",
        "\n",
        "logistic_regression.fit(X_train_df, y_train)\n",
        "logistic_pred = logistic_regression.predict(X_test_df)\n",
        "acc_lr = accuracy_score(y_test, logistic_pred)\n",
        "print(f'Accuracy for Logistic Regression Model: {acc_lr:.2f}')"
      ]
    },
    {
      "cell_type": "markdown",
      "metadata": {
        "id": "NvPP0KmQbYo_"
      },
      "source": [
        "### Random Forest Classifier Model"
      ]
    },
    {
      "cell_type": "code",
      "execution_count": null,
      "metadata": {
        "colab": {
          "base_uri": "https://localhost:8080/"
        },
        "id": "dcmXK0xCSO71",
        "outputId": "bad32936-88bf-4002-c7b1-ee60c5ac58a6"
      },
      "outputs": [
        {
          "output_type": "stream",
          "name": "stdout",
          "text": [
            "Accuracy for Random Forest Classifier Model: 0.83\n"
          ]
        }
      ],
      "source": [
        "random_forest = RandomForestClassifier()\n",
        "\n",
        "random_forest.fit(X_train_df, y_train)\n",
        "randomF_pred = random_forest.predict(X_test_df)\n",
        "acc_rf = accuracy_score(y_test, randomF_pred)\n",
        "print(f'Accuracy for Random Forest Classifier Model: {acc_rf:.2f}')"
      ]
    },
    {
      "cell_type": "markdown",
      "metadata": {
        "id": "4KcElJCtb0sn"
      },
      "source": [
        "### K Neighbors Classifier Model"
      ]
    },
    {
      "cell_type": "code",
      "execution_count": null,
      "metadata": {
        "colab": {
          "base_uri": "https://localhost:8080/"
        },
        "id": "QQ-ljNymSvSC",
        "outputId": "712069f8-1adf-46dc-c5ff-e235125d3551"
      },
      "outputs": [
        {
          "output_type": "stream",
          "name": "stdout",
          "text": [
            "Accuracy for K Neighbors Classifier Model: 0.82\n"
          ]
        }
      ],
      "source": [
        "knn = KNeighborsClassifier()\n",
        "\n",
        "knn.fit(X_train_df, y_train)\n",
        "knn_pred = knn.predict(X_test_df)\n",
        "acc_kn = accuracy_score(y_test, knn_pred)\n",
        "print(f'Accuracy for K Neighbors Classifier Model: {acc_kn:.2f}')"
      ]
    },
    {
      "cell_type": "markdown",
      "metadata": {
        "id": "zp5ENmaTcb00"
      },
      "source": [
        "# Métricas de Equidad\n",
        "#### Modelo escogido por mejor rendimiento: **Logistic Regression Model**\n",
        "#### Atributos sensibles a estudiar: **age** y **sex**"
      ]
    },
    {
      "cell_type": "markdown",
      "metadata": {
        "id": "ukUHvkSTdIlI"
      },
      "source": [
        "## Independencia (Demographic Parity)"
      ]
    },
    {
      "cell_type": "code",
      "execution_count": null,
      "metadata": {
        "id": "dud7uJs4EdZX"
      },
      "outputs": [],
      "source": [
        "best_pred = logistic_pred"
      ]
    },
    {
      "cell_type": "code",
      "execution_count": null,
      "metadata": {
        "id": "y1gE7xoaG2Cf"
      },
      "outputs": [],
      "source": [
        "from aif360.datasets import BinaryLabelDataset\n",
        "\n",
        "df_test_aif = BinaryLabelDataset(\n",
        "    df=pd.concat([X_test_df, pd.DataFrame(y_test, columns=['income'])], axis=1),\n",
        "    label_names=['income'],\n",
        "    protected_attribute_names=['age', 'sex'],\n",
        ")\n",
        "\n",
        "df_test_pred_aif = df_test_aif.copy(deepcopy=True)\n",
        "df_test_pred_aif.labels = best_pred.reshape(-1, 1)\n",
        "\n",
        "df_train_aif = BinaryLabelDataset(\n",
        "    df=pd.concat([X_train_df, pd.DataFrame(y_train, columns=['income'])], axis=1),\n",
        "    label_names=['income'],\n",
        "    protected_attribute_names=['age', 'sex'],\n",
        ")"
      ]
    },
    {
      "cell_type": "code",
      "execution_count": null,
      "metadata": {
        "colab": {
          "base_uri": "https://localhost:8080/"
        },
        "id": "9e5yJhS1-mdM",
        "outputId": "fd82af7e-34bc-477b-e5a6-0657587d0bae"
      },
      "outputs": [
        {
          "output_type": "stream",
          "name": "stdout",
          "text": [
            "Disparate Impact for age: 1.050856421312152\n",
            "Disparate Impact for sex: 0.2816774955165621\n"
          ]
        }
      ],
      "source": [
        "from aif360.metrics import ClassificationMetric\n",
        "\n",
        "# Para 'age'\n",
        "metric_age = ClassificationMetric(\n",
        "    df_test_aif,\n",
        "    df_test_pred_aif,\n",
        "    privileged_groups=[{\"age\": 1}],\n",
        "    unprivileged_groups=[{\"age\": 0}]\n",
        ")\n",
        "print(\"Disparate Impact for age:\", metric_age.disparate_impact())\n",
        "\n",
        "# Para 'sex'\n",
        "metric_sex = ClassificationMetric(\n",
        "    df_test_aif,\n",
        "    df_test_pred_aif,\n",
        "    privileged_groups=[{\"sex\": 1}],\n",
        "    unprivileged_groups=[{\"sex\": 0}]\n",
        ")\n",
        "print(\"Disparate Impact for sex:\", metric_sex.disparate_impact())"
      ]
    },
    {
      "cell_type": "markdown",
      "metadata": {
        "id": "qcMp7nFSdUQp"
      },
      "source": [
        "## Separación (Equalized Odds)"
      ]
    },
    {
      "cell_type": "code",
      "execution_count": null,
      "metadata": {
        "id": "3Yr05DpXe-7n"
      },
      "outputs": [],
      "source": [
        "def map_col(df, col, mapping) -> pd.DataFrame:\n",
        "    df[col] = df[col].map(mapping)\n",
        "    return df\n",
        "\n",
        "def calculate_tpr_fpr_sex(data, subgroup):\n",
        "    group_data = data[data['sex'] == subgroup]\n",
        "    true_positive = np.sum((group_data['y_pred'] == 1) & (group_data['y_true'] == 1))\n",
        "    false_positive = np.sum((group_data['y_pred'] == 1) & (group_data['y_true'] == 0))\n",
        "    total_positive = np.sum(group_data['y_true'] == 1)\n",
        "    total_negative = np.sum(group_data['y_true'] == 0)\n",
        "\n",
        "    tpr = true_positive / total_positive if total_positive > 0 else 0\n",
        "    fpr = false_positive / total_negative if total_negative > 0 else 0\n",
        "\n",
        "    return tpr, fpr\n",
        "\n",
        "def calculate_tpr_fpr_age(data, subgroup):\n",
        "    group_data = data[data['age'] == subgroup]\n",
        "    true_positive = np.sum((group_data['y_pred'] == 1) & (group_data['y_true'] == 1))\n",
        "    false_positive = np.sum((group_data['y_pred'] == 1) & (group_data['y_true'] == 0))\n",
        "    total_positive = np.sum(group_data['y_true'] == 1)\n",
        "    total_negative = np.sum(group_data['y_true'] == 0)\n",
        "\n",
        "    tpr = true_positive / total_positive if total_positive > 0 else 0\n",
        "    fpr = false_positive / total_negative if total_negative > 0 else 0\n",
        "\n",
        "    return tpr, fpr"
      ]
    },
    {
      "cell_type": "markdown",
      "metadata": {
        "id": "eGLRTJKJgNrj"
      },
      "source": [
        "### Equalized Odds for **age** atribute\n",
        "Map: [**0: Older Adults**, **1: Young Adults**]"
      ]
    },
    {
      "cell_type": "code",
      "execution_count": null,
      "metadata": {
        "id": "jBj9CvNQ-qVY"
      },
      "outputs": [],
      "source": [
        "def prepare_df_to_separacion(X_test_dataframe, y_test, y_pred):\n",
        "    return pd.concat([\n",
        "        X_test_dataframe,\n",
        "        pd.DataFrame(y_test, columns=['y_true']),\n",
        "        pd.DataFrame(y_pred, columns=['y_pred'])\n",
        "    ], axis=1)\n",
        "\n",
        "separacion_df = prepare_df_to_separacion(X_test_df, y_test, best_pred)"
      ]
    },
    {
      "cell_type": "code",
      "execution_count": null,
      "metadata": {
        "colab": {
          "base_uri": "https://localhost:8080/"
        },
        "id": "CkQqJSfzIPTO",
        "outputId": "3520c2a9-de38-4024-f09e-cc55aacfce32"
      },
      "outputs": [
        {
          "output_type": "stream",
          "name": "stdout",
          "text": [
            "Age Group: Older Adults\n",
            "  True Positive Rate (TPR): 0.57\n",
            "  False Positive Rate (FPR): 0.07\n",
            "Age Group: Young Adults\n",
            "  True Positive Rate (TPR): 0.59\n",
            "  False Positive Rate (FPR): 0.07\n"
          ]
        }
      ],
      "source": [
        "for age in [0, 1]:\n",
        "    tpr, fpr = calculate_tpr_fpr_age(separacion_df, age)\n",
        "    age_label = 'Older Adults' if age == 0 else 'Young Adults'\n",
        "    print(f\"Age Group: {age_label}\")\n",
        "    print(f\"  True Positive Rate (TPR): {tpr:.2f}\")\n",
        "    print(f\"  False Positive Rate (FPR): {fpr:.2f}\")"
      ]
    },
    {
      "cell_type": "markdown",
      "metadata": {
        "id": "ks5s1lMdhlP_"
      },
      "source": [
        "### Equalized Odds for **sex** atribute\n",
        "Map: [**0: Female**, **1: Male**]"
      ]
    },
    {
      "cell_type": "code",
      "execution_count": null,
      "metadata": {
        "colab": {
          "base_uri": "https://localhost:8080/"
        },
        "id": "53CtaDwegUWH",
        "outputId": "0a0bd960-43a3-46bd-d84c-790ef76a8e63"
      },
      "outputs": [
        {
          "output_type": "stream",
          "name": "stdout",
          "text": [
            "Sex Group: Female\n",
            "  True Positive Rate (TPR): 0.45\n",
            "  False Positive Rate (FPR): 0.02\n",
            "Sex Group: Male\n",
            "  True Positive Rate (TPR): 0.61\n",
            "  False Positive Rate (FPR): 0.10\n"
          ]
        }
      ],
      "source": [
        "for sex in [0, 1]:\n",
        "    tpr, fpr = calculate_tpr_fpr_sex(separacion_df, sex)\n",
        "    sex_label = 'Female' if sex == 0 else 'Male'\n",
        "    print(f\"Sex Group: {sex_label}\")\n",
        "    print(f\"  True Positive Rate (TPR): {tpr:.2f}\")\n",
        "    print(f\"  False Positive Rate (FPR): {fpr:.2f}\")"
      ]
    },
    {
      "cell_type": "markdown",
      "metadata": {
        "id": "FtnPwLPQnAfm"
      },
      "source": [
        "## Suficiencia (Predictive Parity)"
      ]
    },
    {
      "cell_type": "code",
      "source": [
        "def calculate_predictive_parity_age(data, subgroup):\n",
        "    \"\"\"\n",
        "    Calcula la paridad predictiva (Predictive Parity) para un subgrupo basado en la columna 'age'.\n",
        "\n",
        "    Parámetros:\n",
        "        data (DataFrame): Conjunto de datos con las columnas 'y_pred' (predicciones) y 'y_true' (etiquetas reales).\n",
        "        subgroup (any): Valor del subgrupo dentro de la columna 'age'.\n",
        "\n",
        "    Retorna:\n",
        "        precision (float): Precisión de las predicciones positivas para el subgrupo.\n",
        "    \"\"\"\n",
        "    # Filtrar los datos para el subgrupo\n",
        "    group_data = data[data['age'] == subgroup]\n",
        "\n",
        "    # Calcular verdaderos positivos (TP) y predicciones positivas totales\n",
        "    true_positive = np.sum((group_data['y_pred'] == 1) & (group_data['y_true'] == 1))\n",
        "    false_positive = np.sum((group_data['y_pred'] == 1) & (group_data['y_true'] == 0))\n",
        "\n",
        "    # Calcular precisión para predicciones positivas\n",
        "    predicted_positive = true_positive + false_positive\n",
        "\n",
        "     # Calcular Predictive Parity (PPV)\n",
        "    predictive_parity = true_positive / predicted_positive if predicted_positive > 0 else 0\n",
        "\n",
        "    return predictive_parity\n",
        "\n",
        "\n",
        "\n",
        "def calculate_predictive_parity_sex(data, subgroup):\n",
        "    \"\"\"\n",
        "    Calcula la paridad predictiva (Predictive Parity) para un subgrupo basado en la columna 'sex'.\n",
        "\n",
        "    Parámetros:\n",
        "        data (DataFrame): Conjunto de datos con las columnas 'y_pred' (predicciones) y 'y_true' (etiquetas reales).\n",
        "        subgroup (any): Valor del subgrupo dentro de la columna 'age'.\n",
        "\n",
        "    Retorna:\n",
        "        precision (float): Precisión de las predicciones positivas para el subgrupo.\n",
        "    \"\"\"\n",
        "    # Filtrar los datos para el subgrupo\n",
        "    group_data = data[data['sex'] == subgroup]\n",
        "\n",
        "    # Calcular verdaderos positivos (TP) y predicciones positivas totales\n",
        "    true_positive = np.sum((group_data['y_pred'] == 1) & (group_data['y_true'] == 1))\n",
        "    false_positive = np.sum((group_data['y_pred'] == 1) & (group_data['y_true'] == 0))\n",
        "\n",
        "    # Calcular precisión para predicciones positivas\n",
        "    predicted_positive = true_positive + false_positive\n",
        "\n",
        "     # Calcular Predictive Parity (PPV)\n",
        "    predictive_parity = true_positive / predicted_positive if predicted_positive > 0 else 0\n",
        "\n",
        "    return predictive_parity"
      ],
      "metadata": {
        "id": "0_IFrsHIDLvu"
      },
      "execution_count": null,
      "outputs": []
    },
    {
      "cell_type": "markdown",
      "source": [
        "# Predictive Parity for age atribute"
      ],
      "metadata": {
        "id": "8WVCfaJ8D_Hk"
      }
    },
    {
      "cell_type": "code",
      "source": [
        "for sex in [0, 1]:\n",
        "    parity_sex = calculate_predictive_parity_sex(separacion_df, sex)\n",
        "    sex_label = 'Female' if sex == 0 else 'Male'\n",
        "    print(f\"Sex Group: {sex_label}\")\n",
        "    print(f\"Predictive Parity para el subgrupo : {parity_sex}\")"
      ],
      "metadata": {
        "colab": {
          "base_uri": "https://localhost:8080/"
        },
        "id": "BjjFeN0iFYjr",
        "outputId": "411dbc27-95ad-41cf-b711-60aa336ac7ff"
      },
      "execution_count": null,
      "outputs": [
        {
          "output_type": "stream",
          "name": "stdout",
          "text": [
            "Sex Group: Female\n",
            "Predictive Parity para el subgrupo : 0.7130177514792899\n",
            "Sex Group: Male\n",
            "Predictive Parity para el subgrupo : 0.7310683585755219\n"
          ]
        }
      ]
    },
    {
      "cell_type": "markdown",
      "source": [
        "# Predictive Parity for sex atribute"
      ],
      "metadata": {
        "id": "x89mujOBENWx"
      }
    },
    {
      "cell_type": "code",
      "source": [
        "for age in [0, 1]:\n",
        "    parity_age = calculate_predictive_parity_age(separacion_df, age)\n",
        "    age_label = 'Older Adults' if age == 0 else 'Young Adults'\n",
        "    print(f\"Age Group: {age_label}\")\n",
        "    print(f\"Predictive Parity para el subgrupo: {parity_age}\")"
      ],
      "metadata": {
        "colab": {
          "base_uri": "https://localhost:8080/"
        },
        "id": "Lr-kLKP-Es-i",
        "outputId": "54648e67-c0cc-48fb-e695-4f04c0f0d97b"
      },
      "execution_count": null,
      "outputs": [
        {
          "output_type": "stream",
          "name": "stdout",
          "text": [
            "Age Group: Older Adults\n",
            "Predictive Parity para el subgrupo: 0.7467248908296943\n",
            "Age Group: Young Adults\n",
            "Predictive Parity para el subgrupo: 0.7272727272727273\n"
          ]
        }
      ]
    },
    {
      "cell_type": "code",
      "source": [
        "# Calcular el Valor Predictivo Positivo (PPV)\n",
        "privileged_ppv_age = metric_age.positive_predictive_value(privileged=True)\n",
        "unprivileged_ppv_age = metric_age.positive_predictive_value(privileged=False)\n",
        "predictive_parity_difference_age = privileged_ppv_age - unprivileged_ppv_age\n",
        "print(f\"Privileged PPV age: {privileged_ppv_age}\")\n",
        "print(f\"Unprivileged PPV age: {unprivileged_ppv_age}\")\n",
        "print(f\"Predictive Parity Difference age: {predictive_parity_difference_age}\")\n",
        "\n",
        "# Calcular el Valor Predictivo Positivo (PPV)\n",
        "privileged_ppv_sex = metric_sex.positive_predictive_value(privileged=True)\n",
        "unprivileged_ppv_sex = metric_sex.positive_predictive_value(privileged=False)\n",
        "\n",
        "\n",
        "predictive_parity_difference_sex = privileged_ppv_sex - unprivileged_ppv_sex\n",
        "print(f\"Privileged PPV: {privileged_ppv_sex}\")\n",
        "print(f\"Unprivileged PPV: {unprivileged_ppv_sex}\")\n",
        "print(f\"Predictive Parity Difference: {predictive_parity_difference_sex}\")"
      ],
      "metadata": {
        "colab": {
          "base_uri": "https://localhost:8080/"
        },
        "id": "vU7Oh6uaPBzo",
        "outputId": "1c938aaf-0ee9-4f10-f8fe-d16dd9e2e2e8"
      },
      "execution_count": null,
      "outputs": [
        {
          "output_type": "stream",
          "name": "stdout",
          "text": [
            "Privileged PPV age: 0.7272727272727273\n",
            "Unprivileged PPV age: 0.7467248908296943\n",
            "Predictive Parity Difference age: -0.019452163556966995\n",
            "Privileged PPV: 0.7310683585755219\n",
            "Unprivileged PPV: 0.7130177514792899\n",
            "Predictive Parity Difference: 0.018050607096231963\n"
          ]
        }
      ]
    },
    {
      "cell_type": "markdown",
      "metadata": {
        "id": "1WENKgyhh44_"
      },
      "source": [
        "# Mitigación de Sesgos\n",
        "### Pre-procesamiento: **Reweighing**\n",
        "### In-procesamiento: **Adversarial Debiasing**\n",
        "### Post-procesamiento:"
      ]
    },
    {
      "cell_type": "markdown",
      "metadata": {
        "id": "RFcG9Ttaicoi"
      },
      "source": [
        "## Pre-procesamiento: **Reweighing**"
      ]
    },
    {
      "cell_type": "code",
      "execution_count": null,
      "metadata": {
        "colab": {
          "base_uri": "https://localhost:8080/"
        },
        "id": "AeCu6ZOv-qVe",
        "outputId": "9dd01e3e-feb1-4647-ba45-ead0d8ef2b27"
      },
      "outputs": [
        {
          "output_type": "stream",
          "name": "stdout",
          "text": [
            "Nuevos pesos tras Reweighing:\n",
            "[1.09493593 0.8507266  0.8507266  0.78650541 1.09493593 1.09493593\n",
            " 1.09493593 0.8507266  1.09493593 0.8507266 ]\n"
          ]
        }
      ],
      "source": [
        "from aif360.algorithms.preprocessing import Reweighing\n",
        "from aif360.datasets import BinaryLabelDataset\n",
        "from typing import List\n",
        "\n",
        "def reweighingPreprocessing(\n",
        "    train_aif_df: BinaryLabelDataset,\n",
        "    sensitive_features: List[str],\n",
        "):\n",
        "    \"\"\"\n",
        "    Aplica Reweighing a un conjunto de entrenamiento considerando múltiples atributos sensibles.\n",
        "    \"\"\"\n",
        "\n",
        "    # Crear procesadores Reweighing para cada atributo sensible\n",
        "    reweigh_processors = []\n",
        "    for sensitive_feature in sensitive_features:\n",
        "        reweigh_processors.append(\n",
        "            Reweighing(\n",
        "                unprivileged_groups=[{sensitive_feature: 0}],\n",
        "                privileged_groups=[{sensitive_feature: 1}]\n",
        "            )\n",
        "        )\n",
        "\n",
        "    # Aplicar Reweighing a los pesos del dataset\n",
        "    actual_train_df = train_aif_df.copy()\n",
        "\n",
        "    for reweigh_processor in reweigh_processors:\n",
        "        reweigh_processor: Reweighing\n",
        "        reweigh_processor.fit(actual_train_df)\n",
        "        actual_train_df = reweigh_processor.transform(actual_train_df)\n",
        "\n",
        "    return actual_train_df\n",
        "\n",
        "# Aplicar Reweighing\n",
        "reweighted_train = reweighingPreprocessing(\n",
        "    df_train_aif,\n",
        "    ['age', 'sex']\n",
        ")\n",
        "\n",
        "# Mostrar los nuevos pesos después del preprocesamiento\n",
        "print(\"Nuevos pesos tras Reweighing:\")\n",
        "print(reweighted_train.instance_weights[:10])  # Muestra los primeros 10 ejemplos"
      ]
    },
    {
      "cell_type": "code",
      "execution_count": null,
      "metadata": {
        "colab": {
          "base_uri": "https://localhost:8080/"
        },
        "id": "i_z-QXS1-qVe",
        "outputId": "db867dc3-51bf-48da-918d-4fb4edff77a9"
      },
      "outputs": [
        {
          "output_type": "stream",
          "name": "stdout",
          "text": [
            "Accuracy for Logistic Regression Model with Pre-processing: 0.84\n"
          ]
        },
        {
          "output_type": "stream",
          "name": "stderr",
          "text": [
            "/usr/local/lib/python3.10/dist-packages/sklearn/base.py:486: UserWarning: X has feature names, but LogisticRegression was fitted without feature names\n",
            "  warnings.warn(\n"
          ]
        }
      ],
      "source": [
        "logistic_model_pre = LogisticRegression(max_iter=5000, random_state=42)\n",
        "logistic_model_pre.fit(\n",
        "    reweighted_train.features,\n",
        "    reweighted_train.labels.ravel(),\n",
        "    sample_weight=reweighted_train.instance_weights\n",
        ")\n",
        "y_pred_logistic_pre = logistic_model_pre.predict(X_test_df)\n",
        "acc_lr_pre = accuracy_score(y_test, y_pred_logistic_pre)\n",
        "print(f'Accuracy for Logistic Regression Model with Pre-processing: {acc_lr_pre:.2f}')"
      ]
    },
    {
      "cell_type": "markdown",
      "metadata": {
        "id": "6rS3vu7C2CEZ"
      },
      "source": [
        "## In-procesamiento: **Inserte Técnica Aquí**"
      ]
    },
    {
      "cell_type": "code",
      "execution_count": null,
      "metadata": {
        "colab": {
          "base_uri": "https://localhost:8080/"
        },
        "id": "nX5KvAKa-qVe",
        "outputId": "daddb0ed-883a-4d9c-c410-85346aa50864"
      },
      "outputs": [
        {
          "output_type": "stream",
          "name": "stdout",
          "text": [
            "Requirement already satisfied: tensorflow in /usr/local/lib/python3.10/dist-packages (2.17.1)\n",
            "Requirement already satisfied: absl-py>=1.0.0 in /usr/local/lib/python3.10/dist-packages (from tensorflow) (1.4.0)\n",
            "Requirement already satisfied: astunparse>=1.6.0 in /usr/local/lib/python3.10/dist-packages (from tensorflow) (1.6.3)\n",
            "Requirement already satisfied: flatbuffers>=24.3.25 in /usr/local/lib/python3.10/dist-packages (from tensorflow) (24.3.25)\n",
            "Requirement already satisfied: gast!=0.5.0,!=0.5.1,!=0.5.2,>=0.2.1 in /usr/local/lib/python3.10/dist-packages (from tensorflow) (0.6.0)\n",
            "Requirement already satisfied: google-pasta>=0.1.1 in /usr/local/lib/python3.10/dist-packages (from tensorflow) (0.2.0)\n",
            "Requirement already satisfied: h5py>=3.10.0 in /usr/local/lib/python3.10/dist-packages (from tensorflow) (3.12.1)\n",
            "Requirement already satisfied: libclang>=13.0.0 in /usr/local/lib/python3.10/dist-packages (from tensorflow) (18.1.1)\n",
            "Requirement already satisfied: ml-dtypes<0.5.0,>=0.3.1 in /usr/local/lib/python3.10/dist-packages (from tensorflow) (0.4.1)\n",
            "Requirement already satisfied: opt-einsum>=2.3.2 in /usr/local/lib/python3.10/dist-packages (from tensorflow) (3.4.0)\n",
            "Requirement already satisfied: packaging in /usr/local/lib/python3.10/dist-packages (from tensorflow) (24.2)\n",
            "Requirement already satisfied: protobuf!=4.21.0,!=4.21.1,!=4.21.2,!=4.21.3,!=4.21.4,!=4.21.5,<5.0.0dev,>=3.20.3 in /usr/local/lib/python3.10/dist-packages (from tensorflow) (4.25.5)\n",
            "Requirement already satisfied: requests<3,>=2.21.0 in /usr/local/lib/python3.10/dist-packages (from tensorflow) (2.32.3)\n",
            "Requirement already satisfied: setuptools in /usr/local/lib/python3.10/dist-packages (from tensorflow) (75.1.0)\n",
            "Requirement already satisfied: six>=1.12.0 in /usr/local/lib/python3.10/dist-packages (from tensorflow) (1.16.0)\n",
            "Requirement already satisfied: termcolor>=1.1.0 in /usr/local/lib/python3.10/dist-packages (from tensorflow) (2.5.0)\n",
            "Requirement already satisfied: typing-extensions>=3.6.6 in /usr/local/lib/python3.10/dist-packages (from tensorflow) (4.12.2)\n",
            "Requirement already satisfied: wrapt>=1.11.0 in /usr/local/lib/python3.10/dist-packages (from tensorflow) (1.16.0)\n",
            "Requirement already satisfied: grpcio<2.0,>=1.24.3 in /usr/local/lib/python3.10/dist-packages (from tensorflow) (1.68.0)\n",
            "Requirement already satisfied: tensorboard<2.18,>=2.17 in /usr/local/lib/python3.10/dist-packages (from tensorflow) (2.17.1)\n",
            "Requirement already satisfied: keras>=3.2.0 in /usr/local/lib/python3.10/dist-packages (from tensorflow) (3.5.0)\n",
            "Requirement already satisfied: tensorflow-io-gcs-filesystem>=0.23.1 in /usr/local/lib/python3.10/dist-packages (from tensorflow) (0.37.1)\n",
            "Requirement already satisfied: numpy<2.0.0,>=1.23.5 in /usr/local/lib/python3.10/dist-packages (from tensorflow) (1.26.4)\n",
            "Requirement already satisfied: wheel<1.0,>=0.23.0 in /usr/local/lib/python3.10/dist-packages (from astunparse>=1.6.0->tensorflow) (0.45.0)\n",
            "Requirement already satisfied: rich in /usr/local/lib/python3.10/dist-packages (from keras>=3.2.0->tensorflow) (13.9.4)\n",
            "Requirement already satisfied: namex in /usr/local/lib/python3.10/dist-packages (from keras>=3.2.0->tensorflow) (0.0.8)\n",
            "Requirement already satisfied: optree in /usr/local/lib/python3.10/dist-packages (from keras>=3.2.0->tensorflow) (0.13.1)\n",
            "Requirement already satisfied: charset-normalizer<4,>=2 in /usr/local/lib/python3.10/dist-packages (from requests<3,>=2.21.0->tensorflow) (3.4.0)\n",
            "Requirement already satisfied: idna<4,>=2.5 in /usr/local/lib/python3.10/dist-packages (from requests<3,>=2.21.0->tensorflow) (3.10)\n",
            "Requirement already satisfied: urllib3<3,>=1.21.1 in /usr/local/lib/python3.10/dist-packages (from requests<3,>=2.21.0->tensorflow) (2.2.3)\n",
            "Requirement already satisfied: certifi>=2017.4.17 in /usr/local/lib/python3.10/dist-packages (from requests<3,>=2.21.0->tensorflow) (2024.8.30)\n",
            "Requirement already satisfied: markdown>=2.6.8 in /usr/local/lib/python3.10/dist-packages (from tensorboard<2.18,>=2.17->tensorflow) (3.7)\n",
            "Requirement already satisfied: tensorboard-data-server<0.8.0,>=0.7.0 in /usr/local/lib/python3.10/dist-packages (from tensorboard<2.18,>=2.17->tensorflow) (0.7.2)\n",
            "Requirement already satisfied: werkzeug>=1.0.1 in /usr/local/lib/python3.10/dist-packages (from tensorboard<2.18,>=2.17->tensorflow) (3.1.3)\n",
            "Requirement already satisfied: MarkupSafe>=2.1.1 in /usr/local/lib/python3.10/dist-packages (from werkzeug>=1.0.1->tensorboard<2.18,>=2.17->tensorflow) (3.0.2)\n",
            "Requirement already satisfied: markdown-it-py>=2.2.0 in /usr/local/lib/python3.10/dist-packages (from rich->keras>=3.2.0->tensorflow) (3.0.0)\n",
            "Requirement already satisfied: pygments<3.0.0,>=2.13.0 in /usr/local/lib/python3.10/dist-packages (from rich->keras>=3.2.0->tensorflow) (2.18.0)\n",
            "Requirement already satisfied: mdurl~=0.1 in /usr/local/lib/python3.10/dist-packages (from markdown-it-py>=2.2.0->rich->keras>=3.2.0->tensorflow) (0.1.2)\n"
          ]
        }
      ],
      "source": [
        "%pip install tensorflow"
      ]
    },
    {
      "cell_type": "code",
      "execution_count": null,
      "metadata": {
        "id": "dFd-dEse-qVe"
      },
      "outputs": [],
      "source": [
        "from typing import List\n",
        "from aif360.algorithms.inprocessing import AdversarialDebiasing\n",
        "from aif360.datasets import BinaryLabelDataset\n",
        "from aif360.metrics import ClassificationMetric\n",
        "import tensorflow as tf\n",
        "\n",
        "def adversarialDebiasingProcessing(\n",
        "    train_aif_df: BinaryLabelDataset,\n",
        "    test_aif_df: BinaryLabelDataset,\n",
        "    sensitive_features: List[str],\n",
        "    num_epochs: int = 50,\n",
        "    batch_size: int = 128,\n",
        "    adversary_loss_weight: float = 0.1\n",
        "):\n",
        "    \"\"\"\n",
        "    Función para entrenar un modelo debiasado usando AdversarialDebiasing.\n",
        "\n",
        "    Parámetros:\n",
        "    - train_aif_df (BinaryLabelDataset): Datos de entrenamiento.\n",
        "    - test_aif_df (BinaryLabelDataset): Datos de prueba.\n",
        "    - sensitive_features (List[str]): Lista de características sensibles (e.g., ['age', 'sex']).\n",
        "    - num_epochs (int): Número de épocas para entrenar.\n",
        "    - batch_size (int): Tamaño de lote durante el entrenamiento.\n",
        "    - adversary_loss_weight (float): Peso del adversario para reducir el sesgo.\n",
        "\n",
        "    Retorno:\n",
        "    - predicted_test_aif_df (BinaryLabelDataset): Predicciones debiasadas en el conjunto de prueba.\n",
        "    \"\"\"\n",
        "\n",
        "    tf.compat.v1.disable_eager_execution()\n",
        "    sess = tf.compat.v1.Session()\n",
        "    debiased_models = []\n",
        "    predicted_test_aif_df = test_aif_df.copy()\n",
        "\n",
        "    for sensitive_feature in sensitive_features:\n",
        "        # Configurar grupos privilegiados y no privilegiados\n",
        "        privileged_groups = [{sensitive_feature: 1}]\n",
        "        unprivileged_groups = [{sensitive_feature: 0}]\n",
        "\n",
        "        # Crear y entrenar el modelo debiasado\n",
        "        debiased_model = AdversarialDebiasing(\n",
        "            privileged_groups=privileged_groups,\n",
        "            unprivileged_groups=unprivileged_groups,\n",
        "            scope_name=f'debiased_classifier_{sensitive_feature}',\n",
        "            sess=sess,\n",
        "            num_epochs=num_epochs,\n",
        "            batch_size=batch_size,\n",
        "            adversary_loss_weight=adversary_loss_weight\n",
        "        )\n",
        "        print(f\"Entrenando modelo debiasado para {sensitive_feature}...\")\n",
        "        debiased_model.fit(train_aif_df)\n",
        "        debiased_models.append(debiased_model)\n",
        "\n",
        "        # Generar predicciones\n",
        "        predicted_test_aif_df = debiased_model.predict(predicted_test_aif_df)\n",
        "\n",
        "    sess.close()\n",
        "    return predicted_test_aif_df\n"
      ]
    },
    {
      "cell_type": "code",
      "execution_count": null,
      "metadata": {
        "colab": {
          "base_uri": "https://localhost:8080/"
        },
        "id": "YNFNt8Zm-qVf",
        "outputId": "60558e35-0d1a-4b0b-dc3a-5fd40b8689df"
      },
      "outputs": [
        {
          "output_type": "stream",
          "name": "stderr",
          "text": [
            "WARNING:tensorflow:From /usr/local/lib/python3.10/dist-packages/tensorflow/python/util/dispatch.py:1260: calling dropout (from tensorflow.python.ops.nn_ops) with keep_prob is deprecated and will be removed in a future version.\n",
            "Instructions for updating:\n",
            "Please use `rate` instead of `keep_prob`. Rate should be set to `rate = 1 - keep_prob`.\n"
          ]
        },
        {
          "output_type": "stream",
          "name": "stdout",
          "text": [
            "Entrenando modelo debiasado para age...\n",
            "epoch 0; iter: 0; batch classifier loss: 0.728431; batch adversarial loss: 0.454333\n",
            "epoch 0; iter: 200; batch classifier loss: 0.332419; batch adversarial loss: 0.566786\n",
            "epoch 1; iter: 0; batch classifier loss: 0.379525; batch adversarial loss: 0.555175\n",
            "epoch 1; iter: 200; batch classifier loss: 0.388904; batch adversarial loss: 0.560293\n",
            "epoch 2; iter: 0; batch classifier loss: 0.377216; batch adversarial loss: 0.510613\n",
            "epoch 2; iter: 200; batch classifier loss: 0.428254; batch adversarial loss: 0.451618\n",
            "epoch 3; iter: 0; batch classifier loss: 0.500437; batch adversarial loss: 0.509203\n",
            "epoch 3; iter: 200; batch classifier loss: 0.581373; batch adversarial loss: 0.454643\n",
            "epoch 4; iter: 0; batch classifier loss: 0.535569; batch adversarial loss: 0.369906\n",
            "epoch 4; iter: 200; batch classifier loss: 0.431177; batch adversarial loss: 0.391437\n",
            "epoch 5; iter: 0; batch classifier loss: 0.405674; batch adversarial loss: 0.389315\n",
            "epoch 5; iter: 200; batch classifier loss: 0.453007; batch adversarial loss: 0.328236\n",
            "epoch 6; iter: 0; batch classifier loss: 0.359481; batch adversarial loss: 0.331760\n",
            "epoch 6; iter: 200; batch classifier loss: 0.341576; batch adversarial loss: 0.311173\n",
            "epoch 7; iter: 0; batch classifier loss: 0.284832; batch adversarial loss: 0.283647\n",
            "epoch 7; iter: 200; batch classifier loss: 0.323466; batch adversarial loss: 0.356687\n",
            "epoch 8; iter: 0; batch classifier loss: 0.348304; batch adversarial loss: 0.358020\n",
            "epoch 8; iter: 200; batch classifier loss: 0.318402; batch adversarial loss: 0.368001\n",
            "epoch 9; iter: 0; batch classifier loss: 0.431056; batch adversarial loss: 0.328603\n",
            "epoch 9; iter: 200; batch classifier loss: 0.319210; batch adversarial loss: 0.251184\n",
            "epoch 10; iter: 0; batch classifier loss: 0.345204; batch adversarial loss: 0.330527\n",
            "epoch 10; iter: 200; batch classifier loss: 0.305057; batch adversarial loss: 0.283621\n",
            "epoch 11; iter: 0; batch classifier loss: 0.318268; batch adversarial loss: 0.349166\n",
            "epoch 11; iter: 200; batch classifier loss: 0.335529; batch adversarial loss: 0.259751\n",
            "epoch 12; iter: 0; batch classifier loss: 0.288308; batch adversarial loss: 0.307812\n",
            "epoch 12; iter: 200; batch classifier loss: 0.396927; batch adversarial loss: 0.290048\n",
            "epoch 13; iter: 0; batch classifier loss: 0.351793; batch adversarial loss: 0.319687\n",
            "epoch 13; iter: 200; batch classifier loss: 0.281100; batch adversarial loss: 0.217655\n",
            "epoch 14; iter: 0; batch classifier loss: 0.434329; batch adversarial loss: 0.261296\n",
            "epoch 14; iter: 200; batch classifier loss: 0.279751; batch adversarial loss: 0.341144\n",
            "epoch 15; iter: 0; batch classifier loss: 0.296990; batch adversarial loss: 0.261564\n",
            "epoch 15; iter: 200; batch classifier loss: 0.251054; batch adversarial loss: 0.257507\n",
            "epoch 16; iter: 0; batch classifier loss: 0.234188; batch adversarial loss: 0.210518\n",
            "epoch 16; iter: 200; batch classifier loss: 0.289891; batch adversarial loss: 0.245014\n",
            "epoch 17; iter: 0; batch classifier loss: 0.323196; batch adversarial loss: 0.308955\n",
            "epoch 17; iter: 200; batch classifier loss: 0.267060; batch adversarial loss: 0.239041\n",
            "epoch 18; iter: 0; batch classifier loss: 0.285289; batch adversarial loss: 0.295400\n",
            "epoch 18; iter: 200; batch classifier loss: 0.325242; batch adversarial loss: 0.238034\n",
            "epoch 19; iter: 0; batch classifier loss: 0.367650; batch adversarial loss: 0.294139\n",
            "epoch 19; iter: 200; batch classifier loss: 0.249515; batch adversarial loss: 0.354666\n",
            "epoch 20; iter: 0; batch classifier loss: 0.257105; batch adversarial loss: 0.366500\n",
            "epoch 20; iter: 200; batch classifier loss: 0.402493; batch adversarial loss: 0.237209\n",
            "epoch 21; iter: 0; batch classifier loss: 0.295590; batch adversarial loss: 0.274332\n",
            "epoch 21; iter: 200; batch classifier loss: 0.336003; batch adversarial loss: 0.237688\n",
            "epoch 22; iter: 0; batch classifier loss: 0.337256; batch adversarial loss: 0.313755\n",
            "epoch 22; iter: 200; batch classifier loss: 0.350479; batch adversarial loss: 0.275112\n",
            "epoch 23; iter: 0; batch classifier loss: 0.287565; batch adversarial loss: 0.198636\n",
            "epoch 23; iter: 200; batch classifier loss: 0.251253; batch adversarial loss: 0.199827\n",
            "epoch 24; iter: 0; batch classifier loss: 0.279226; batch adversarial loss: 0.348683\n",
            "epoch 24; iter: 200; batch classifier loss: 0.326639; batch adversarial loss: 0.254530\n",
            "epoch 25; iter: 0; batch classifier loss: 0.311832; batch adversarial loss: 0.276025\n",
            "epoch 25; iter: 200; batch classifier loss: 0.301409; batch adversarial loss: 0.235709\n",
            "epoch 26; iter: 0; batch classifier loss: 0.347258; batch adversarial loss: 0.292609\n",
            "epoch 26; iter: 200; batch classifier loss: 0.233906; batch adversarial loss: 0.293514\n",
            "epoch 27; iter: 0; batch classifier loss: 0.313787; batch adversarial loss: 0.331867\n",
            "epoch 27; iter: 200; batch classifier loss: 0.221674; batch adversarial loss: 0.256736\n",
            "epoch 28; iter: 0; batch classifier loss: 0.305531; batch adversarial loss: 0.216596\n",
            "epoch 28; iter: 200; batch classifier loss: 0.314280; batch adversarial loss: 0.274242\n",
            "epoch 29; iter: 0; batch classifier loss: 0.291077; batch adversarial loss: 0.235758\n",
            "epoch 29; iter: 200; batch classifier loss: 0.245517; batch adversarial loss: 0.274442\n",
            "epoch 30; iter: 0; batch classifier loss: 0.338401; batch adversarial loss: 0.217672\n",
            "epoch 30; iter: 200; batch classifier loss: 0.265385; batch adversarial loss: 0.272777\n",
            "epoch 31; iter: 0; batch classifier loss: 0.259209; batch adversarial loss: 0.292899\n",
            "epoch 31; iter: 200; batch classifier loss: 0.296414; batch adversarial loss: 0.273382\n",
            "epoch 32; iter: 0; batch classifier loss: 0.268492; batch adversarial loss: 0.217423\n",
            "epoch 32; iter: 200; batch classifier loss: 0.320645; batch adversarial loss: 0.236337\n",
            "epoch 33; iter: 0; batch classifier loss: 0.296697; batch adversarial loss: 0.311975\n",
            "epoch 33; iter: 200; batch classifier loss: 0.271796; batch adversarial loss: 0.274215\n",
            "epoch 34; iter: 0; batch classifier loss: 0.306034; batch adversarial loss: 0.313628\n",
            "epoch 34; iter: 200; batch classifier loss: 0.286312; batch adversarial loss: 0.274147\n",
            "epoch 35; iter: 0; batch classifier loss: 0.309865; batch adversarial loss: 0.235639\n",
            "epoch 35; iter: 200; batch classifier loss: 0.378181; batch adversarial loss: 0.274664\n",
            "epoch 36; iter: 0; batch classifier loss: 0.290017; batch adversarial loss: 0.293216\n",
            "epoch 36; iter: 200; batch classifier loss: 0.344838; batch adversarial loss: 0.255034\n",
            "epoch 37; iter: 0; batch classifier loss: 0.352882; batch adversarial loss: 0.311593\n",
            "epoch 37; iter: 200; batch classifier loss: 0.319659; batch adversarial loss: 0.311661\n",
            "epoch 38; iter: 0; batch classifier loss: 0.321567; batch adversarial loss: 0.255722\n",
            "epoch 38; iter: 200; batch classifier loss: 0.295961; batch adversarial loss: 0.254924\n",
            "epoch 39; iter: 0; batch classifier loss: 0.232393; batch adversarial loss: 0.369414\n",
            "epoch 39; iter: 200; batch classifier loss: 0.287566; batch adversarial loss: 0.311940\n",
            "epoch 40; iter: 0; batch classifier loss: 0.292610; batch adversarial loss: 0.350649\n",
            "epoch 40; iter: 200; batch classifier loss: 0.270544; batch adversarial loss: 0.312158\n",
            "epoch 41; iter: 0; batch classifier loss: 0.256158; batch adversarial loss: 0.255406\n",
            "epoch 41; iter: 200; batch classifier loss: 0.301126; batch adversarial loss: 0.330880\n",
            "epoch 42; iter: 0; batch classifier loss: 0.315887; batch adversarial loss: 0.368648\n",
            "epoch 42; iter: 200; batch classifier loss: 0.295639; batch adversarial loss: 0.198182\n",
            "epoch 43; iter: 0; batch classifier loss: 0.341497; batch adversarial loss: 0.388214\n",
            "epoch 43; iter: 200; batch classifier loss: 0.297347; batch adversarial loss: 0.312253\n",
            "epoch 44; iter: 0; batch classifier loss: 0.265899; batch adversarial loss: 0.349840\n",
            "epoch 44; iter: 200; batch classifier loss: 0.329316; batch adversarial loss: 0.254814\n",
            "epoch 45; iter: 0; batch classifier loss: 0.354349; batch adversarial loss: 0.217242\n",
            "epoch 45; iter: 200; batch classifier loss: 0.271344; batch adversarial loss: 0.312062\n",
            "epoch 46; iter: 0; batch classifier loss: 0.300485; batch adversarial loss: 0.216924\n",
            "epoch 46; iter: 200; batch classifier loss: 0.279088; batch adversarial loss: 0.388306\n",
            "epoch 47; iter: 0; batch classifier loss: 0.334867; batch adversarial loss: 0.350703\n",
            "epoch 47; iter: 200; batch classifier loss: 0.340093; batch adversarial loss: 0.293414\n",
            "epoch 48; iter: 0; batch classifier loss: 0.264928; batch adversarial loss: 0.274545\n",
            "epoch 48; iter: 200; batch classifier loss: 0.260043; batch adversarial loss: 0.312136\n",
            "epoch 49; iter: 0; batch classifier loss: 0.256418; batch adversarial loss: 0.255175\n",
            "epoch 49; iter: 200; batch classifier loss: 0.299294; batch adversarial loss: 0.179299\n",
            "Entrenando modelo debiasado para sex...\n",
            "epoch 0; iter: 0; batch classifier loss: 0.763137; batch adversarial loss: 0.730912\n",
            "epoch 0; iter: 200; batch classifier loss: 0.425071; batch adversarial loss: 0.652511\n",
            "epoch 1; iter: 0; batch classifier loss: 0.288307; batch adversarial loss: 0.670963\n",
            "epoch 1; iter: 200; batch classifier loss: 0.321188; batch adversarial loss: 0.596133\n",
            "epoch 2; iter: 0; batch classifier loss: 0.365949; batch adversarial loss: 0.627548\n",
            "epoch 2; iter: 200; batch classifier loss: 0.309901; batch adversarial loss: 0.638813\n",
            "epoch 3; iter: 0; batch classifier loss: 0.400195; batch adversarial loss: 0.668355\n",
            "epoch 3; iter: 200; batch classifier loss: 0.334417; batch adversarial loss: 0.641989\n",
            "epoch 4; iter: 0; batch classifier loss: 0.401206; batch adversarial loss: 0.623110\n",
            "epoch 4; iter: 200; batch classifier loss: 0.478018; batch adversarial loss: 0.652997\n",
            "epoch 5; iter: 0; batch classifier loss: 0.515410; batch adversarial loss: 0.659251\n",
            "epoch 5; iter: 200; batch classifier loss: 0.295452; batch adversarial loss: 0.620562\n",
            "epoch 6; iter: 0; batch classifier loss: 0.301597; batch adversarial loss: 0.675725\n",
            "epoch 6; iter: 200; batch classifier loss: 0.318588; batch adversarial loss: 0.589198\n",
            "epoch 7; iter: 0; batch classifier loss: 0.391143; batch adversarial loss: 0.632129\n",
            "epoch 7; iter: 200; batch classifier loss: 0.420626; batch adversarial loss: 0.638903\n",
            "epoch 8; iter: 0; batch classifier loss: 0.237402; batch adversarial loss: 0.694702\n",
            "epoch 8; iter: 200; batch classifier loss: 0.341642; batch adversarial loss: 0.630821\n",
            "epoch 9; iter: 0; batch classifier loss: 0.317917; batch adversarial loss: 0.567431\n",
            "epoch 9; iter: 200; batch classifier loss: 0.384289; batch adversarial loss: 0.603624\n",
            "epoch 10; iter: 0; batch classifier loss: 0.315604; batch adversarial loss: 0.643280\n",
            "epoch 10; iter: 200; batch classifier loss: 0.264040; batch adversarial loss: 0.618748\n",
            "epoch 11; iter: 0; batch classifier loss: 0.307059; batch adversarial loss: 0.601662\n",
            "epoch 11; iter: 200; batch classifier loss: 0.316327; batch adversarial loss: 0.588733\n",
            "epoch 12; iter: 0; batch classifier loss: 0.306675; batch adversarial loss: 0.687859\n",
            "epoch 12; iter: 200; batch classifier loss: 0.349405; batch adversarial loss: 0.618399\n",
            "epoch 13; iter: 0; batch classifier loss: 0.241611; batch adversarial loss: 0.655847\n",
            "epoch 13; iter: 200; batch classifier loss: 0.319640; batch adversarial loss: 0.588227\n",
            "epoch 14; iter: 0; batch classifier loss: 0.397968; batch adversarial loss: 0.613253\n",
            "epoch 14; iter: 200; batch classifier loss: 0.393388; batch adversarial loss: 0.641030\n",
            "epoch 15; iter: 0; batch classifier loss: 0.297217; batch adversarial loss: 0.633577\n",
            "epoch 15; iter: 200; batch classifier loss: 0.274911; batch adversarial loss: 0.587288\n",
            "epoch 16; iter: 0; batch classifier loss: 0.278878; batch adversarial loss: 0.670476\n",
            "epoch 16; iter: 200; batch classifier loss: 0.332097; batch adversarial loss: 0.607812\n",
            "epoch 17; iter: 0; batch classifier loss: 0.369356; batch adversarial loss: 0.628862\n",
            "epoch 17; iter: 200; batch classifier loss: 0.281430; batch adversarial loss: 0.579235\n",
            "epoch 18; iter: 0; batch classifier loss: 0.391576; batch adversarial loss: 0.625099\n",
            "epoch 18; iter: 200; batch classifier loss: 0.332482; batch adversarial loss: 0.587940\n",
            "epoch 19; iter: 0; batch classifier loss: 0.314542; batch adversarial loss: 0.647753\n",
            "epoch 19; iter: 200; batch classifier loss: 0.289267; batch adversarial loss: 0.589615\n",
            "epoch 20; iter: 0; batch classifier loss: 0.388777; batch adversarial loss: 0.602674\n",
            "epoch 20; iter: 200; batch classifier loss: 0.292184; batch adversarial loss: 0.627664\n",
            "epoch 21; iter: 0; batch classifier loss: 0.277759; batch adversarial loss: 0.596648\n",
            "epoch 21; iter: 200; batch classifier loss: 0.432134; batch adversarial loss: 0.548797\n",
            "epoch 22; iter: 0; batch classifier loss: 0.317596; batch adversarial loss: 0.635997\n",
            "epoch 22; iter: 200; batch classifier loss: 0.364814; batch adversarial loss: 0.601035\n",
            "epoch 23; iter: 0; batch classifier loss: 0.356826; batch adversarial loss: 0.573359\n",
            "epoch 23; iter: 200; batch classifier loss: 0.265495; batch adversarial loss: 0.613109\n",
            "epoch 24; iter: 0; batch classifier loss: 0.368913; batch adversarial loss: 0.634853\n",
            "epoch 24; iter: 200; batch classifier loss: 0.459409; batch adversarial loss: 0.680937\n",
            "epoch 25; iter: 0; batch classifier loss: 0.333158; batch adversarial loss: 0.604258\n",
            "epoch 25; iter: 200; batch classifier loss: 0.292318; batch adversarial loss: 0.593072\n",
            "epoch 26; iter: 0; batch classifier loss: 0.271246; batch adversarial loss: 0.574650\n",
            "epoch 26; iter: 200; batch classifier loss: 0.381955; batch adversarial loss: 0.592815\n",
            "epoch 27; iter: 0; batch classifier loss: 0.348339; batch adversarial loss: 0.625580\n",
            "epoch 27; iter: 200; batch classifier loss: 0.330008; batch adversarial loss: 0.586766\n",
            "epoch 28; iter: 0; batch classifier loss: 0.361673; batch adversarial loss: 0.593395\n",
            "epoch 28; iter: 200; batch classifier loss: 0.300841; batch adversarial loss: 0.627414\n",
            "epoch 29; iter: 0; batch classifier loss: 0.304044; batch adversarial loss: 0.612344\n",
            "epoch 29; iter: 200; batch classifier loss: 0.369541; batch adversarial loss: 0.649628\n",
            "epoch 30; iter: 0; batch classifier loss: 0.345559; batch adversarial loss: 0.661865\n",
            "epoch 30; iter: 200; batch classifier loss: 0.256687; batch adversarial loss: 0.586377\n",
            "epoch 31; iter: 0; batch classifier loss: 0.312545; batch adversarial loss: 0.603220\n",
            "epoch 31; iter: 200; batch classifier loss: 0.260312; batch adversarial loss: 0.659417\n",
            "epoch 32; iter: 0; batch classifier loss: 0.414448; batch adversarial loss: 0.638258\n",
            "epoch 32; iter: 200; batch classifier loss: 0.311289; batch adversarial loss: 0.640462\n",
            "epoch 33; iter: 0; batch classifier loss: 0.347514; batch adversarial loss: 0.624556\n",
            "epoch 33; iter: 200; batch classifier loss: 0.248507; batch adversarial loss: 0.619827\n",
            "epoch 34; iter: 0; batch classifier loss: 0.274387; batch adversarial loss: 0.614550\n",
            "epoch 34; iter: 200; batch classifier loss: 0.235878; batch adversarial loss: 0.672824\n",
            "epoch 35; iter: 0; batch classifier loss: 0.380424; batch adversarial loss: 0.580993\n",
            "epoch 35; iter: 200; batch classifier loss: 0.451935; batch adversarial loss: 0.658470\n",
            "epoch 36; iter: 0; batch classifier loss: 0.347661; batch adversarial loss: 0.632364\n",
            "epoch 36; iter: 200; batch classifier loss: 0.329667; batch adversarial loss: 0.625809\n",
            "epoch 37; iter: 0; batch classifier loss: 0.324605; batch adversarial loss: 0.621958\n",
            "epoch 37; iter: 200; batch classifier loss: 0.391820; batch adversarial loss: 0.596625\n",
            "epoch 38; iter: 0; batch classifier loss: 0.262674; batch adversarial loss: 0.656368\n",
            "epoch 38; iter: 200; batch classifier loss: 0.347955; batch adversarial loss: 0.590318\n",
            "epoch 39; iter: 0; batch classifier loss: 0.373631; batch adversarial loss: 0.592992\n",
            "epoch 39; iter: 200; batch classifier loss: 0.293188; batch adversarial loss: 0.583212\n",
            "epoch 40; iter: 0; batch classifier loss: 0.260940; batch adversarial loss: 0.645563\n",
            "epoch 40; iter: 200; batch classifier loss: 0.415445; batch adversarial loss: 0.627374\n",
            "epoch 41; iter: 0; batch classifier loss: 0.441813; batch adversarial loss: 0.619983\n",
            "epoch 41; iter: 200; batch classifier loss: 0.355909; batch adversarial loss: 0.606587\n",
            "epoch 42; iter: 0; batch classifier loss: 0.329685; batch adversarial loss: 0.605193\n",
            "epoch 42; iter: 200; batch classifier loss: 0.348472; batch adversarial loss: 0.605717\n",
            "epoch 43; iter: 0; batch classifier loss: 0.340619; batch adversarial loss: 0.584955\n",
            "epoch 43; iter: 200; batch classifier loss: 0.349176; batch adversarial loss: 0.622125\n",
            "epoch 44; iter: 0; batch classifier loss: 0.355856; batch adversarial loss: 0.591250\n",
            "epoch 44; iter: 200; batch classifier loss: 0.328797; batch adversarial loss: 0.595146\n",
            "epoch 45; iter: 0; batch classifier loss: 0.347203; batch adversarial loss: 0.603132\n",
            "epoch 45; iter: 200; batch classifier loss: 0.371479; batch adversarial loss: 0.582369\n",
            "epoch 46; iter: 0; batch classifier loss: 0.227975; batch adversarial loss: 0.617733\n",
            "epoch 46; iter: 200; batch classifier loss: 0.399348; batch adversarial loss: 0.641448\n",
            "epoch 47; iter: 0; batch classifier loss: 0.286532; batch adversarial loss: 0.589333\n",
            "epoch 47; iter: 200; batch classifier loss: 0.340944; batch adversarial loss: 0.656493\n",
            "epoch 48; iter: 0; batch classifier loss: 0.336861; batch adversarial loss: 0.617339\n",
            "epoch 48; iter: 200; batch classifier loss: 0.375450; batch adversarial loss: 0.627809\n",
            "epoch 49; iter: 0; batch classifier loss: 0.340674; batch adversarial loss: 0.592299\n",
            "epoch 49; iter: 200; batch classifier loss: 0.411380; batch adversarial loss: 0.652798\n"
          ]
        }
      ],
      "source": [
        "predicted_test_inprocessing = adversarialDebiasingProcessing(\n",
        "    train_aif_df=df_train_aif,  # Datos de entrenamiento\n",
        "    test_aif_df=df_test_aif,    # Datos de prueba\n",
        "    sensitive_features=['age', 'sex'],  # Atributos sensibles\n",
        "    num_epochs=50,  # Configuración del número de épocas\n",
        "    batch_size=128,  # Tamaño de lote\n",
        "    adversary_loss_weight=0.1  # Peso del adversario\n",
        ")"
      ]
    },
    {
      "cell_type": "markdown",
      "metadata": {
        "id": "A9UG6EWE2Pv8"
      },
      "source": [
        "## Post-procesamiento: **Equalized Odds Post-Processing**"
      ]
    },
    {
      "cell_type": "code",
      "execution_count": null,
      "metadata": {
        "id": "fPvO1_bP2T7_"
      },
      "outputs": [],
      "source": [
        "from typing import List\n",
        "\n",
        "#Código Post-Procesamiento\n",
        "from aif360.algorithms.postprocessing import EqOddsPostprocessing\n",
        "\n",
        "# Cramos una función que se encargue de reajustar las predicciones\n",
        "def eqOddsPredictionProccesing(\n",
        "    test_aif_df: BinaryLabelDataset,\n",
        "    test_pred_aif_df: BinaryLabelDataset,\n",
        "    sensitive_features: List[str],\n",
        "):\n",
        "\n",
        "    eq_odds_processers = []\n",
        "    for sensitive_feature in sensitive_features:\n",
        "        eq_odds_processers.append(\n",
        "            EqOddsPostprocessing(\n",
        "                unprivileged_groups=[{sensitive_feature: 0}],\n",
        "                privileged_groups=[{sensitive_feature: 1}],\n",
        "                seed=42\n",
        "            )\n",
        "        )\n",
        "\n",
        "    actual_pred_aif_df = test_pred_aif_df.copy()\n",
        "\n",
        "    for eq_odds_processer in eq_odds_processers:\n",
        "        eq_odds_processer: EqOddsPostprocessing\n",
        "        eq_odds_processer.fit(test_aif_df, actual_pred_aif_df)\n",
        "        actual_pred_aif_df = eq_odds_processer.predict(actual_pred_aif_df)\n",
        "\n",
        "    return actual_pred_aif_df"
      ]
    },
    {
      "cell_type": "code",
      "execution_count": null,
      "metadata": {
        "colab": {
          "base_uri": "https://localhost:8080/"
        },
        "id": "1Ddgup7m-qVf",
        "outputId": "94dce868-d0cf-4b2b-c0b8-42beada424f0"
      },
      "outputs": [
        {
          "output_type": "stream",
          "name": "stdout",
          "text": [
            "Disparate Impact for age: 1.0650931315940388\n",
            "Dispate Impact for sex: 0.6202328376320687\n",
            "New Accuracy: 0.8115069643732065\n"
          ]
        }
      ],
      "source": [
        "post_processed_preds = eqOddsPredictionProccesing(\n",
        "    df_test_aif,\n",
        "    df_test_pred_aif,\n",
        "    ['age', 'sex']\n",
        ")\n",
        "\n",
        "# Para 'age'\n",
        "metric_age = ClassificationMetric(\n",
        "    df_test_aif,\n",
        "    post_processed_preds,\n",
        "    unprivileged_groups=[{\"age\": 0}],\n",
        "    privileged_groups=[{\"age\": 1}]\n",
        ")\n",
        "\n",
        "# Para 'sex'\n",
        "metric_sex = ClassificationMetric(\n",
        "    df_test_aif,\n",
        "    post_processed_preds,\n",
        "    unprivileged_groups=[{\"sex\": 0}],\n",
        "    privileged_groups=[{\"sex\": 1}]\n",
        ")\n",
        "\n",
        "print(\"Disparate Impact for age:\", metric_age.disparate_impact())\n",
        "print(\"Dispate Impact for sex:\", metric_sex.disparate_impact())\n",
        "new_accuracy = accuracy_score(y_test, post_processed_preds.labels)\n",
        "print(f\"New Accuracy: {new_accuracy}\")"
      ]
    },
    {
      "cell_type": "markdown",
      "metadata": {
        "id": "nHcG02a8lt4W"
      },
      "source": [
        "# Medición de Mitigación de Sesgos"
      ]
    },
    {
      "cell_type": "markdown",
      "metadata": {
        "id": "qRQWwinZ2Yij"
      },
      "source": [
        "## Combinación 1: Pre-procesamiento + In-Procesamiento"
      ]
    },
    {
      "cell_type": "code",
      "execution_count": null,
      "metadata": {
        "id": "czYk1bQ80dx9"
      },
      "outputs": [],
      "source": [
        "## Código que combine las dos técnicas"
      ]
    },
    {
      "cell_type": "markdown",
      "metadata": {
        "id": "tywIOpMw0l4k"
      },
      "source": [
        "### Independencia (Demographic Parity)"
      ]
    },
    {
      "cell_type": "markdown",
      "metadata": {
        "id": "j7jAqwb8l6XB"
      },
      "source": [
        "### Separación (Equalized Odds)"
      ]
    },
    {
      "cell_type": "code",
      "execution_count": null,
      "metadata": {
        "colab": {
          "base_uri": "https://localhost:8080/",
          "height": 211
        },
        "id": "WEvI3mlylObY",
        "outputId": "f55d8a32-af05-47e6-d2e3-8c8cc5781a52"
      },
      "outputs": [
        {
          "output_type": "error",
          "ename": "NameError",
          "evalue": "name 'X_test_pre' is not defined",
          "traceback": [
            "\u001b[0;31m---------------------------------------------------------------------------\u001b[0m",
            "\u001b[0;31mNameError\u001b[0m                                 Traceback (most recent call last)",
            "\u001b[0;32m<ipython-input-38-9552ebbf2888>\u001b[0m in \u001b[0;36m<cell line: 1>\u001b[0;34m()\u001b[0m\n\u001b[0;32m----> 1\u001b[0;31m \u001b[0mX_test_fitted_pre\u001b[0m \u001b[0;34m=\u001b[0m \u001b[0mX_test_pre\u001b[0m\u001b[0;34m.\u001b[0m\u001b[0mcopy\u001b[0m\u001b[0;34m(\u001b[0m\u001b[0;34m)\u001b[0m\u001b[0;34m\u001b[0m\u001b[0;34m\u001b[0m\u001b[0m\n\u001b[0m\u001b[1;32m      2\u001b[0m \u001b[0;34m\u001b[0m\u001b[0m\n\u001b[1;32m      3\u001b[0m \u001b[0mX_test_fitted_pre\u001b[0m \u001b[0;34m=\u001b[0m \u001b[0mX_test_fitted_pre\u001b[0m\u001b[0;34m[\u001b[0m\u001b[0;34m[\u001b[0m\u001b[0;34m'age'\u001b[0m\u001b[0;34m,\u001b[0m \u001b[0;34m'sex'\u001b[0m\u001b[0;34m]\u001b[0m\u001b[0;34m]\u001b[0m\u001b[0;34m\u001b[0m\u001b[0;34m\u001b[0m\u001b[0m\n\u001b[1;32m      4\u001b[0m \u001b[0mX_test_fitted_pre\u001b[0m\u001b[0;34m.\u001b[0m\u001b[0mloc\u001b[0m\u001b[0;34m[\u001b[0m\u001b[0;34m:\u001b[0m\u001b[0;34m,\u001b[0m \u001b[0;34m'y_pred'\u001b[0m\u001b[0;34m]\u001b[0m \u001b[0;34m=\u001b[0m \u001b[0my_pred_logistic_pre\u001b[0m\u001b[0;34m\u001b[0m\u001b[0;34m\u001b[0m\u001b[0m\n\u001b[1;32m      5\u001b[0m \u001b[0mX_test_fitted_pre\u001b[0m\u001b[0;34m[\u001b[0m\u001b[0;34m'y_true'\u001b[0m\u001b[0;34m]\u001b[0m \u001b[0;34m=\u001b[0m \u001b[0my_test_pre\u001b[0m\u001b[0;34m.\u001b[0m\u001b[0mvalues\u001b[0m\u001b[0;34m\u001b[0m\u001b[0;34m\u001b[0m\u001b[0m\n",
            "\u001b[0;31mNameError\u001b[0m: name 'X_test_pre' is not defined"
          ]
        }
      ],
      "source": [
        "X_test_fitted_pre = X_test_pre.copy()\n",
        "\n",
        "X_test_fitted_pre = X_test_fitted_pre[['age', 'sex']]\n",
        "X_test_fitted_pre.loc[:, 'y_pred'] = y_pred_logistic_pre\n",
        "X_test_fitted_pre['y_true'] = y_test_pre.values\n",
        "X_test_fitted_pre.head()"
      ]
    },
    {
      "cell_type": "code",
      "execution_count": null,
      "metadata": {
        "id": "l92PisY7ltZe"
      },
      "outputs": [],
      "source": [
        "for age in [0, 1]:\n",
        "    tpr, fpr = calculate_tpr_fpr_age(X_test_fitted_pre, age)\n",
        "    age_label = 'Older Adults' if age == 0 else 'Young Adults'\n",
        "    print(f\"Age Group: {age_label}\")\n",
        "    print(f\"  True Positive Rate (TPR): {tpr:.2f}\")\n",
        "    print(f\"  False Positive Rate (FPR): {fpr:.2f}\")"
      ]
    },
    {
      "cell_type": "code",
      "execution_count": null,
      "metadata": {
        "id": "P-_iOE3wmIoa"
      },
      "outputs": [],
      "source": [
        "for sex in [0, 1]:\n",
        "    tpr, fpr = calculate_tpr_fpr_sex(X_test_fitted_pre, sex)\n",
        "    sex_label = 'Female' if sex == 0 else 'Male'\n",
        "    print(f\"Sex Group: {sex_label}\")\n",
        "    print(f\"  True Positive Rate (TPR): {tpr:.2f}\")\n",
        "    print(f\"  False Positive Rate (FPR): {fpr:.2f}\")"
      ]
    },
    {
      "cell_type": "markdown",
      "metadata": {
        "id": "qIWoDqa30mHI"
      },
      "source": [
        "### Suficiencia (Predictive Parity)"
      ]
    },
    {
      "cell_type": "markdown",
      "metadata": {
        "id": "aSQYOgL504SD"
      },
      "source": [
        "## Combinación 2: In-procesamiento + Post-Procesamiento"
      ]
    },
    {
      "cell_type": "code",
      "execution_count": null,
      "metadata": {
        "id": "wyd97ICz083J"
      },
      "outputs": [],
      "source": [
        "## Código que combine las dos técnicas"
      ]
    },
    {
      "cell_type": "markdown",
      "metadata": {
        "id": "Dr2hhtAJ1HME"
      },
      "source": [
        "### Independencia (Demographic Parity)"
      ]
    },
    {
      "cell_type": "code",
      "execution_count": null,
      "metadata": {
        "id": "4NLywt1Z1Oju"
      },
      "outputs": [],
      "source": [
        "# Código de Independencia"
      ]
    },
    {
      "cell_type": "markdown",
      "metadata": {
        "id": "AyfS8ENZ1LEU"
      },
      "source": [
        "### Separación (Equalized Odds)"
      ]
    },
    {
      "cell_type": "code",
      "execution_count": null,
      "metadata": {
        "id": "l2aTbcPN1Qsq"
      },
      "outputs": [],
      "source": [
        "# Código de Separación"
      ]
    },
    {
      "cell_type": "markdown",
      "metadata": {
        "id": "du0nPRCR1CnU"
      },
      "source": [
        "### Suficiencia (Predictive Parity)"
      ]
    },
    {
      "cell_type": "code",
      "execution_count": null,
      "metadata": {
        "id": "Cje5Xbu91CC5"
      },
      "outputs": [],
      "source": [
        "# Código de Suficiencia"
      ]
    },
    {
      "cell_type": "markdown",
      "metadata": {
        "id": "WDyfGMxM1ayd"
      },
      "source": [
        "## Combinación 3: Pre-procesamiento + Post-Procesamiento"
      ]
    },
    {
      "cell_type": "code",
      "execution_count": null,
      "metadata": {
        "id": "C9O9-ukl1aye"
      },
      "outputs": [],
      "source": [
        "## Código que combine las dos técnicas"
      ]
    },
    {
      "cell_type": "markdown",
      "metadata": {
        "id": "Gld5EHJy1aye"
      },
      "source": [
        "### Independencia (Demographic Parity)"
      ]
    },
    {
      "cell_type": "code",
      "execution_count": null,
      "metadata": {
        "id": "il05ry-y1ayf"
      },
      "outputs": [],
      "source": [
        "# Código de Independencia"
      ]
    },
    {
      "cell_type": "markdown",
      "metadata": {
        "id": "d2O_Oc511ayf"
      },
      "source": [
        "### Separación (Equalized Odds)"
      ]
    },
    {
      "cell_type": "code",
      "execution_count": null,
      "metadata": {
        "id": "T8gtxWls1ayf"
      },
      "outputs": [],
      "source": [
        "# Código de Separación"
      ]
    },
    {
      "cell_type": "markdown",
      "metadata": {
        "id": "USapjYuh1ayf"
      },
      "source": [
        "### Suficiencia (Predictive Parity)"
      ]
    },
    {
      "cell_type": "code",
      "execution_count": null,
      "metadata": {
        "id": "E6e5O5-a1ayf"
      },
      "outputs": [],
      "source": [
        "# Código de Suficiencia"
      ]
    },
    {
      "cell_type": "markdown",
      "metadata": {
        "id": "AmNHfI0d1tyZ"
      },
      "source": [
        "## Combinación 4: Pre-procesamiento + In-Procesamiento + Post-Procesamiento"
      ]
    },
    {
      "cell_type": "code",
      "execution_count": null,
      "metadata": {
        "id": "_L3bpAGk1tyZ"
      },
      "outputs": [],
      "source": [
        "## Código que combine las dos técnicas"
      ]
    },
    {
      "cell_type": "markdown",
      "metadata": {
        "id": "w1x4Qg6m1tya"
      },
      "source": [
        "### Independencia (Demographic Parity)"
      ]
    },
    {
      "cell_type": "code",
      "execution_count": null,
      "metadata": {
        "id": "UduOtFUO1tya"
      },
      "outputs": [],
      "source": [
        "# Código de Independencia"
      ]
    },
    {
      "cell_type": "markdown",
      "metadata": {
        "id": "Sth3VWqq1tya"
      },
      "source": [
        "### Separación (Equalized Odds)"
      ]
    },
    {
      "cell_type": "code",
      "execution_count": null,
      "metadata": {
        "id": "0hPLa-Sh1tya"
      },
      "outputs": [],
      "source": [
        "# Código de Separación"
      ]
    },
    {
      "cell_type": "markdown",
      "metadata": {
        "id": "ue09jjXI1tya"
      },
      "source": [
        "### Suficiencia (Predictive Parity)"
      ]
    },
    {
      "cell_type": "code",
      "execution_count": null,
      "metadata": {
        "id": "1yRr99hB1tyb"
      },
      "outputs": [],
      "source": [
        "# Código de Suficiencia"
      ]
    }
  ],
  "metadata": {
    "colab": {
      "provenance": []
    },
    "kernelspec": {
      "display_name": "nb-env",
      "language": "python",
      "name": "python3"
    },
    "language_info": {
      "codemirror_mode": {
        "name": "ipython",
        "version": 3
      },
      "file_extension": ".py",
      "mimetype": "text/x-python",
      "name": "python",
      "nbconvert_exporter": "python",
      "pygments_lexer": "ipython3",
      "version": "3.12.1"
    }
  },
  "nbformat": 4,
  "nbformat_minor": 0
}