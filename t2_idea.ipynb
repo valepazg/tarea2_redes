{
 "cells": [
  {
   "cell_type": "markdown",
   "metadata": {
    "id": "0rLfIEI2ZI5c"
   },
   "source": [
    "## Instalar Librerías e Importar el Dataset"
   ]
  },
  {
   "cell_type": "code",
   "execution_count": null,
   "metadata": {
    "colab": {
     "base_uri": "https://localhost:8080/"
    },
    "collapsed": true,
    "id": "wD980A30LRmC",
    "outputId": "aab6a0a3-8aba-44f7-b139-d9e4c3a437bf"
   },
   "outputs": [],
   "source": [
    "!pip install ucimlrepo\n",
    "!pip install aif360\n",
    "!pip install 'aif360[Reductions]'\n",
    "!pip install 'aif360[inFairness]'"
   ]
  },
  {
   "cell_type": "code",
   "execution_count": 2,
   "metadata": {
    "colab": {
     "base_uri": "https://localhost:8080/"
    },
    "collapsed": true,
    "id": "IMyZSOOsZa1X",
    "outputId": "9e0393ed-75ba-4813-f927-c32735585e3c"
   },
   "outputs": [
    {
     "name": "stderr",
     "output_type": "stream",
     "text": [
      "WARNING:root:No module named 'tensorflow': AdversarialDebiasing will be unavailable. To install, run:\n",
      "pip install 'aif360[AdversarialDebiasing]'\n",
      "WARNING:root:No module named 'tensorflow': AdversarialDebiasing will be unavailable. To install, run:\n",
      "pip install 'aif360[AdversarialDebiasing]'\n",
      "c:\\Users\\romyh\\Documents\\redesalg\\.venv\\Lib\\site-packages\\inFairness\\utils\\ndcg.py:37: FutureWarning: We've integrated functorch into PyTorch. As the final step of the integration, `functorch.vmap` is deprecated as of PyTorch 2.0 and will be deleted in a future version of PyTorch >= 2.3. Please use `torch.vmap` instead; see the PyTorch 2.0 release notes and/or the `torch.func` migration guide for more details https://pytorch.org/docs/main/func.migrating.html\n",
      "  vect_normalized_discounted_cumulative_gain = vmap(\n",
      "c:\\Users\\romyh\\Documents\\redesalg\\.venv\\Lib\\site-packages\\inFairness\\utils\\ndcg.py:48: FutureWarning: We've integrated functorch into PyTorch. As the final step of the integration, `functorch.vmap` is deprecated as of PyTorch 2.0 and will be deleted in a future version of PyTorch >= 2.3. Please use `torch.vmap` instead; see the PyTorch 2.0 release notes and/or the `torch.func` migration guide for more details https://pytorch.org/docs/main/func.migrating.html\n",
      "  monte_carlo_vect_ndcg = vmap(vect_normalized_discounted_cumulative_gain, in_dims=(0,))\n"
     ]
    }
   ],
   "source": [
    "from ucimlrepo import fetch_ucirepo\n",
    "from aif360.datasets import BinaryLabelDataset\n",
    "from aif360.algorithms.preprocessing import Reweighing\n",
    "import numpy as np\n",
    "import pandas as pd\n",
    "from sklearn.model_selection import train_test_split\n",
    "from sklearn.preprocessing import StandardScaler\n",
    "from sklearn.compose import ColumnTransformer\n",
    "from sklearn.preprocessing import OneHotEncoder\n",
    "from sklearn.pipeline import Pipeline\n",
    "from sklearn.linear_model import LogisticRegression\n",
    "from sklearn.ensemble import RandomForestClassifier\n",
    "from sklearn.neighbors import KNeighborsClassifier\n",
    "from sklearn.metrics import accuracy_score, f1_score\n",
    "from sklearn.metrics import confusion_matrix, classification_report\n",
    "from sklearn.preprocessing import LabelEncoder"
   ]
  },
  {
   "cell_type": "code",
   "execution_count": 3,
   "metadata": {
    "colab": {
     "base_uri": "https://localhost:8080/"
    },
    "collapsed": true,
    "id": "4cOKrsx6Lk3m",
    "outputId": "e8851581-3230-4935-e8c3-86f2301a918f"
   },
   "outputs": [
    {
     "name": "stdout",
     "output_type": "stream",
     "text": [
      "{'uci_id': 2, 'name': 'Adult', 'repository_url': 'https://archive.ics.uci.edu/dataset/2/adult', 'data_url': 'https://archive.ics.uci.edu/static/public/2/data.csv', 'abstract': 'Predict whether annual income of an individual exceeds $50K/yr based on census data. Also known as \"Census Income\" dataset. ', 'area': 'Social Science', 'tasks': ['Classification'], 'characteristics': ['Multivariate'], 'num_instances': 48842, 'num_features': 14, 'feature_types': ['Categorical', 'Integer'], 'demographics': ['Age', 'Income', 'Education Level', 'Other', 'Race', 'Sex'], 'target_col': ['income'], 'index_col': None, 'has_missing_values': 'yes', 'missing_values_symbol': 'NaN', 'year_of_dataset_creation': 1996, 'last_updated': 'Tue Sep 24 2024', 'dataset_doi': '10.24432/C5XW20', 'creators': ['Barry Becker', 'Ronny Kohavi'], 'intro_paper': None, 'additional_info': {'summary': \"Extraction was done by Barry Becker from the 1994 Census database.  A set of reasonably clean records was extracted using the following conditions: ((AAGE>16) && (AGI>100) && (AFNLWGT>1)&& (HRSWK>0))\\n\\nPrediction task is to determine whether a person's income is over $50,000 a year.\\n\", 'purpose': None, 'funded_by': None, 'instances_represent': None, 'recommended_data_splits': None, 'sensitive_data': None, 'preprocessing_description': None, 'variable_info': 'Listing of attributes:\\r\\n\\r\\n>50K, <=50K.\\r\\n\\r\\nage: continuous.\\r\\nworkclass: Private, Self-emp-not-inc, Self-emp-inc, Federal-gov, Local-gov, State-gov, Without-pay, Never-worked.\\r\\nfnlwgt: continuous.\\r\\neducation: Bachelors, Some-college, 11th, HS-grad, Prof-school, Assoc-acdm, Assoc-voc, 9th, 7th-8th, 12th, Masters, 1st-4th, 10th, Doctorate, 5th-6th, Preschool.\\r\\neducation-num: continuous.\\r\\nmarital-status: Married-civ-spouse, Divorced, Never-married, Separated, Widowed, Married-spouse-absent, Married-AF-spouse.\\r\\noccupation: Tech-support, Craft-repair, Other-service, Sales, Exec-managerial, Prof-specialty, Handlers-cleaners, Machine-op-inspct, Adm-clerical, Farming-fishing, Transport-moving, Priv-house-serv, Protective-serv, Armed-Forces.\\r\\nrelationship: Wife, Own-child, Husband, Not-in-family, Other-relative, Unmarried.\\r\\nrace: White, Asian-Pac-Islander, Amer-Indian-Eskimo, Other, Black.\\r\\nsex: Female, Male.\\r\\ncapital-gain: continuous.\\r\\ncapital-loss: continuous.\\r\\nhours-per-week: continuous.\\r\\nnative-country: United-States, Cambodia, England, Puerto-Rico, Canada, Germany, Outlying-US(Guam-USVI-etc), India, Japan, Greece, South, China, Cuba, Iran, Honduras, Philippines, Italy, Poland, Jamaica, Vietnam, Mexico, Portugal, Ireland, France, Dominican-Republic, Laos, Ecuador, Taiwan, Haiti, Columbia, Hungary, Guatemala, Nicaragua, Scotland, Thailand, Yugoslavia, El-Salvador, Trinadad&Tobago, Peru, Hong, Holand-Netherlands.', 'citation': None}}\n",
      "              name     role         type      demographic  \\\n",
      "0              age  Feature      Integer              Age   \n",
      "1        workclass  Feature  Categorical           Income   \n",
      "2           fnlwgt  Feature      Integer             None   \n",
      "3        education  Feature  Categorical  Education Level   \n",
      "4    education-num  Feature      Integer  Education Level   \n",
      "5   marital-status  Feature  Categorical            Other   \n",
      "6       occupation  Feature  Categorical            Other   \n",
      "7     relationship  Feature  Categorical            Other   \n",
      "8             race  Feature  Categorical             Race   \n",
      "9              sex  Feature       Binary              Sex   \n",
      "10    capital-gain  Feature      Integer             None   \n",
      "11    capital-loss  Feature      Integer             None   \n",
      "12  hours-per-week  Feature      Integer             None   \n",
      "13  native-country  Feature  Categorical            Other   \n",
      "14          income   Target       Binary           Income   \n",
      "\n",
      "                                          description units missing_values  \n",
      "0                                                 N/A  None             no  \n",
      "1   Private, Self-emp-not-inc, Self-emp-inc, Feder...  None            yes  \n",
      "2                                                None  None             no  \n",
      "3    Bachelors, Some-college, 11th, HS-grad, Prof-...  None             no  \n",
      "4                                                None  None             no  \n",
      "5   Married-civ-spouse, Divorced, Never-married, S...  None             no  \n",
      "6   Tech-support, Craft-repair, Other-service, Sal...  None            yes  \n",
      "7   Wife, Own-child, Husband, Not-in-family, Other...  None             no  \n",
      "8   White, Asian-Pac-Islander, Amer-Indian-Eskimo,...  None             no  \n",
      "9                                       Female, Male.  None             no  \n",
      "10                                               None  None             no  \n",
      "11                                               None  None             no  \n",
      "12                                               None  None             no  \n",
      "13  United-States, Cambodia, England, Puerto-Rico,...  None            yes  \n",
      "14                                       >50K, <=50K.  None             no  \n"
     ]
    }
   ],
   "source": [
    "# fetch dataset\n",
    "adult = fetch_ucirepo(id=2)\n",
    "\n",
    "# data (as pandas dataframes)\n",
    "X = adult.data.features\n",
    "y = adult.data.targets\n",
    "\n",
    "# metadata\n",
    "print(adult.metadata)\n",
    "\n",
    "# variable information\n",
    "print(adult.variables)\n"
   ]
  },
  {
   "cell_type": "markdown",
   "metadata": {
    "id": "ucfynq5YaWd-"
   },
   "source": [
    "## Preparar el Dataset"
   ]
  },
  {
   "cell_type": "code",
   "execution_count": 4,
   "metadata": {
    "colab": {
     "base_uri": "https://localhost:8080/",
     "height": 206
    },
    "id": "_3ppeC1oMN2Z",
    "outputId": "da84c8a0-d452-439a-903c-14f29725e10a"
   },
   "outputs": [
    {
     "data": {
      "text/html": [
       "<div>\n",
       "<style scoped>\n",
       "    .dataframe tbody tr th:only-of-type {\n",
       "        vertical-align: middle;\n",
       "    }\n",
       "\n",
       "    .dataframe tbody tr th {\n",
       "        vertical-align: top;\n",
       "    }\n",
       "\n",
       "    .dataframe thead th {\n",
       "        text-align: right;\n",
       "    }\n",
       "</style>\n",
       "<table border=\"1\" class=\"dataframe\">\n",
       "  <thead>\n",
       "    <tr style=\"text-align: right;\">\n",
       "      <th></th>\n",
       "      <th>age</th>\n",
       "      <th>workclass</th>\n",
       "      <th>fnlwgt</th>\n",
       "      <th>education</th>\n",
       "      <th>education-num</th>\n",
       "      <th>marital-status</th>\n",
       "      <th>occupation</th>\n",
       "      <th>relationship</th>\n",
       "      <th>race</th>\n",
       "      <th>sex</th>\n",
       "      <th>capital-gain</th>\n",
       "      <th>capital-loss</th>\n",
       "      <th>hours-per-week</th>\n",
       "      <th>native-country</th>\n",
       "      <th>income</th>\n",
       "    </tr>\n",
       "  </thead>\n",
       "  <tbody>\n",
       "    <tr>\n",
       "      <th>0</th>\n",
       "      <td>39</td>\n",
       "      <td>State-gov</td>\n",
       "      <td>77516</td>\n",
       "      <td>Bachelors</td>\n",
       "      <td>13</td>\n",
       "      <td>Never-married</td>\n",
       "      <td>Adm-clerical</td>\n",
       "      <td>Not-in-family</td>\n",
       "      <td>White</td>\n",
       "      <td>Male</td>\n",
       "      <td>2174</td>\n",
       "      <td>0</td>\n",
       "      <td>40</td>\n",
       "      <td>United-States</td>\n",
       "      <td>&lt;=50K</td>\n",
       "    </tr>\n",
       "    <tr>\n",
       "      <th>1</th>\n",
       "      <td>50</td>\n",
       "      <td>Self-emp-not-inc</td>\n",
       "      <td>83311</td>\n",
       "      <td>Bachelors</td>\n",
       "      <td>13</td>\n",
       "      <td>Married-civ-spouse</td>\n",
       "      <td>Exec-managerial</td>\n",
       "      <td>Husband</td>\n",
       "      <td>White</td>\n",
       "      <td>Male</td>\n",
       "      <td>0</td>\n",
       "      <td>0</td>\n",
       "      <td>13</td>\n",
       "      <td>United-States</td>\n",
       "      <td>&lt;=50K</td>\n",
       "    </tr>\n",
       "    <tr>\n",
       "      <th>2</th>\n",
       "      <td>38</td>\n",
       "      <td>Private</td>\n",
       "      <td>215646</td>\n",
       "      <td>HS-grad</td>\n",
       "      <td>9</td>\n",
       "      <td>Divorced</td>\n",
       "      <td>Handlers-cleaners</td>\n",
       "      <td>Not-in-family</td>\n",
       "      <td>White</td>\n",
       "      <td>Male</td>\n",
       "      <td>0</td>\n",
       "      <td>0</td>\n",
       "      <td>40</td>\n",
       "      <td>United-States</td>\n",
       "      <td>&lt;=50K</td>\n",
       "    </tr>\n",
       "    <tr>\n",
       "      <th>3</th>\n",
       "      <td>53</td>\n",
       "      <td>Private</td>\n",
       "      <td>234721</td>\n",
       "      <td>11th</td>\n",
       "      <td>7</td>\n",
       "      <td>Married-civ-spouse</td>\n",
       "      <td>Handlers-cleaners</td>\n",
       "      <td>Husband</td>\n",
       "      <td>Black</td>\n",
       "      <td>Male</td>\n",
       "      <td>0</td>\n",
       "      <td>0</td>\n",
       "      <td>40</td>\n",
       "      <td>United-States</td>\n",
       "      <td>&lt;=50K</td>\n",
       "    </tr>\n",
       "    <tr>\n",
       "      <th>4</th>\n",
       "      <td>28</td>\n",
       "      <td>Private</td>\n",
       "      <td>338409</td>\n",
       "      <td>Bachelors</td>\n",
       "      <td>13</td>\n",
       "      <td>Married-civ-spouse</td>\n",
       "      <td>Prof-specialty</td>\n",
       "      <td>Wife</td>\n",
       "      <td>Black</td>\n",
       "      <td>Female</td>\n",
       "      <td>0</td>\n",
       "      <td>0</td>\n",
       "      <td>40</td>\n",
       "      <td>Cuba</td>\n",
       "      <td>&lt;=50K</td>\n",
       "    </tr>\n",
       "  </tbody>\n",
       "</table>\n",
       "</div>"
      ],
      "text/plain": [
       "   age         workclass  fnlwgt  education  education-num  \\\n",
       "0   39         State-gov   77516  Bachelors             13   \n",
       "1   50  Self-emp-not-inc   83311  Bachelors             13   \n",
       "2   38           Private  215646    HS-grad              9   \n",
       "3   53           Private  234721       11th              7   \n",
       "4   28           Private  338409  Bachelors             13   \n",
       "\n",
       "       marital-status         occupation   relationship   race     sex  \\\n",
       "0       Never-married       Adm-clerical  Not-in-family  White    Male   \n",
       "1  Married-civ-spouse    Exec-managerial        Husband  White    Male   \n",
       "2            Divorced  Handlers-cleaners  Not-in-family  White    Male   \n",
       "3  Married-civ-spouse  Handlers-cleaners        Husband  Black    Male   \n",
       "4  Married-civ-spouse     Prof-specialty           Wife  Black  Female   \n",
       "\n",
       "   capital-gain  capital-loss  hours-per-week native-country income  \n",
       "0          2174             0              40  United-States  <=50K  \n",
       "1             0             0              13  United-States  <=50K  \n",
       "2             0             0              40  United-States  <=50K  \n",
       "3             0             0              40  United-States  <=50K  \n",
       "4             0             0              40           Cuba  <=50K  "
      ]
     },
     "execution_count": 4,
     "metadata": {},
     "output_type": "execute_result"
    }
   ],
   "source": [
    "def clean_labels(label: str):\n",
    "    return label.replace(\".\", \"\").replace(\" \", \"_\")\n",
    "\n",
    "X_df = pd.DataFrame(X)\n",
    "y_df = pd.DataFrame(y)\n",
    "\n",
    "y_df = y_df.map(clean_labels)\n",
    "\n",
    "df = pd.concat([X_df, y_df], axis=1)\n",
    "df.dropna(inplace=True)\n",
    "df.head()"
   ]
  },
  {
   "cell_type": "code",
   "execution_count": 5,
   "metadata": {
    "id": "ssZ8SjneQN8X"
   },
   "outputs": [],
   "source": [
    "X_df_clean = df.drop(columns=['income'])\n",
    "y_df_clean = df['income']"
   ]
  },
  {
   "cell_type": "code",
   "execution_count": 6,
   "metadata": {
    "id": "QS-zM6tTMqP2"
   },
   "outputs": [],
   "source": [
    "X_train, X_test, y_train, y_test = train_test_split(X_df_clean, y_df_clean, test_size=0.3, stratify=y_df_clean, random_state=42)"
   ]
  },
  {
   "cell_type": "code",
   "execution_count": null,
   "metadata": {},
   "outputs": [],
   "source": [
    "X_train_pre = X_train.copy()\n",
    "y_train_pre = y_train.copy()\n",
    "X_test_pre = X_test.copy()\n",
    "y_test_pre = y_test.copy()\n",
    "\n",
    "\n",
    "X_train_in = X_train.copy()\n",
    "y_train_in = y_train.copy()\n",
    "X_test_in = X_test.copy()\n",
    "y_test_in = y_test.copy()\n",
    "\n",
    "X_train_post = X_train.copy()\n",
    "y_train_post = y_train.copy()\n",
    "X_test_post = X_test.copy()\n",
    "y_test_post = y_test.copy()"
   ]
  },
  {
   "cell_type": "code",
   "execution_count": 8,
   "metadata": {
    "id": "65RF_JDOVZ69"
   },
   "outputs": [],
   "source": [
    "# numeric_cols = df.select_dtypes(include=['int64', 'float64']).columns\n",
    "# categorical_cols = df.select_dtypes(include=['object']).columns.drop('income')\n",
    "# numeric_cols, categorical_cols"
   ]
  },
  {
   "cell_type": "code",
   "execution_count": 9,
   "metadata": {
    "id": "u2__nmb1N0Dq"
   },
   "outputs": [],
   "source": [
    "numeric_cols = df.select_dtypes(include=['int64', 'float64']).columns\n",
    "categorical_cols = df.select_dtypes(include=['object']).columns.drop('income')\n",
    "\n",
    "preprocessor = ColumnTransformer(\n",
    "    transformers=[\n",
    "        ('num', StandardScaler(), numeric_cols),\n",
    "        ('cat', OneHotEncoder(), categorical_cols)\n",
    "    ]\n",
    ")"
   ]
  },
  {
   "cell_type": "markdown",
   "metadata": {
    "id": "UFD_er0Qay6x"
   },
   "source": [
    "## Entrenamiento de Modelos\n",
    "# Logistic Regression Model"
   ]
  },
  {
   "cell_type": "code",
   "execution_count": 10,
   "metadata": {
    "colab": {
     "base_uri": "https://localhost:8080/"
    },
    "id": "GfCR6vvnR_0f",
    "outputId": "7992e13b-eba6-4449-dd23-e6baf60ea742"
   },
   "outputs": [
    {
     "name": "stdout",
     "output_type": "stream",
     "text": [
      "Accuracy for Logistic Regression Model: 0.85\n"
     ]
    }
   ],
   "source": [
    "logistic_pipeline = Pipeline([\n",
    "    ('preprocessor', preprocessor),\n",
    "    ('classifier', LogisticRegression())\n",
    "])\n",
    "\n",
    "logistic_pipeline.fit(X_train, y_train)\n",
    "logistic_pred = logistic_pipeline.predict(X_test)\n",
    "acc_lr = accuracy_score(y_test, logistic_pred)\n",
    "print(f'Accuracy for Logistic Regression Model: {acc_lr:.2f}')"
   ]
  },
  {
   "cell_type": "markdown",
   "metadata": {
    "id": "NvPP0KmQbYo_"
   },
   "source": [
    "# Random Forest Classifier Model"
   ]
  },
  {
   "cell_type": "code",
   "execution_count": 11,
   "metadata": {
    "colab": {
     "base_uri": "https://localhost:8080/"
    },
    "id": "dcmXK0xCSO71",
    "outputId": "e3824b73-3e88-4726-aed0-22494f8a8a89"
   },
   "outputs": [
    {
     "name": "stdout",
     "output_type": "stream",
     "text": [
      "Accuracy for Random Forest Classifier Model: 0.85\n"
     ]
    }
   ],
   "source": [
    "from sklearn.pipeline import Pipeline\n",
    "from sklearn.metrics import accuracy_score\n",
    "from sklearn.ensemble import RandomForestClassifier\n",
    "\n",
    "randomF_pipeline = Pipeline([\n",
    "    ('preprocessor', preprocessor),\n",
    "    ('classifier', RandomForestClassifier())\n",
    "])\n",
    "\n",
    "randomF_pipeline.fit(X_train, y_train)\n",
    "randomF_pred = randomF_pipeline.predict(X_test)\n",
    "acc_rf = accuracy_score(y_test, randomF_pred)\n",
    "print(f'Accuracy for Random Forest Classifier Model: {acc_rf:.2f}')"
   ]
  },
  {
   "cell_type": "markdown",
   "metadata": {
    "id": "4KcElJCtb0sn"
   },
   "source": [
    "# K Neighbors Classifier Model"
   ]
  },
  {
   "cell_type": "code",
   "execution_count": 12,
   "metadata": {
    "colab": {
     "base_uri": "https://localhost:8080/"
    },
    "id": "QQ-ljNymSvSC",
    "outputId": "40b3d644-c75a-412e-c7f9-2b355b7cf51c"
   },
   "outputs": [
    {
     "name": "stdout",
     "output_type": "stream",
     "text": [
      "Accuracy for K Neighbors Classifier Model: 0.83\n"
     ]
    }
   ],
   "source": [
    "from sklearn.pipeline import Pipeline\n",
    "from sklearn.metrics import accuracy_score\n",
    "from sklearn.neighbors import KNeighborsClassifier\n",
    "\n",
    "knn_pipeline = Pipeline([\n",
    "    ('preprocessor', preprocessor),\n",
    "    ('classifier', KNeighborsClassifier())\n",
    "])\n",
    "\n",
    "knn_pipeline.fit(X_train, y_train)\n",
    "knn_pred = knn_pipeline.predict(X_test)\n",
    "acc_kn = accuracy_score(y_test, knn_pred)\n",
    "print(f'Accuracy for K Neighbors Classifier Model: {acc_kn:.2f}')"
   ]
  },
  {
   "cell_type": "markdown",
   "metadata": {
    "id": "zp5ENmaTcb00"
   },
   "source": [
    "# Métricas de Equidad\n",
    "### Modelo escogido por mejor rendimiento: **Logistic Regression Model**\n",
    "### Atributos sensibles a estudiar: **age** y **sex**"
   ]
  },
  {
   "cell_type": "markdown",
   "metadata": {
    "id": "ukUHvkSTdIlI"
   },
   "source": [
    "## Independencia (Demographic Parity)"
   ]
  },
  {
   "cell_type": "code",
   "execution_count": 13,
   "metadata": {
    "id": "dud7uJs4EdZX"
   },
   "outputs": [],
   "source": [
    "best_pred = logistic_pred"
   ]
  },
  {
   "cell_type": "code",
   "execution_count": 14,
   "metadata": {
    "colab": {
     "base_uri": "https://localhost:8080/",
     "height": 206
    },
    "id": "4oQ4lURp-i74",
    "outputId": "d4108c94-95e3-494a-ff6e-f5a9e2d2673d"
   },
   "outputs": [
    {
     "data": {
      "text/html": [
       "<div>\n",
       "<style scoped>\n",
       "    .dataframe tbody tr th:only-of-type {\n",
       "        vertical-align: middle;\n",
       "    }\n",
       "\n",
       "    .dataframe tbody tr th {\n",
       "        vertical-align: top;\n",
       "    }\n",
       "\n",
       "    .dataframe thead th {\n",
       "        text-align: right;\n",
       "    }\n",
       "</style>\n",
       "<table border=\"1\" class=\"dataframe\">\n",
       "  <thead>\n",
       "    <tr style=\"text-align: right;\">\n",
       "      <th></th>\n",
       "      <th>age</th>\n",
       "      <th>sex</th>\n",
       "      <th>y_pred</th>\n",
       "    </tr>\n",
       "  </thead>\n",
       "  <tbody>\n",
       "    <tr>\n",
       "      <th>25618</th>\n",
       "      <td>45</td>\n",
       "      <td>1</td>\n",
       "      <td>1</td>\n",
       "    </tr>\n",
       "    <tr>\n",
       "      <th>42065</th>\n",
       "      <td>56</td>\n",
       "      <td>0</td>\n",
       "      <td>0</td>\n",
       "    </tr>\n",
       "    <tr>\n",
       "      <th>45990</th>\n",
       "      <td>56</td>\n",
       "      <td>0</td>\n",
       "      <td>0</td>\n",
       "    </tr>\n",
       "    <tr>\n",
       "      <th>38179</th>\n",
       "      <td>22</td>\n",
       "      <td>0</td>\n",
       "      <td>0</td>\n",
       "    </tr>\n",
       "    <tr>\n",
       "      <th>39821</th>\n",
       "      <td>17</td>\n",
       "      <td>1</td>\n",
       "      <td>0</td>\n",
       "    </tr>\n",
       "  </tbody>\n",
       "</table>\n",
       "</div>"
      ],
      "text/plain": [
       "       age  sex  y_pred\n",
       "25618   45    1       1\n",
       "42065   56    0       0\n",
       "45990   56    0       0\n",
       "38179   22    0       0\n",
       "39821   17    1       0"
      ]
     },
     "execution_count": 14,
     "metadata": {},
     "output_type": "execute_result"
    }
   ],
   "source": [
    "# Sex map\n",
    "mapping_sex = {\"Female\": 0, \"Male\": 1}\n",
    "# Income map\n",
    "mapping_income = {\"<=50K\": 0, \">50K\": 1}\n",
    "\n",
    "X_test_bias = X_test.copy()\n",
    "\n",
    "def map_col(df, col, mapping) -> pd.DataFrame:\n",
    "    df[col] = df[col].map(mapping)\n",
    "    return df\n",
    "\n",
    "X_test['age'] = X_test_bias['age'].apply(lambda x: 1 if x < 60 else 0)\n",
    "X_test_bias = map_col(X_test_bias, \"sex\", mapping_sex)\n",
    "X_test_bias = X_test_bias[['age', 'sex']]\n",
    "X_test_bias['y_pred'] = randomF_pred\n",
    "X_test_bias = map_col(X_test_bias, \"y_pred\", mapping_income)\n",
    "X_test_bias.head()"
   ]
  },
  {
   "cell_type": "code",
   "execution_count": 15,
   "metadata": {
    "colab": {
     "base_uri": "https://localhost:8080/"
    },
    "id": "bke1SDCDIGvN",
    "outputId": "9c003d95-5c11-42c4-b1be-2db18bbf35fd"
   },
   "outputs": [
    {
     "name": "stdout",
     "output_type": "stream",
     "text": [
      "Requirement already satisfied: aif360 in c:\\users\\romyh\\documents\\redesalg\\.venv\\lib\\site-packages (0.6.1)\n",
      "Requirement already satisfied: numpy>=1.16 in c:\\users\\romyh\\documents\\redesalg\\.venv\\lib\\site-packages (from aif360) (2.1.3)\n",
      "Requirement already satisfied: scipy>=1.2.0 in c:\\users\\romyh\\documents\\redesalg\\.venv\\lib\\site-packages (from aif360) (1.14.1)\n",
      "Requirement already satisfied: pandas>=0.24.0 in c:\\users\\romyh\\documents\\redesalg\\.venv\\lib\\site-packages (from aif360) (2.2.3)\n",
      "Requirement already satisfied: scikit-learn>=1.0 in c:\\users\\romyh\\documents\\redesalg\\.venv\\lib\\site-packages (from aif360) (1.5.2)\n",
      "Requirement already satisfied: matplotlib in c:\\users\\romyh\\documents\\redesalg\\.venv\\lib\\site-packages (from aif360) (3.9.2)\n",
      "Requirement already satisfied: python-dateutil>=2.8.2 in c:\\users\\romyh\\documents\\redesalg\\.venv\\lib\\site-packages (from pandas>=0.24.0->aif360) (2.9.0.post0)\n",
      "Requirement already satisfied: pytz>=2020.1 in c:\\users\\romyh\\documents\\redesalg\\.venv\\lib\\site-packages (from pandas>=0.24.0->aif360) (2024.2)\n",
      "Requirement already satisfied: tzdata>=2022.7 in c:\\users\\romyh\\documents\\redesalg\\.venv\\lib\\site-packages (from pandas>=0.24.0->aif360) (2024.2)\n",
      "Requirement already satisfied: joblib>=1.2.0 in c:\\users\\romyh\\documents\\redesalg\\.venv\\lib\\site-packages (from scikit-learn>=1.0->aif360) (1.4.2)\n",
      "Requirement already satisfied: threadpoolctl>=3.1.0 in c:\\users\\romyh\\documents\\redesalg\\.venv\\lib\\site-packages (from scikit-learn>=1.0->aif360) (3.5.0)\n",
      "Requirement already satisfied: contourpy>=1.0.1 in c:\\users\\romyh\\documents\\redesalg\\.venv\\lib\\site-packages (from matplotlib->aif360) (1.3.1)\n",
      "Requirement already satisfied: cycler>=0.10 in c:\\users\\romyh\\documents\\redesalg\\.venv\\lib\\site-packages (from matplotlib->aif360) (0.12.1)\n",
      "Requirement already satisfied: fonttools>=4.22.0 in c:\\users\\romyh\\documents\\redesalg\\.venv\\lib\\site-packages (from matplotlib->aif360) (4.55.0)\n",
      "Requirement already satisfied: kiwisolver>=1.3.1 in c:\\users\\romyh\\documents\\redesalg\\.venv\\lib\\site-packages (from matplotlib->aif360) (1.4.7)\n",
      "Requirement already satisfied: packaging>=20.0 in c:\\users\\romyh\\documents\\redesalg\\.venv\\lib\\site-packages (from matplotlib->aif360) (24.2)\n",
      "Requirement already satisfied: pillow>=8 in c:\\users\\romyh\\documents\\redesalg\\.venv\\lib\\site-packages (from matplotlib->aif360) (11.0.0)\n",
      "Requirement already satisfied: pyparsing>=2.3.1 in c:\\users\\romyh\\documents\\redesalg\\.venv\\lib\\site-packages (from matplotlib->aif360) (3.2.0)\n",
      "Requirement already satisfied: six>=1.5 in c:\\users\\romyh\\documents\\redesalg\\.venv\\lib\\site-packages (from python-dateutil>=2.8.2->pandas>=0.24.0->aif360) (1.16.0)\n"
     ]
    }
   ],
   "source": [
    "!pip install aif360"
   ]
  },
  {
   "cell_type": "code",
   "execution_count": 16,
   "metadata": {
    "id": "y1gE7xoaG2Cf"
   },
   "outputs": [],
   "source": [
    "from aif360.datasets import BinaryLabelDataset\n",
    "\n",
    "df_aif = BinaryLabelDataset(\n",
    "    df=X_test_bias,\n",
    "    label_names=['y_pred'],\n",
    "    protected_attribute_names=['age', 'sex'],\n",
    ")"
   ]
  },
  {
   "cell_type": "code",
   "execution_count": 17,
   "metadata": {
    "colab": {
     "base_uri": "https://localhost:8080/"
    },
    "id": "9e5yJhS1-mdM",
    "outputId": "1630f5e5-d538-48db-a4ea-93ea61cd50d6"
   },
   "outputs": [
    {
     "name": "stdout",
     "output_type": "stream",
     "text": [
      "Disparate Impact for age: nan\n",
      "Disparate Impact for sex: 0.31321716957076073\n"
     ]
    },
    {
     "name": "stderr",
     "output_type": "stream",
     "text": [
      "c:\\Users\\romyh\\Documents\\redesalg\\.venv\\Lib\\site-packages\\aif360\\metrics\\binary_label_dataset_metric.py:105: RuntimeWarning: invalid value encountered in scalar divide\n",
      "  return (self.num_positives(privileged=privileged)\n"
     ]
    }
   ],
   "source": [
    "from aif360.metrics import BinaryLabelDatasetMetric\n",
    "\n",
    "# Para 'age'\n",
    "metric_age = BinaryLabelDatasetMetric(\n",
    "    df_aif,\n",
    "    privileged_groups=[{\"age\": 1}],\n",
    "    unprivileged_groups=[{\"age\": 0}]\n",
    ")\n",
    "print(\"Disparate Impact for age:\", metric_age.disparate_impact())\n",
    "\n",
    "# Para 'sex'\n",
    "metric_sex = BinaryLabelDatasetMetric(\n",
    "    df_aif,\n",
    "    privileged_groups=[{\"sex\": 1}],\n",
    "    unprivileged_groups=[{\"sex\": 0}]\n",
    ")\n",
    "print(\"Disparate Impact for sex:\", metric_sex.disparate_impact())"
   ]
  },
  {
   "cell_type": "code",
   "execution_count": 18,
   "metadata": {
    "colab": {
     "base_uri": "https://localhost:8080/"
    },
    "id": "S2DLJJy7HJZ5",
    "outputId": "81e45b6e-f746-4284-e6af-a6c7c08e86cc"
   },
   "outputs": [],
   "source": [
    "# import numpy as np\n",
    "# from scipy.sparse import issparse\n",
    "# from aif360.metrics import ClassificationMetric\n",
    "\n",
    "# # Crear el dataset con las predicciones del modelo\n",
    "# df_aif_pred = df_aif.copy(deepcopy=True)\n",
    "# df_aif_pred.labels = randomF_pred.reshape(-1, 1)\n",
    "\n",
    "# # Definir grupos privilegiados y no privilegiados\n",
    "# privileged_groups = [{'sex': 1.0, 'age': 1.0}]\n",
    "# unprivileged_groups = [{'sex': 0.0, 'age': 0.0}]\n",
    "\n",
    "# # Calcular métricas de clasificación\n",
    "# classification_metric = ClassificationMetric(\n",
    "#     df_aif,\n",
    "#     df_aif_pred,\n",
    "#     unprivileged_groups=unprivileged_groups,\n",
    "#     privileged_groups=privileged_groups\n",
    "# )\n",
    "\n",
    "# # Calcular el Valor Predictivo Positivo (PPV)\n",
    "# privileged_ppv = classification_metric.positive_predictive_value(privileged=True)\n",
    "# unprivileged_ppv = classification_metric.positive_predictive_value(privileged=False)\n",
    "\n",
    "# # Calcular la diferencia de Predictive Parity\n",
    "# predictive_parity_difference = privileged_ppv - unprivileged_ppv\n",
    "\n",
    "# # Calcular la precisión\n",
    "# accuracy = accuracy_score(y_test, randomF_pred)\n",
    "\n",
    "# # Mostrar resultados\n",
    "# print(f\"Accuracy: {accuracy}\")\n",
    "# print(f\"Privileged PPV: {privileged_ppv}\")\n",
    "# print(f\"Unprivileged PPV: {unprivileged_ppv}\")\n",
    "# print(f\"Predictive Parity Difference: {predictive_parity_difference}\")"
   ]
  },
  {
   "cell_type": "code",
   "execution_count": 19,
   "metadata": {
    "colab": {
     "base_uri": "https://localhost:8080/"
    },
    "id": "pQAWZgLBKl1-",
    "outputId": "fc2bd1e8-9785-4faf-ce88-95db462b5252"
   },
   "outputs": [],
   "source": [
    "# import numpy as np\n",
    "# from scipy.sparse import issparse\n",
    "# from aif360.metrics import ClassificationMetric\n",
    "\n",
    "# # Crear el dataset con las predicciones del modelo\n",
    "# df_aif_pred = df_aif.copy(deepcopy=True)\n",
    "# print(df_aif_pred)\n",
    "# df_aif_pred.labels = randomF_pred.reshape(-1, 1)\n",
    "\n",
    "# classification_metric_age = ClassificationMetric(\n",
    "#     df_aif,\n",
    "#     df_aif_pred,\n",
    "#     privileged_groups=[{\"age\": 1}],\n",
    "#     unprivileged_groups=[{\"age\": 0}]\n",
    "# )\n",
    "# # Calcular el Valor Predictivo Positivo (PPV)\n",
    "# privileged_ppv_age = classification_metric_age.positive_predictive_value(privileged=True)\n",
    "# unprivileged_ppv_age = classification_metric_age.positive_predictive_value(privileged=False)\n",
    "\n",
    "# predictive_parity_difference_age = privileged_ppv_age - unprivileged_ppv_age\n",
    "# print(f\"Privileged PPV age: {privileged_ppv_age}\")\n",
    "# print(f\"Unprivileged PPV age: {unprivileged_ppv_age}\")\n",
    "# print(f\"Predictive Parity Difference age: {predictive_parity_difference_age}\")\n",
    "\n",
    "# classification_metric_sex = ClassificationMetric(\n",
    "#     df_aif,\n",
    "#     df_aif_pred,\n",
    "#     privileged_groups=[{\"sex\": 1}],\n",
    "#     unprivileged_groups=[{\"sex\": 0}]\n",
    "# )\n",
    "# # Calcular el Valor Predictivo Positivo (PPV)\n",
    "# privileged_ppv_sex = classification_metric_sex.positive_predictive_value(privileged=True)\n",
    "# unprivileged_ppv_sex = classification_metric_sex.positive_predictive_value(privileged=False)\n",
    "\n",
    "\n",
    "# predictive_parity_difference_sex = privileged_ppv_sex - unprivileged_ppv_sex\n",
    "\n",
    "# # Calcular la precisión\n",
    "# accuracy = accuracy_score(y_test, randomF_pred)\n",
    "\n",
    "# # Mostrar resultados\n",
    "# print(f\"Accuracy: {accuracy}\")\n",
    "# print(f\"Privileged PPV: {privileged_ppv_sex}\")\n",
    "# print(f\"Unprivileged PPV: {unprivileged_ppv_sex}\")\n",
    "# print(f\"Predictive Parity Difference: {predictive_parity_difference_sex}\")"
   ]
  },
  {
   "cell_type": "markdown",
   "metadata": {
    "id": "qcMp7nFSdUQp"
   },
   "source": [
    "## Separación (Equalized Odds)"
   ]
  },
  {
   "cell_type": "code",
   "execution_count": 20,
   "metadata": {
    "id": "3Yr05DpXe-7n"
   },
   "outputs": [],
   "source": [
    "def map_col(df, col, mapping) -> pd.DataFrame:\n",
    "    df[col] = df[col].map(mapping)\n",
    "    return df\n",
    "\n",
    "def calculate_tpr_fpr_sex(data, subgroup):\n",
    "    group_data = data[data['sex'] == subgroup]\n",
    "    true_positive = np.sum((group_data['y_pred'] == 1) & (group_data['y_true'] == 1))\n",
    "    false_positive = np.sum((group_data['y_pred'] == 1) & (group_data['y_true'] == 0))\n",
    "    total_positive = np.sum(group_data['y_true'] == 1)\n",
    "    total_negative = np.sum(group_data['y_true'] == 0)\n",
    "\n",
    "    tpr = true_positive / total_positive if total_positive > 0 else 0\n",
    "    fpr = false_positive / total_negative if total_negative > 0 else 0\n",
    "\n",
    "    return tpr, fpr\n",
    "\n",
    "def calculate_tpr_fpr_age(data, subgroup):\n",
    "    group_data = data[data['age'] == subgroup]\n",
    "    true_positive = np.sum((group_data['y_pred'] == 1) & (group_data['y_true'] == 1))\n",
    "    false_positive = np.sum((group_data['y_pred'] == 1) & (group_data['y_true'] == 0))\n",
    "    total_positive = np.sum(group_data['y_true'] == 1)\n",
    "    total_negative = np.sum(group_data['y_true'] == 0)\n",
    "\n",
    "    tpr = true_positive / total_positive if total_positive > 0 else 0\n",
    "    fpr = false_positive / total_negative if total_negative > 0 else 0\n",
    "\n",
    "    return tpr, fpr"
   ]
  },
  {
   "cell_type": "code",
   "execution_count": 21,
   "metadata": {
    "id": "xlFfqxuGfCYZ"
   },
   "outputs": [],
   "source": [
    "# Map to convert to binary\n",
    "# Sex map\n",
    "mapping_sex = {\"Female\": 0, \"Male\": 1}\n",
    "# Income map\n",
    "mapping_income = {\"<=50K\": 0, \">50K\": 1}"
   ]
  },
  {
   "cell_type": "code",
   "execution_count": 22,
   "metadata": {
    "colab": {
     "base_uri": "https://localhost:8080/",
     "height": 206
    },
    "id": "2I7if5lbFsmH",
    "outputId": "4d5d98f8-d007-4241-da78-4eb05b4fe173"
   },
   "outputs": [
    {
     "data": {
      "text/html": [
       "<div>\n",
       "<style scoped>\n",
       "    .dataframe tbody tr th:only-of-type {\n",
       "        vertical-align: middle;\n",
       "    }\n",
       "\n",
       "    .dataframe tbody tr th {\n",
       "        vertical-align: top;\n",
       "    }\n",
       "\n",
       "    .dataframe thead th {\n",
       "        text-align: right;\n",
       "    }\n",
       "</style>\n",
       "<table border=\"1\" class=\"dataframe\">\n",
       "  <thead>\n",
       "    <tr style=\"text-align: right;\">\n",
       "      <th></th>\n",
       "      <th>age</th>\n",
       "      <th>sex</th>\n",
       "      <th>y_pred</th>\n",
       "      <th>y_true</th>\n",
       "    </tr>\n",
       "  </thead>\n",
       "  <tbody>\n",
       "    <tr>\n",
       "      <th>25618</th>\n",
       "      <td>1</td>\n",
       "      <td>1</td>\n",
       "      <td>1</td>\n",
       "      <td>1</td>\n",
       "    </tr>\n",
       "    <tr>\n",
       "      <th>42065</th>\n",
       "      <td>1</td>\n",
       "      <td>0</td>\n",
       "      <td>0</td>\n",
       "      <td>1</td>\n",
       "    </tr>\n",
       "    <tr>\n",
       "      <th>45990</th>\n",
       "      <td>1</td>\n",
       "      <td>0</td>\n",
       "      <td>0</td>\n",
       "      <td>0</td>\n",
       "    </tr>\n",
       "    <tr>\n",
       "      <th>38179</th>\n",
       "      <td>1</td>\n",
       "      <td>0</td>\n",
       "      <td>0</td>\n",
       "      <td>0</td>\n",
       "    </tr>\n",
       "    <tr>\n",
       "      <th>39821</th>\n",
       "      <td>1</td>\n",
       "      <td>1</td>\n",
       "      <td>0</td>\n",
       "      <td>0</td>\n",
       "    </tr>\n",
       "  </tbody>\n",
       "</table>\n",
       "</div>"
      ],
      "text/plain": [
       "       age  sex  y_pred  y_true\n",
       "25618    1    1       1       1\n",
       "42065    1    0       0       1\n",
       "45990    1    0       0       0\n",
       "38179    1    0       0       0\n",
       "39821    1    1       0       0"
      ]
     },
     "execution_count": 22,
     "metadata": {},
     "output_type": "execute_result"
    }
   ],
   "source": [
    "X_test_bias_ed = X_test.copy()\n",
    "\n",
    "X_test_bias_ed['age'] = X_test_bias_ed['age'].apply(lambda x: 1 if x < 60 else 0) # Age map to binary\n",
    "X_test_bias_ed = map_col(X_test_bias_ed, \"sex\", mapping_sex) # Sex map to binary\n",
    "X_test_bias_ed = X_test_bias_ed[['age', 'sex']]\n",
    "X_test_bias_ed.loc[:, 'y_pred'] = logistic_pred\n",
    "X_test_bias_ed = map_col(X_test_bias_ed, \"y_pred\", mapping_income) # Income map to binary y_pred\n",
    "X_test_bias_ed['y_true'] = y_test.values\n",
    "X_test_bias_ed = map_col(X_test_bias_ed, \"y_true\", mapping_income) # Income map to binary y_true\n",
    "X_test_bias_ed.head()"
   ]
  },
  {
   "cell_type": "markdown",
   "metadata": {
    "id": "eGLRTJKJgNrj"
   },
   "source": [
    "### Equalized Odds for **age** atribute\n",
    "Map: [**0: Older Adults**, **1: Young Adults**]"
   ]
  },
  {
   "cell_type": "code",
   "execution_count": 23,
   "metadata": {
    "colab": {
     "base_uri": "https://localhost:8080/"
    },
    "id": "CkQqJSfzIPTO",
    "outputId": "72304a76-c098-4a7b-f81f-716cff8e560e"
   },
   "outputs": [
    {
     "name": "stdout",
     "output_type": "stream",
     "text": [
      "Age Group: Older Adults\n",
      "  True Positive Rate (TPR): 0.00\n",
      "  False Positive Rate (FPR): 0.00\n",
      "Age Group: Young Adults\n",
      "  True Positive Rate (TPR): 0.61\n",
      "  False Positive Rate (FPR): 0.07\n"
     ]
    }
   ],
   "source": [
    "for age in [0, 1]:\n",
    "    tpr, fpr = calculate_tpr_fpr_age(X_test_bias_ed, age)\n",
    "    age_label = 'Older Adults' if age == 0 else 'Young Adults'\n",
    "    print(f\"Age Group: {age_label}\")\n",
    "    print(f\"  True Positive Rate (TPR): {tpr:.2f}\")\n",
    "    print(f\"  False Positive Rate (FPR): {fpr:.2f}\")"
   ]
  },
  {
   "cell_type": "markdown",
   "metadata": {
    "id": "ks5s1lMdhlP_"
   },
   "source": [
    "### Equalized Odds for **sex** atribute\n",
    "Map: [**0: Female**, **1: Male**]"
   ]
  },
  {
   "cell_type": "code",
   "execution_count": 24,
   "metadata": {
    "colab": {
     "base_uri": "https://localhost:8080/"
    },
    "id": "53CtaDwegUWH",
    "outputId": "5296e37f-730e-4981-f16d-672f6920e073"
   },
   "outputs": [
    {
     "name": "stdout",
     "output_type": "stream",
     "text": [
      "Sex Group: Female\n",
      "  True Positive Rate (TPR): 0.49\n",
      "  False Positive Rate (FPR): 0.02\n",
      "Sex Group: Male\n",
      "  True Positive Rate (TPR): 0.63\n",
      "  False Positive Rate (FPR): 0.10\n"
     ]
    }
   ],
   "source": [
    "for sex in [0, 1]:\n",
    "    tpr, fpr = calculate_tpr_fpr_sex(X_test_bias_ed, sex)\n",
    "    sex_label = 'Female' if sex == 0 else 'Male'\n",
    "    print(f\"Sex Group: {sex_label}\")\n",
    "    print(f\"  True Positive Rate (TPR): {tpr:.2f}\")\n",
    "    print(f\"  False Positive Rate (FPR): {fpr:.2f}\")"
   ]
  },
  {
   "cell_type": "markdown",
   "metadata": {
    "id": "FtnPwLPQnAfm"
   },
   "source": [
    "## Suficiencia (Predictive Parity)"
   ]
  },
  {
   "cell_type": "code",
   "execution_count": 25,
   "metadata": {
    "colab": {
     "base_uri": "https://localhost:8080/"
    },
    "id": "c4hEBpNzBqiD",
    "outputId": "c101a35b-4a57-4513-ae43-2ddd27a0bf90"
   },
   "outputs": [],
   "source": [
    "# # Instalar librerías necesarias\n",
    "# !pip install aif360\n",
    "\n",
    "# import pandas as pd\n",
    "# import numpy as np\n",
    "# from scipy.sparse import issparse\n",
    "# from sklearn.model_selection import train_test_split\n",
    "# from sklearn.pipeline import Pipeline\n",
    "# from sklearn.compose import ColumnTransformer\n",
    "# from sklearn.preprocessing import StandardScaler, OneHotEncoder\n",
    "# from sklearn.linear_model import LogisticRegression\n",
    "# from sklearn.metrics import accuracy_score\n",
    "# from aif360.datasets import BinaryLabelDataset\n",
    "# from aif360.metrics import ClassificationMetric\n",
    "\n",
    "# # Cargar el dataset desde el enlace proporcionado\n",
    "# url = \"https://archive.ics.uci.edu/ml/machine-learning-databases/adult/adult.data\"\n",
    "# columns = [\n",
    "#     \"age\", \"workclass\", \"fnlwgt\", \"education\", \"education-num\", \"marital-status\",\n",
    "#     \"occupation\", \"relationship\", \"race\", \"sex\", \"capital-gain\", \"capital-loss\",\n",
    "#     \"hours-per-week\", \"native-country\", \"income\"\n",
    "# ]\n",
    "# df = pd.read_csv(url, header=None, names=columns, na_values=\" ?\", skipinitialspace=True)\n",
    "# df.dropna(inplace=True)\n",
    "\n",
    "# # Procesar la columna 'income' para tener etiquetas 0 y 1\n",
    "# df['income'] = df['income'].apply(lambda x: 1 if x.strip() == '>50K' else 0)\n",
    "\n",
    "# # Convertir 'sex' a valores binarios\n",
    "# df['sex'] = df['sex'].apply(lambda x: 1 if x.strip() == 'Male' else 0)\n",
    "\n",
    "# # Separar características y objetivo\n",
    "# X = df.drop(columns=['income'])\n",
    "# y = df['income']\n",
    "\n",
    "# # Mantener atributos sensibles separados\n",
    "# sensitive_features = ['age', 'sex']\n",
    "# sensitive_data = X[sensitive_features]\n",
    "\n",
    "# # Eliminar atributos sensibles de X\n",
    "# X = X.drop(columns=sensitive_features)\n",
    "\n",
    "# # Identificar columnas numéricas y categóricas\n",
    "# numeric_cols = X.select_dtypes(include=['int64', 'float64']).columns\n",
    "# categorical_cols = X.select_dtypes(include=['object']).columns\n",
    "\n",
    "# # Preprocesador\n",
    "# preprocessor = ColumnTransformer(\n",
    "#     transformers=[\n",
    "#         ('num', StandardScaler(), numeric_cols),\n",
    "#         ('cat', OneHotEncoder(handle_unknown='ignore'), categorical_cols)\n",
    "#     ]\n",
    "# )\n",
    "\n",
    "# # Dividir los datos\n",
    "# X_train, X_test, y_train, y_test, sensitive_train, sensitive_test = train_test_split(\n",
    "#     X, y, sensitive_data, test_size=0.3, random_state=42, stratify=y\n",
    "# )\n",
    "\n",
    "# # Crear el pipeline\n",
    "# pipeline = Pipeline([\n",
    "#     ('preprocessor', preprocessor),\n",
    "#     ('classifier', LogisticRegression(max_iter=1000))\n",
    "# ])\n",
    "\n",
    "# # Entrenar el modelo\n",
    "# pipeline.fit(X_train, y_train)\n",
    "\n",
    "# # Realizar predicciones\n",
    "# y_pred = pipeline.predict(X_test)\n",
    "\n",
    "# # Transformar X_test\n",
    "# X_test_transformed = pipeline['preprocessor'].transform(X_test)\n",
    "\n",
    "# # Verificar si la matriz transformada es dispersa y convertirla a densa si es necesario\n",
    "# if issparse(X_test_transformed):\n",
    "#     X_test_transformed = X_test_transformed.toarray()\n",
    "\n",
    "# # Crear el DataFrame con los datos transformados\n",
    "# feature_names = pipeline['preprocessor'].get_feature_names_out()\n",
    "# X_test_transformed = pd.DataFrame(X_test_transformed, columns=feature_names, index=X_test.index)\n",
    "\n",
    "# # Diagnosticar valores faltantes en los datos sensibles y etiquetas\n",
    "# print(\"Valores faltantes en sensitive_test:\", sensitive_test.isna().sum())\n",
    "# print(\"Valores faltantes en y_test:\", y_test.isna().sum())\n",
    "\n",
    "# # Combinar con atributos sensibles y etiquetas\n",
    "# df_test = pd.concat([X_test_transformed, sensitive_test.reset_index(drop=True), y_test.reset_index(drop=True)], axis=1)\n",
    "\n",
    "# # Diagnosticar valores faltantes después de combinar\n",
    "# print(\"Valores faltantes después de combinar:\", df_test.isna().sum())\n",
    "\n",
    "# # Eliminar filas con valores faltantes\n",
    "# df_test.dropna(inplace=True)\n",
    "\n",
    "# # Verificar que no haya valores faltantes después de limpiar\n",
    "# print(\"Valores faltantes después de limpiar:\", df_test.isna().sum())\n",
    "\n",
    "# # Filtrar predicciones para coincidir con las filas restantes en df_test\n",
    "# filtered_indices = df_test.index\n",
    "# y_pred_filtered = y_pred[filtered_indices]\n",
    "\n",
    "# # Crear el atributo protegido 'age_group'\n",
    "# df_test['age_group'] = df_test['age'].apply(lambda x: 1.0 if x > 30 else 0.0)\n",
    "\n",
    "# # Crear el BinaryLabelDataset\n",
    "# binary_dataset = BinaryLabelDataset(\n",
    "#     favorable_label=1,\n",
    "#     unfavorable_label=0,\n",
    "#     df=df_test,\n",
    "#     label_names=['income'],\n",
    "#     protected_attribute_names=['sex', 'age_group']\n",
    "# )\n",
    "\n",
    "# # Crear el dataset con las predicciones del modelo\n",
    "# binary_dataset_pred = binary_dataset.copy(deepcopy=True)\n",
    "# binary_dataset_pred.labels = y_pred_filtered.reshape(-1, 1)\n",
    "\n",
    "# # Definir grupos privilegiados y no privilegiados\n",
    "# privileged_groups = [{'sex': 1.0, 'age_group': 1.0}]\n",
    "# unprivileged_groups = [{'sex': 0.0, 'age_group': 0.0}]\n",
    "\n",
    "# # Calcular métricas de clasificación\n",
    "# classification_metric = ClassificationMetric(\n",
    "#     binary_dataset,\n",
    "#     binary_dataset_pred,\n",
    "#     unprivileged_groups=unprivileged_groups,\n",
    "#     privileged_groups=privileged_groups\n",
    "# )\n",
    "\n",
    "# # Calcular el Valor Predictivo Positivo (PPV)\n",
    "# privileged_ppv = classification_metric.positive_predictive_value(privileged=True)\n",
    "# unprivileged_ppv = classification_metric.positive_predictive_value(privileged=False)\n",
    "\n",
    "# # Calcular la diferencia de Predictive Parity\n",
    "# predictive_parity_difference = privileged_ppv - unprivileged_ppv\n",
    "\n",
    "# # Calcular la precisión\n",
    "# accuracy = accuracy_score(y_test.loc[filtered_indices], y_pred_filtered)\n",
    "\n",
    "# # Mostrar resultados\n",
    "# print(f\"Accuracy: {accuracy}\")\n",
    "# print(f\"Privileged PPV: {privileged_ppv}\")\n",
    "# print(f\"Unprivileged PPV: {unprivileged_ppv}\")\n",
    "# print(f\"Predictive Parity Difference: {predictive_parity_difference}\")"
   ]
  },
  {
   "cell_type": "markdown",
   "metadata": {
    "id": "1WENKgyhh44_"
   },
   "source": [
    "# Mitigación de Sesgos\n",
    "### Pre-procesamiento: **Reweighing**\n",
    "### In-procesamiento:\n",
    "### Post-procesamiento:"
   ]
  },
  {
   "cell_type": "code",
   "execution_count": 48,
   "metadata": {},
   "outputs": [],
   "source": [
    "from typing import List"
   ]
  },
  {
   "cell_type": "markdown",
   "metadata": {
    "id": "RFcG9Ttaicoi"
   },
   "source": [
    "## Pre-procesamiento: **Reweighing**"
   ]
  },
  {
   "cell_type": "code",
   "execution_count": null,
   "metadata": {
    "id": "skNdHCvcih3y"
   },
   "outputs": [],
   "source": [
    "# X_train_pre = X_train.copy()\n",
    "# y_train_pre = y_train.copy()\n",
    "# X_test_pre = X_test.copy()\n",
    "# y_test_pre = y_test.copy()\n",
    "\n",
    "# X_train_pre = map_col(X_train_pre, \"sex\", mapping_sex)\n",
    "# X_test_pre = map_col(X_test_pre, \"sex\", mapping_sex)\n",
    "# X_train_pre['age'] = X_train_pre['age'].apply(lambda x: 1 if x < 60 else 0)\n",
    "# X_test_pre['age'] = X_test_pre['age'].apply(lambda x: 1 if x < 60 else 0)\n",
    "# y_train_pre = y_train_pre.map({'<=50K': 0, '>50K': 1})\n",
    "# y_test_pre = y_test_pre.map({'<=50K': 0, '>50K': 1})"
   ]
  },
  {
   "cell_type": "code",
   "execution_count": null,
   "metadata": {
    "id": "EKILX6i-joPT"
   },
   "outputs": [],
   "source": [
    "# cat_cols = X_train_pre.select_dtypes(include=['object']).columns\n",
    "# X_train_pre = pd.get_dummies(X_train_pre, columns=cat_cols, drop_first=True)\n",
    "# X_test_pre = pd.get_dummies(X_test_pre, columns=cat_cols, drop_first=True)\n",
    "# diff_columns=X_train_pre.columns.symmetric_difference(X_test_pre.columns)\n",
    "# X_train_pre = X_train_pre.drop(columns=diff_columns)"
   ]
  },
  {
   "cell_type": "code",
   "execution_count": null,
   "metadata": {
    "id": "AgvvSBW-kNzq"
   },
   "outputs": [],
   "source": [
    "# data = BinaryLabelDataset(df=X_train_pre.join(y_train_pre),\n",
    "#                           label_names=['income'],\n",
    "#                           protected_attribute_names=['sex', 'age'])\n",
    "\n",
    "# reweigher = Reweighing(unprivileged_groups=[{'sex': 0}, {'age': 1}],\n",
    "#                         privileged_groups=[{'sex': 1}, {'age': 0}])\n",
    "# reweighed_data = reweigher.fit_transform(data)\n",
    "\n",
    "# weights = reweighed_data.instance_weights"
   ]
  },
  {
   "cell_type": "code",
   "execution_count": null,
   "metadata": {
    "colab": {
     "base_uri": "https://localhost:8080/"
    },
    "id": "7SyKpGYAk_r1",
    "outputId": "7b7de182-0cde-4e35-ed75-ea47b6a5fe9d"
   },
   "outputs": [
    {
     "name": "stdout",
     "output_type": "stream",
     "text": [
      "Accuracy for Logistic Regression Model with Pre-processing: 0.85\n"
     ]
    },
    {
     "name": "stderr",
     "output_type": "stream",
     "text": [
      "c:\\Users\\romyh\\Documents\\redesalg\\.venv\\Lib\\site-packages\\sklearn\\linear_model\\_logistic.py:469: ConvergenceWarning: lbfgs failed to converge (status=1):\n",
      "STOP: TOTAL NO. of ITERATIONS REACHED LIMIT.\n",
      "\n",
      "Increase the number of iterations (max_iter) or scale the data as shown in:\n",
      "    https://scikit-learn.org/stable/modules/preprocessing.html\n",
      "Please also refer to the documentation for alternative solver options:\n",
      "    https://scikit-learn.org/stable/modules/linear_model.html#logistic-regression\n",
      "  n_iter_i = _check_optimize_result(\n"
     ]
    }
   ],
   "source": [
    "# Entrenamiento del modelo (se puede eliminar ya que el pre-procesamiento llega\n",
    "# hasta obtener los pesos \"weights\")\n",
    "\n",
    "# logistic_model_pre = LogisticRegression(max_iter=5000, random_state=42)\n",
    "# logistic_model_pre.fit(X_train_pre, y_train_pre, sample_weight=weights)\n",
    "# y_pred_logistic_pre = logistic_model_pre.predict(X_test_pre)\n",
    "# acc_lr_pre = accuracy_score(y_test_pre, y_pred_logistic_pre)\n",
    "# print(f'Accuracy for Logistic Regression Model with Pre-processing: {acc_lr_pre:.2f}')"
   ]
  },
  {
   "cell_type": "code",
   "execution_count": null,
   "metadata": {},
   "outputs": [],
   "source": [
    "X_train_pre = map_col(X_train_pre, \"sex\", mapping_sex)\n",
    "X_test_pre = map_col(X_test_pre, \"sex\", mapping_sex)\n",
    "X_train_pre['age'] = X_train_pre['age'].apply(lambda x: 1 if x < 60 else 0)\n",
    "X_test_pre['age'] = X_test_pre['age'].apply(lambda x: 1 if x < 60 else 0)\n",
    "y_train_pre = y_train_pre.map({'<=50K': 0, '>50K': 1})\n",
    "y_test_pre = y_test_pre.map({'<=50K': 0, '>50K': 1})\n",
    "\n",
    "cat_cols = X_train_pre.select_dtypes(include=['object']).columns\n",
    "X_train_pre = pd.get_dummies(X_train_pre, columns=cat_cols, drop_first=True)\n",
    "X_test_pre = pd.get_dummies(X_test_pre, columns=cat_cols, drop_first=True)\n",
    "diff_columns=X_train_pre.columns.symmetric_difference(X_test_pre.columns)\n",
    "X_train_pre = X_train_pre.drop(columns=diff_columns)"
   ]
  },
  {
   "cell_type": "code",
   "execution_count": 49,
   "metadata": {},
   "outputs": [],
   "source": [
    "from aif360.algorithms.preprocessing import Reweighing\n",
    "from aif360.datasets import BinaryLabelDataset\n",
    "\n",
    "def reweightingProcessing(\n",
    "    train_aif_df: BinaryLabelDataset,\n",
    "    sensitive_features: List[str]\n",
    "):\n",
    "    \"\"\"\n",
    "    Aplica el algoritmo de preprocesamiento Reweighing para ajustar los pesos de las instancias.\n",
    "\n",
    "    Parámetros:\n",
    "    - train_aif_df (BinaryLabelDataset): Datos de entrenamiento.\n",
    "    - sensitive_features (List[str]): Lista de características sensibles (e.g., ['age', 'sex']).\n",
    "\n",
    "    Retorno:\n",
    "    - reweighted_train_aif_df (BinaryLabelDataset): Datos reponderados con los nuevos pesos aplicados.\n",
    "    \"\"\"\n",
    "    reweighing_processors = []\n",
    "    reweighted_train_aif_df = train_aif_df.copy()\n",
    "\n",
    "    for sensitive_feature in sensitive_features:\n",
    "        # Configurar grupos privilegiados y no privilegiados\n",
    "        privileged_groups = [{sensitive_feature: 1}]\n",
    "        unprivileged_groups = [{sensitive_feature: 0}]\n",
    "        \n",
    "        # Crear el procesador de reweighting\n",
    "        reweighing_processor = Reweighing(\n",
    "            privileged_groups=privileged_groups,\n",
    "            unprivileged_groups=unprivileged_groups\n",
    "        )\n",
    "        print(f\"Aplicando reweighting para {sensitive_feature}...\")\n",
    "        \n",
    "        # Aplicar el ajuste de pesos\n",
    "        reweighted_train_aif_df = reweighing_processor.fit_transform(reweighted_train_aif_df)\n",
    "        reweighing_processors.append(reweighing_processor)\n",
    "\n",
    "    return reweighted_train_aif_df\n"
   ]
  },
  {
   "cell_type": "code",
   "execution_count": 50,
   "metadata": {},
   "outputs": [
    {
     "name": "stdout",
     "output_type": "stream",
     "text": [
      "Aplicando reweighting para age...\n",
      "Aplicando reweighting para sex...\n"
     ]
    }
   ],
   "source": [
    "bld_train_pre = BinaryLabelDataset(df=X_train_pre.join(y_train_pre),\n",
    "                          label_names=['income'],\n",
    "                          protected_attribute_names=['sex', 'age'])\n",
    "\n",
    "\n",
    "reweighted_pre_train = reweightingProcessing(\n",
    "    train_aif_df=bld_train_pre,  # Datos de entrenamiento\n",
    "    sensitive_features=['age', 'sex']  # Características sensibles\n",
    ")"
   ]
  },
  {
   "cell_type": "code",
   "execution_count": 51,
   "metadata": {},
   "outputs": [
    {
     "name": "stdout",
     "output_type": "stream",
     "text": [
      "Pesos ajustados de las primeras 10 instancias:\n",
      "[1.09493593 0.8507266  0.8507266  0.78650541 1.09493593 1.09493593\n",
      " 1.09493593 0.8507266  1.09493593 0.8507266 ]\n"
     ]
    }
   ],
   "source": [
    "# Mostrar los primeros 10 pesos de las instancias\n",
    "print(\"Pesos ajustados de las primeras 10 instancias:\")\n",
    "print(reweighted_pre_train.instance_weights[:10])\n"
   ]
  },
  {
   "cell_type": "markdown",
   "metadata": {
    "id": "6rS3vu7C2CEZ"
   },
   "source": [
    "## In-procesamiento: **Inserte Técnica Aquí**"
   ]
  },
  {
   "cell_type": "code",
   "execution_count": null,
   "metadata": {},
   "outputs": [],
   "source": [
    "X_train_in = map_col(X_train_in, \"sex\", mapping_sex)\n",
    "X_test_in = map_col(X_test_in, \"sex\", mapping_sex)\n",
    "X_train_in['age'] = X_train_in['age'].apply(lambda x: 1 if x < 60 else 0)\n",
    "X_test_in['age'] = X_test_in['age'].apply(lambda x: 1 if x < 60 else 0)\n",
    "y_train_in = y_train_in.map({'<=50K': 0, '>50K': 1})\n",
    "y_test_in = y_test_in.map({'<=50K': 0, '>50K': 1})\n",
    "\n",
    "cat_cols = X_train_in.select_dtypes(include=['object']).columns\n",
    "X_train_in = pd.get_dummies(X_train_in, columns=cat_cols, drop_first=True)\n",
    "X_test_in = pd.get_dummies(X_test_in, columns=cat_cols, drop_first=True)\n",
    "diff_columns=X_train_in.columns.symmetric_difference(X_test_in.columns)\n",
    "X_train_in = X_train_in.drop(columns=diff_columns)"
   ]
  },
  {
   "cell_type": "code",
   "execution_count": 53,
   "metadata": {
    "id": "KU3sP_632J3q"
   },
   "outputs": [
    {
     "ename": "ModuleNotFoundError",
     "evalue": "No module named 'tensorflow'",
     "output_type": "error",
     "traceback": [
      "\u001b[1;31m---------------------------------------------------------------------------\u001b[0m",
      "\u001b[1;31mModuleNotFoundError\u001b[0m                       Traceback (most recent call last)",
      "Cell \u001b[1;32mIn[53], line 5\u001b[0m\n\u001b[0;32m      3\u001b[0m \u001b[38;5;28;01mfrom\u001b[39;00m \u001b[38;5;21;01maif360\u001b[39;00m\u001b[38;5;21;01m.\u001b[39;00m\u001b[38;5;21;01mdatasets\u001b[39;00m \u001b[38;5;28;01mimport\u001b[39;00m BinaryLabelDataset\n\u001b[0;32m      4\u001b[0m \u001b[38;5;28;01mfrom\u001b[39;00m \u001b[38;5;21;01maif360\u001b[39;00m\u001b[38;5;21;01m.\u001b[39;00m\u001b[38;5;21;01mmetrics\u001b[39;00m \u001b[38;5;28;01mimport\u001b[39;00m ClassificationMetric\n\u001b[1;32m----> 5\u001b[0m \u001b[38;5;28;01mimport\u001b[39;00m \u001b[38;5;21;01mtensorflow\u001b[39;00m\u001b[38;5;21;01m.\u001b[39;00m\u001b[38;5;21;01mcompat\u001b[39;00m\u001b[38;5;21;01m.\u001b[39;00m\u001b[38;5;21;01mv1\u001b[39;00m \u001b[38;5;28;01mas\u001b[39;00m \u001b[38;5;21;01mtf\u001b[39;00m\n\u001b[0;32m      7\u001b[0m \u001b[38;5;28;01mdef\u001b[39;00m \u001b[38;5;21madversarialDebiasingProcessing\u001b[39m(\n\u001b[0;32m      8\u001b[0m     train_aif_df: BinaryLabelDataset,\n\u001b[0;32m      9\u001b[0m     test_aif_df: BinaryLabelDataset,\n\u001b[1;32m   (...)\u001b[0m\n\u001b[0;32m     13\u001b[0m     adversary_loss_weight: \u001b[38;5;28mfloat\u001b[39m \u001b[38;5;241m=\u001b[39m \u001b[38;5;241m0.1\u001b[39m\n\u001b[0;32m     14\u001b[0m ):\n\u001b[0;32m     15\u001b[0m \u001b[38;5;250m    \u001b[39m\u001b[38;5;124;03m\"\"\"\u001b[39;00m\n\u001b[0;32m     16\u001b[0m \u001b[38;5;124;03m    Función para entrenar un modelo debiasado usando AdversarialDebiasing.\u001b[39;00m\n\u001b[0;32m     17\u001b[0m \n\u001b[1;32m   (...)\u001b[0m\n\u001b[0;32m     27\u001b[0m \u001b[38;5;124;03m    - predicted_test_aif_df (BinaryLabelDataset): Predicciones debiasadas en el conjunto de prueba.\u001b[39;00m\n\u001b[0;32m     28\u001b[0m \u001b[38;5;124;03m    \"\"\"\u001b[39;00m\n",
      "\u001b[1;31mModuleNotFoundError\u001b[0m: No module named 'tensorflow'"
     ]
    }
   ],
   "source": [
    "from typing import List\n",
    "from aif360.algorithms.inprocessing import AdversarialDebiasing\n",
    "from aif360.datasets import BinaryLabelDataset\n",
    "from aif360.metrics import ClassificationMetric\n",
    "import tensorflow.compat.v1 as tf\n",
    "\n",
    "def adversarialDebiasingProcessing(\n",
    "    train_aif_df: BinaryLabelDataset,\n",
    "    test_aif_df: BinaryLabelDataset,\n",
    "    sensitive_features: List[str],\n",
    "    num_epochs: int = 50,\n",
    "    batch_size: int = 128,\n",
    "    adversary_loss_weight: float = 0.1\n",
    "):\n",
    "    \"\"\"\n",
    "    Función para entrenar un modelo debiasado usando AdversarialDebiasing.\n",
    "\n",
    "    Parámetros:\n",
    "    - train_aif_df (BinaryLabelDataset): Datos de entrenamiento.\n",
    "    - test_aif_df (BinaryLabelDataset): Datos de prueba.\n",
    "    - sensitive_features (List[str]): Lista de características sensibles (e.g., ['age', 'sex']).\n",
    "    - num_epochs (int): Número de épocas para entrenar.\n",
    "    - batch_size (int): Tamaño de lote durante el entrenamiento.\n",
    "    - adversary_loss_weight (float): Peso del adversario para reducir el sesgo.\n",
    "\n",
    "    Retorno:\n",
    "    - predicted_test_aif_df (BinaryLabelDataset): Predicciones debiasadas en el conjunto de prueba.\n",
    "    \"\"\"\n",
    "\n",
    "    sess = tf.Session()\n",
    "    debiased_models = []\n",
    "    predicted_test_aif_df = test_aif_df.copy()\n",
    "\n",
    "    for sensitive_feature in sensitive_features:\n",
    "        # Configurar grupos privilegiados y no privilegiados\n",
    "        privileged_groups = [{sensitive_feature: 1}]\n",
    "        unprivileged_groups = [{sensitive_feature: 0}]\n",
    "        \n",
    "        # Crear y entrenar el modelo debiasado\n",
    "        debiased_model = AdversarialDebiasing(\n",
    "            privileged_groups=privileged_groups,\n",
    "            unprivileged_groups=unprivileged_groups,\n",
    "            scope_name=f'debiased_classifier_{sensitive_feature}',\n",
    "            sess=sess,\n",
    "            num_epochs=num_epochs,\n",
    "            batch_size=batch_size,\n",
    "            adversary_loss_weight=adversary_loss_weight\n",
    "        )\n",
    "        print(f\"Entrenando modelo debiasado para {sensitive_feature}...\")\n",
    "        debiased_model.fit(train_aif_df)\n",
    "        debiased_models.append(debiased_model)\n",
    "\n",
    "        # Generar predicciones\n",
    "        predicted_test_aif_df = debiased_model.predict(predicted_test_aif_df)\n",
    "\n",
    "    sess.close()\n",
    "    return predicted_test_aif_df\n"
   ]
  },
  {
   "cell_type": "code",
   "execution_count": null,
   "metadata": {},
   "outputs": [],
   "source": [
    "bld_train_in = BinaryLabelDataset(df=X_train_in.join(y_train_in),\n",
    "                          label_names=['income'],\n",
    "                          protected_attribute_names=['sex', 'age'])\n",
    "\n",
    "\n",
    "bld_test_in = BinaryLabelDataset(df=X_test_in.join(y_test_in),\n",
    "                          label_names=['income'],\n",
    "                          protected_attribute_names=['sex', 'age'])"
   ]
  },
  {
   "cell_type": "code",
   "execution_count": null,
   "metadata": {},
   "outputs": [],
   "source": [
    "predicted_test_inprocessing = adversarialDebiasingProcessing(\n",
    "    train_aif_df=bld_train_in,  # Datos de entrenamiento\n",
    "    test_aif_df=bld_test_in,    # Datos de prueba\n",
    "    sensitive_features=['age', 'sex'],  # Atributos sensibles\n",
    "    num_epochs=50,  # Configuración del número de épocas\n",
    "    batch_size=128,  # Tamaño de lote\n",
    "    adversary_loss_weight=0.1  # Peso del adversario\n",
    ")"
   ]
  },
  {
   "cell_type": "markdown",
   "metadata": {
    "id": "A9UG6EWE2Pv8"
   },
   "source": [
    "## Post-procesamiento: **Inserte Técnica Aquí**"
   ]
  },
  {
   "cell_type": "code",
   "execution_count": null,
   "metadata": {},
   "outputs": [],
   "source": [
    "X_train_post = map_col(X_train_post, \"sex\", mapping_sex)\n",
    "X_test_post = map_col(X_test_post, \"sex\", mapping_sex)\n",
    "X_train_post['age'] = X_train_post['age'].apply(lambda x: 1 if x < 60 else 0)\n",
    "X_test_post['age'] = X_test_post['age'].apply(lambda x: 1 if x < 60 else 0)\n",
    "y_train_post = y_train_post.map({'<=50K': 0, '>50K': 1})\n",
    "y_test_post = y_test_post.map({'<=50K': 0, '>50K': 1})\n",
    "\n",
    "cat_cols = X_train_post.select_dtypes(include=['object']).columns\n",
    "X_train_post = pd.get_dummies(X_train_post, columns=cat_cols, drop_first=True)\n",
    "X_test_post = pd.get_dummies(X_test_post, columns=cat_cols, drop_first=True)\n",
    "diff_columns=X_train_post.columns.symmetric_difference(X_test_post.columns)\n",
    "X_train_post = X_train_post.drop(columns=diff_columns)"
   ]
  },
  {
   "cell_type": "code",
   "execution_count": null,
   "metadata": {},
   "outputs": [],
   "source": [
    "bld_train_post = BinaryLabelDataset(df=X_train_post.join(y_train_post),\n",
    "                          label_names=['income'],\n",
    "                          protected_attribute_names=['sex', 'age'])\n",
    "\n",
    "\n",
    "bld_test_post = BinaryLabelDataset(df=X_test_post.join(y_test_post),\n",
    "                          label_names=['income'],\n",
    "                          protected_attribute_names=['sex', 'age'])"
   ]
  },
  {
   "cell_type": "code",
   "execution_count": null,
   "metadata": {
    "id": "fPvO1_bP2T7_"
   },
   "outputs": [],
   "source": [
    "\n",
    "#Código Post-Procesamiento\n",
    "from aif360.algorithms.postprocessing import EqOddsPostprocessing\n",
    "\n",
    "# Cramos una función que se encargue de reajustar las predicciones\n",
    "def eqOddsPredictionProccesing(\n",
    "    test_aif_df: BinaryLabelDataset,\n",
    "    test_pred_aif_df: BinaryLabelDataset,\n",
    "    sensitive_features: List[str],\n",
    "):\n",
    "\n",
    "    eq_odds_processers = []\n",
    "    for sensitive_feature in sensitive_features:\n",
    "        eq_odds_processers.append(\n",
    "            EqOddsPostprocessing(\n",
    "                unprivileged_groups=[{sensitive_feature: 0}],\n",
    "                privileged_groups=[{sensitive_feature: 1}],\n",
    "                seed=42\n",
    "            )\n",
    "        )\n",
    "\n",
    "    actual_pred_aif_df = test_pred_aif_df.copy()\n",
    "\n",
    "    for eq_odds_processer in eq_odds_processers:\n",
    "        eq_odds_processer: EqOddsPostprocessing\n",
    "        eq_odds_processer.fit(test_aif_df, actual_pred_aif_df)\n",
    "        actual_pred_aif_df = eq_odds_processer.predict(actual_pred_aif_df)\n",
    "\n",
    "    return actual_pred_aif_df"
   ]
  },
  {
   "cell_type": "code",
   "execution_count": null,
   "metadata": {},
   "outputs": [],
   "source": [
    "post_processed_preds = eqOddsPredictionProccesing(\n",
    "    bld_train_post,\n",
    "    bld_test_post,\n",
    "    ['age', 'sex']\n",
    ")\n",
    "\n",
    "# Para 'age'\n",
    "metric_age = ClassificationMetric(\n",
    "    bld_test_post,\n",
    "    post_processed_preds,\n",
    "    unprivileged_groups=[{\"age\": 0}],\n",
    "    privileged_groups=[{\"age\": 1}]\n",
    ")\n",
    "\n",
    "# Para 'sex'\n",
    "metric_sex = ClassificationMetric(\n",
    "    bld_test_post,\n",
    "    post_processed_preds,\n",
    "    unprivileged_groups=[{\"sex\": 0}],\n",
    "    privileged_groups=[{\"sex\": 1}]\n",
    ")\n",
    "\n",
    "print(\"Disparate Impact for age:\", metric_age.disparate_impact())\n",
    "print(\"Dispate Impact for sex:\", metric_sex.disparate_impact())"
   ]
  },
  {
   "cell_type": "markdown",
   "metadata": {
    "id": "nHcG02a8lt4W"
   },
   "source": [
    "# Medición de Mitigación de Sesgos"
   ]
  },
  {
   "cell_type": "markdown",
   "metadata": {
    "id": "qRQWwinZ2Yij"
   },
   "source": [
    "## Combinación 1: Pre-procesamiento + In-Procesamiento"
   ]
  },
  {
   "cell_type": "code",
   "execution_count": 32,
   "metadata": {
    "id": "czYk1bQ80dx9"
   },
   "outputs": [],
   "source": [
    "## Código que combine las dos técnicas"
   ]
  },
  {
   "cell_type": "markdown",
   "metadata": {
    "id": "tywIOpMw0l4k"
   },
   "source": [
    "### Independencia (Demographic Parity)"
   ]
  },
  {
   "cell_type": "markdown",
   "metadata": {
    "id": "j7jAqwb8l6XB"
   },
   "source": [
    "### Separación (Equalized Odds)"
   ]
  },
  {
   "cell_type": "code",
   "execution_count": 33,
   "metadata": {
    "colab": {
     "base_uri": "https://localhost:8080/",
     "height": 206
    },
    "id": "WEvI3mlylObY",
    "outputId": "77c5bc6f-0ce6-4390-9bc1-3472e114970a"
   },
   "outputs": [
    {
     "data": {
      "text/html": [
       "<div>\n",
       "<style scoped>\n",
       "    .dataframe tbody tr th:only-of-type {\n",
       "        vertical-align: middle;\n",
       "    }\n",
       "\n",
       "    .dataframe tbody tr th {\n",
       "        vertical-align: top;\n",
       "    }\n",
       "\n",
       "    .dataframe thead th {\n",
       "        text-align: right;\n",
       "    }\n",
       "</style>\n",
       "<table border=\"1\" class=\"dataframe\">\n",
       "  <thead>\n",
       "    <tr style=\"text-align: right;\">\n",
       "      <th></th>\n",
       "      <th>age</th>\n",
       "      <th>sex</th>\n",
       "      <th>y_pred</th>\n",
       "      <th>y_true</th>\n",
       "    </tr>\n",
       "  </thead>\n",
       "  <tbody>\n",
       "    <tr>\n",
       "      <th>25618</th>\n",
       "      <td>1</td>\n",
       "      <td>1</td>\n",
       "      <td>1</td>\n",
       "      <td>1</td>\n",
       "    </tr>\n",
       "    <tr>\n",
       "      <th>42065</th>\n",
       "      <td>1</td>\n",
       "      <td>0</td>\n",
       "      <td>0</td>\n",
       "      <td>1</td>\n",
       "    </tr>\n",
       "    <tr>\n",
       "      <th>45990</th>\n",
       "      <td>1</td>\n",
       "      <td>0</td>\n",
       "      <td>0</td>\n",
       "      <td>0</td>\n",
       "    </tr>\n",
       "    <tr>\n",
       "      <th>38179</th>\n",
       "      <td>1</td>\n",
       "      <td>0</td>\n",
       "      <td>0</td>\n",
       "      <td>0</td>\n",
       "    </tr>\n",
       "    <tr>\n",
       "      <th>39821</th>\n",
       "      <td>1</td>\n",
       "      <td>1</td>\n",
       "      <td>0</td>\n",
       "      <td>0</td>\n",
       "    </tr>\n",
       "  </tbody>\n",
       "</table>\n",
       "</div>"
      ],
      "text/plain": [
       "       age  sex  y_pred  y_true\n",
       "25618    1    1       1       1\n",
       "42065    1    0       0       1\n",
       "45990    1    0       0       0\n",
       "38179    1    0       0       0\n",
       "39821    1    1       0       0"
      ]
     },
     "execution_count": 33,
     "metadata": {},
     "output_type": "execute_result"
    }
   ],
   "source": [
    "X_test_fitted_pre = X_test_pre.copy()\n",
    "\n",
    "X_test_fitted_pre = X_test_fitted_pre[['age', 'sex']]\n",
    "X_test_fitted_pre.loc[:, 'y_pred'] = y_pred_logistic_pre\n",
    "X_test_fitted_pre['y_true'] = y_test_pre.values\n",
    "X_test_fitted_pre.head()"
   ]
  },
  {
   "cell_type": "code",
   "execution_count": 34,
   "metadata": {
    "colab": {
     "base_uri": "https://localhost:8080/"
    },
    "id": "l92PisY7ltZe",
    "outputId": "ce0266bc-7ba3-4645-c0c1-4b1dba509f17"
   },
   "outputs": [
    {
     "name": "stdout",
     "output_type": "stream",
     "text": [
      "Age Group: Older Adults\n",
      "  True Positive Rate (TPR): 0.57\n",
      "  False Positive Rate (FPR): 0.08\n",
      "Age Group: Young Adults\n",
      "  True Positive Rate (TPR): 0.54\n",
      "  False Positive Rate (FPR): 0.05\n"
     ]
    }
   ],
   "source": [
    "for age in [0, 1]:\n",
    "    tpr, fpr = calculate_tpr_fpr_age(X_test_fitted_pre, age)\n",
    "    age_label = 'Older Adults' if age == 0 else 'Young Adults'\n",
    "    print(f\"Age Group: {age_label}\")\n",
    "    print(f\"  True Positive Rate (TPR): {tpr:.2f}\")\n",
    "    print(f\"  False Positive Rate (FPR): {fpr:.2f}\")"
   ]
  },
  {
   "cell_type": "code",
   "execution_count": 35,
   "metadata": {
    "colab": {
     "base_uri": "https://localhost:8080/"
    },
    "id": "P-_iOE3wmIoa",
    "outputId": "395d83b7-4a7e-4397-9d98-78882672b3c5"
   },
   "outputs": [
    {
     "name": "stdout",
     "output_type": "stream",
     "text": [
      "Sex Group: Female\n",
      "  True Positive Rate (TPR): 0.47\n",
      "  False Positive Rate (FPR): 0.02\n",
      "Sex Group: Male\n",
      "  True Positive Rate (TPR): 0.56\n",
      "  False Positive Rate (FPR): 0.08\n"
     ]
    }
   ],
   "source": [
    "for sex in [0, 1]:\n",
    "    tpr, fpr = calculate_tpr_fpr_sex(X_test_fitted_pre, sex)\n",
    "    sex_label = 'Female' if sex == 0 else 'Male'\n",
    "    print(f\"Sex Group: {sex_label}\")\n",
    "    print(f\"  True Positive Rate (TPR): {tpr:.2f}\")\n",
    "    print(f\"  False Positive Rate (FPR): {fpr:.2f}\")"
   ]
  },
  {
   "cell_type": "markdown",
   "metadata": {
    "id": "qIWoDqa30mHI"
   },
   "source": [
    "### Suficiencia (Predictive Parity)"
   ]
  },
  {
   "cell_type": "markdown",
   "metadata": {
    "id": "aSQYOgL504SD"
   },
   "source": [
    "## Combinación 2: In-procesamiento + Post-Procesamiento"
   ]
  },
  {
   "cell_type": "code",
   "execution_count": 36,
   "metadata": {
    "id": "wyd97ICz083J"
   },
   "outputs": [],
   "source": [
    "## Código que combine las dos técnicas"
   ]
  },
  {
   "cell_type": "markdown",
   "metadata": {
    "id": "Dr2hhtAJ1HME"
   },
   "source": [
    "### Independencia (Demographic Parity)"
   ]
  },
  {
   "cell_type": "code",
   "execution_count": 37,
   "metadata": {
    "id": "4NLywt1Z1Oju"
   },
   "outputs": [],
   "source": [
    "# Código de Independencia"
   ]
  },
  {
   "cell_type": "markdown",
   "metadata": {
    "id": "AyfS8ENZ1LEU"
   },
   "source": [
    "### Separación (Equalized Odds)"
   ]
  },
  {
   "cell_type": "code",
   "execution_count": 38,
   "metadata": {
    "id": "l2aTbcPN1Qsq"
   },
   "outputs": [],
   "source": [
    "# Código de Separación"
   ]
  },
  {
   "cell_type": "markdown",
   "metadata": {
    "id": "du0nPRCR1CnU"
   },
   "source": [
    "### Suficiencia (Predictive Parity)"
   ]
  },
  {
   "cell_type": "code",
   "execution_count": 39,
   "metadata": {
    "id": "Cje5Xbu91CC5"
   },
   "outputs": [],
   "source": [
    "# Código de Suficiencia"
   ]
  },
  {
   "cell_type": "markdown",
   "metadata": {
    "id": "WDyfGMxM1ayd"
   },
   "source": [
    "## Combinación 3: Pre-procesamiento + Post-Procesamiento"
   ]
  },
  {
   "cell_type": "code",
   "execution_count": 40,
   "metadata": {
    "id": "C9O9-ukl1aye"
   },
   "outputs": [],
   "source": [
    "## Código que combine las dos técnicas"
   ]
  },
  {
   "cell_type": "markdown",
   "metadata": {
    "id": "Gld5EHJy1aye"
   },
   "source": [
    "### Independencia (Demographic Parity)"
   ]
  },
  {
   "cell_type": "code",
   "execution_count": 41,
   "metadata": {
    "id": "il05ry-y1ayf"
   },
   "outputs": [],
   "source": [
    "# Código de Independencia"
   ]
  },
  {
   "cell_type": "markdown",
   "metadata": {
    "id": "d2O_Oc511ayf"
   },
   "source": [
    "### Separación (Equalized Odds)"
   ]
  },
  {
   "cell_type": "code",
   "execution_count": 42,
   "metadata": {
    "id": "T8gtxWls1ayf"
   },
   "outputs": [],
   "source": [
    "# Código de Separación"
   ]
  },
  {
   "cell_type": "markdown",
   "metadata": {
    "id": "USapjYuh1ayf"
   },
   "source": [
    "### Suficiencia (Predictive Parity)"
   ]
  },
  {
   "cell_type": "code",
   "execution_count": 43,
   "metadata": {
    "id": "E6e5O5-a1ayf"
   },
   "outputs": [],
   "source": [
    "# Código de Suficiencia"
   ]
  },
  {
   "cell_type": "markdown",
   "metadata": {
    "id": "AmNHfI0d1tyZ"
   },
   "source": [
    "## Combinación 4: Pre-procesamiento + In-Procesamiento + Post-Procesamiento"
   ]
  },
  {
   "cell_type": "code",
   "execution_count": 44,
   "metadata": {
    "id": "_L3bpAGk1tyZ"
   },
   "outputs": [],
   "source": [
    "## Código que combine las dos técnicas"
   ]
  },
  {
   "cell_type": "markdown",
   "metadata": {
    "id": "w1x4Qg6m1tya"
   },
   "source": [
    "### Independencia (Demographic Parity)"
   ]
  },
  {
   "cell_type": "code",
   "execution_count": 45,
   "metadata": {
    "id": "UduOtFUO1tya"
   },
   "outputs": [],
   "source": [
    "# Código de Independencia"
   ]
  },
  {
   "cell_type": "markdown",
   "metadata": {
    "id": "Sth3VWqq1tya"
   },
   "source": [
    "### Separación (Equalized Odds)"
   ]
  },
  {
   "cell_type": "code",
   "execution_count": 46,
   "metadata": {
    "id": "0hPLa-Sh1tya"
   },
   "outputs": [],
   "source": [
    "# Código de Separación"
   ]
  },
  {
   "cell_type": "markdown",
   "metadata": {
    "id": "ue09jjXI1tya"
   },
   "source": [
    "### Suficiencia (Predictive Parity)"
   ]
  },
  {
   "cell_type": "code",
   "execution_count": 47,
   "metadata": {
    "id": "1yRr99hB1tyb"
   },
   "outputs": [],
   "source": [
    "# Código de Suficiencia"
   ]
  }
 ],
 "metadata": {
  "colab": {
   "provenance": []
  },
  "kernelspec": {
   "display_name": ".venv",
   "language": "python",
   "name": "python3"
  },
  "language_info": {
   "codemirror_mode": {
    "name": "ipython",
    "version": 3
   },
   "file_extension": ".py",
   "mimetype": "text/x-python",
   "name": "python",
   "nbconvert_exporter": "python",
   "pygments_lexer": "ipython3",
   "version": "3.12.6"
  }
 },
 "nbformat": 4,
 "nbformat_minor": 0
}
